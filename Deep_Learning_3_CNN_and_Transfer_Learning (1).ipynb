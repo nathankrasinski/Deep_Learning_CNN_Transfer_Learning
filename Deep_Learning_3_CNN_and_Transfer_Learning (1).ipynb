{
  "nbformat": 4,
  "nbformat_minor": 0,
  "metadata": {
    "colab": {
      "provenance": []
    },
    "kernelspec": {
      "name": "python3",
      "display_name": "Python 3"
    },
    "language_info": {
      "name": "python"
    },
    "accelerator": "GPU",
    "gpuClass": "premium"
  },
  "cells": [
    {
      "cell_type": "code",
      "execution_count": null,
      "metadata": {
        "id": "a4DuugQxc8pz"
      },
      "outputs": [],
      "source": [
        "#importing required libraries\n",
        "import tensorflow as tf\n",
        "from tensorflow import keras\n",
        "from tensorflow.keras import layers\n",
        "import numpy as np\n",
        "import random\n",
        "import math\n",
        "import matplotlib.pyplot as plt\n",
        "import zipfile\n"
      ]
    },
    {
      "cell_type": "markdown",
      "source": [
        "# 1. Getting the Data\n",
        "We are going to use [Kaggle's Intel Image Classification Challenge](https://www.kaggle.com/puneet6060/intel-image-classification). I uploaded this dataset to my google drive so it can be downloaded with linux shell \"wget\" command. You can run any shell command from within jupyter notebook by putting the \"!\" mark before that command."
      ],
      "metadata": {
        "id": "bNyPVqZBdm_9"
      }
    },
    {
      "cell_type": "code",
      "source": [
        "# downloading the files from dropbox. This will download cats-vs-dogs zipfile into your machine\n",
        "!wget --no-check-certificate  \"https://drive.google.com/file/d/1CMiTTVfEoMJ0FZorE08ZWBt2i2pWLSEC/view?usp=sharing\" -O intel-challenge.zip\n",
        "\n",
        "#extract the zip file downloaded\n",
        "zip_ref = zipfile.ZipFile('intel-challenge.zip', 'r')\n",
        "zip_ref.extractall()"
      ],
      "metadata": {
        "colab": {
          "base_uri": "https://localhost:8080/"
        },
        "id": "PH56CzqQdeNx",
        "outputId": "195a36e4-6acf-4756-904f-b1881fd68bd2"
      },
      "execution_count": null,
      "outputs": [
        {
          "output_type": "stream",
          "name": "stdout",
          "text": [
            "--2022-10-21 00:38:09--  https://uofi.box.com/shared/static/5tp2foxit52byt2zh9eqnnd8oi3ac9ym.zip\n",
            "Resolving uofi.box.com (uofi.box.com)... 74.112.186.144\n",
            "Connecting to uofi.box.com (uofi.box.com)|74.112.186.144|:443... connected.\n",
            "HTTP request sent, awaiting response... 301 Moved Permanently\n",
            "Location: /public/static/5tp2foxit52byt2zh9eqnnd8oi3ac9ym.zip [following]\n",
            "--2022-10-21 00:38:09--  https://uofi.box.com/public/static/5tp2foxit52byt2zh9eqnnd8oi3ac9ym.zip\n",
            "Reusing existing connection to uofi.box.com:443.\n",
            "HTTP request sent, awaiting response... 301 Moved Permanently\n",
            "Location: https://uofi.app.box.com/public/static/5tp2foxit52byt2zh9eqnnd8oi3ac9ym.zip [following]\n",
            "--2022-10-21 00:38:09--  https://uofi.app.box.com/public/static/5tp2foxit52byt2zh9eqnnd8oi3ac9ym.zip\n",
            "Resolving uofi.app.box.com (uofi.app.box.com)... 74.112.186.144\n",
            "Connecting to uofi.app.box.com (uofi.app.box.com)|74.112.186.144|:443... connected.\n",
            "HTTP request sent, awaiting response... 302 Found\n",
            "Location: https://dl2.boxcloud.com/d/1/b1!iy6RR6Z_0oXUFfwDCXyueG-GWyVyw_KcFtGios61ngJs4xZdD0aL8bEzUwtbvWRdkry4m9Y6p_k0-glD9bGG7cbZZpO-7y0i_de-RSGa_VVIqV0xeddOHtiWSBBKBwkdwVIL05wwx0_KtQjmsC4OgCZ30OAEVrYgZAypI7tE7AIfyJh5Yg5Ll2DTmvZ1W18MIVRE6NrMstFPvArRI8NVkzzqxqxgYl58dokprp6pnlGqdtFaYHxyxjBTE1pvXp4vvQc-HZk7vrAuC3VQNEfoASG0Qz49S-VF8v_Qgc2rXoqMxuAOxb0KWtoMFZBmbFF6XzaBWeX2Jv4HVrvbSvUTSZkcymwwGmEENYc0UrGyn7nI53KuIMLXUN-L9oqkbd_CFN0D_J4r5Kd8x9QqNYfxiN3z0H1V1yCuKVWq7GlRfeDAHghniBQOPWrOl3WZlECHRLwYmPF-OKt--oEPP6cm0DASnOI8YmnG0JF2Xm4NPx2BfflV8-mxTnGucFXD1ft5klBI3jUwbRwYbalBLXNwKP2Dd8r-LNyF6ANgfgvY8IumZcKxB2h88Ecr6HPl39QTA4eMOEBaKaTWDVYeTxAf-MxEgcFtvNsqt7nMYAbaCJeEKLASmKeQsxV9d7w3zPmEFY-kooCy_5gXwH4v7rPdjHOFliKKxw1bu3fyy3t9OFW95p5sjRYUNdw4qnUvjSmdOw7MTPA23V86eGHICQFsIOwvvSrgJABlMys3Jaq2r0GucAnNch1dv743iIVDdpUFpuRI1wdD1W5P959dCWELDh39CA291HWEMEz5HYClKtAJIYUFMG1wPnjoLzDI6x8fwKDWHZL-jDuO3oOiHXi9agqu4Yxawe4cePrzoNQX1OdNi28q6t6SpFVRzcBCwgj4C34c-7yBcaxPXEkiC4UhMHXrrmTTOMud5n0lZpelQDH443xJzAOYpXqz4FhAnhANYFUahUwC_qYmLEzbja_Qy6peC-YAYkbJKj0i-bwvBi1FS5y0NqZfCEvkg0adFp32l1fb9QmOLhMJS_xuZsLi-L0yjSkf1X91qWUlAVNn5QWfeUl4UcEZ0vhTCm9mMn9YJdYWrY9wRw8Hi41RjN8RJK3-c7PNNPXZvAqwHOzYoiZX-6wVMhxqvJ_l-FbqgwZ60216mAda3yVEjF-oU1YS9EdGAA7ALiwJbi3HbadF5v00Eaz1SHzeu14MavsaTALXL7sUQWHVgone8BLZYx0skTvUFn6njy80zAHjbWeFTNBzfH6ySgYV_YSDbvTgrDCmxu_RB2DNHttLlW56LRNWUNiJdg5EwX1Y292RQ3HEndgvxn8odibAzTQkaBXNLggMkgJaIAIya5o5SOqcudHK5SZYZ3kZotggv1qseCGsui3qc_Pe-B8sD5EXjkMSRBW0znBy1Mtcvg../download [following]\n",
            "--2022-10-21 00:38:10--  https://dl2.boxcloud.com/d/1/b1!iy6RR6Z_0oXUFfwDCXyueG-GWyVyw_KcFtGios61ngJs4xZdD0aL8bEzUwtbvWRdkry4m9Y6p_k0-glD9bGG7cbZZpO-7y0i_de-RSGa_VVIqV0xeddOHtiWSBBKBwkdwVIL05wwx0_KtQjmsC4OgCZ30OAEVrYgZAypI7tE7AIfyJh5Yg5Ll2DTmvZ1W18MIVRE6NrMstFPvArRI8NVkzzqxqxgYl58dokprp6pnlGqdtFaYHxyxjBTE1pvXp4vvQc-HZk7vrAuC3VQNEfoASG0Qz49S-VF8v_Qgc2rXoqMxuAOxb0KWtoMFZBmbFF6XzaBWeX2Jv4HVrvbSvUTSZkcymwwGmEENYc0UrGyn7nI53KuIMLXUN-L9oqkbd_CFN0D_J4r5Kd8x9QqNYfxiN3z0H1V1yCuKVWq7GlRfeDAHghniBQOPWrOl3WZlECHRLwYmPF-OKt--oEPP6cm0DASnOI8YmnG0JF2Xm4NPx2BfflV8-mxTnGucFXD1ft5klBI3jUwbRwYbalBLXNwKP2Dd8r-LNyF6ANgfgvY8IumZcKxB2h88Ecr6HPl39QTA4eMOEBaKaTWDVYeTxAf-MxEgcFtvNsqt7nMYAbaCJeEKLASmKeQsxV9d7w3zPmEFY-kooCy_5gXwH4v7rPdjHOFliKKxw1bu3fyy3t9OFW95p5sjRYUNdw4qnUvjSmdOw7MTPA23V86eGHICQFsIOwvvSrgJABlMys3Jaq2r0GucAnNch1dv743iIVDdpUFpuRI1wdD1W5P959dCWELDh39CA291HWEMEz5HYClKtAJIYUFMG1wPnjoLzDI6x8fwKDWHZL-jDuO3oOiHXi9agqu4Yxawe4cePrzoNQX1OdNi28q6t6SpFVRzcBCwgj4C34c-7yBcaxPXEkiC4UhMHXrrmTTOMud5n0lZpelQDH443xJzAOYpXqz4FhAnhANYFUahUwC_qYmLEzbja_Qy6peC-YAYkbJKj0i-bwvBi1FS5y0NqZfCEvkg0adFp32l1fb9QmOLhMJS_xuZsLi-L0yjSkf1X91qWUlAVNn5QWfeUl4UcEZ0vhTCm9mMn9YJdYWrY9wRw8Hi41RjN8RJK3-c7PNNPXZvAqwHOzYoiZX-6wVMhxqvJ_l-FbqgwZ60216mAda3yVEjF-oU1YS9EdGAA7ALiwJbi3HbadF5v00Eaz1SHzeu14MavsaTALXL7sUQWHVgone8BLZYx0skTvUFn6njy80zAHjbWeFTNBzfH6ySgYV_YSDbvTgrDCmxu_RB2DNHttLlW56LRNWUNiJdg5EwX1Y292RQ3HEndgvxn8odibAzTQkaBXNLggMkgJaIAIya5o5SOqcudHK5SZYZ3kZotggv1qseCGsui3qc_Pe-B8sD5EXjkMSRBW0znBy1Mtcvg../download\n",
            "Resolving dl2.boxcloud.com (dl2.boxcloud.com)... 74.112.186.130\n",
            "Connecting to dl2.boxcloud.com (dl2.boxcloud.com)|74.112.186.130|:443... connected.\n",
            "HTTP request sent, awaiting response... 200 OK\n",
            "Length: 254578215 (243M) [application/zip]\n",
            "Saving to: ‘intel-challenge.zip’\n",
            "\n",
            "intel-challenge.zip 100%[===================>] 242.78M  13.6MB/s    in 17s     \n",
            "\n",
            "2022-10-21 00:38:28 (14.1 MB/s) - ‘intel-challenge.zip’ saved [254578215/254578215]\n",
            "\n"
          ]
        }
      ]
    },
    {
      "cell_type": "markdown",
      "source": [
        "# 2. Preparing the data\n",
        "\n",
        "\n",
        "##2.1 Checking the balance of the data\n",
        "\n",
        "##2.2 Split training data into training and validation data"
      ],
      "metadata": {
        "id": "kbd-VDxnf0SS"
      }
    },
    {
      "cell_type": "code",
      "source": [
        "import os,shutil\n",
        "\n",
        "print('total training building images:', len(os.listdir('intel/seg_train/buildings/')))\n",
        "print('total training forest images:', len(os.listdir('intel/seg_train/forest/')))\n",
        "print('total training glacier images:', len(os.listdir('intel/seg_train/glacier/')))\n",
        "print('total training mountain images:', len(os.listdir('intel/seg_train/mountain/')))\n",
        "print('total training sea images:', len(os.listdir('intel/seg_train/sea/')))\n",
        "print('total training street images:', len(os.listdir('intel/seg_train/street/')))\n",
        "print('total test building images:', len(os.listdir('intel/seg_test/buildings/')))\n",
        "print('total test forest images:', len(os.listdir('intel/seg_test/forest/')))\n",
        "print('total test glacier images:', len(os.listdir('intel/seg_test/glacier/')))\n",
        "print('total test mountain images:', len(os.listdir('intel/seg_test/mountain/')))\n",
        "print('total test sea images:', len(os.listdir('intel/seg_test/sea/')))\n",
        "print('total test street images:', len(os.listdir('intel/seg_test/street/')))"
      ],
      "metadata": {
        "colab": {
          "base_uri": "https://localhost:8080/"
        },
        "id": "xfs4Vew_gu5G",
        "outputId": "10aff8cc-13eb-489d-b01d-35b5a51343cd"
      },
      "execution_count": null,
      "outputs": [
        {
          "output_type": "stream",
          "name": "stdout",
          "text": [
            "total training building images: 2191\n",
            "total training forest images: 2271\n",
            "total training glacier images: 2404\n",
            "total training mountain images: 2512\n",
            "total training sea images: 2274\n",
            "total training street images: 2382\n",
            "total test building images: 437\n",
            "total test forest images: 474\n",
            "total test glacier images: 553\n",
            "total test mountain images: 525\n",
            "total test sea images: 510\n",
            "total test street images: 501\n"
          ]
        }
      ]
    },
    {
      "cell_type": "markdown",
      "source": [
        "Data is pretty well balanced with no category excessively under or over represented."
      ],
      "metadata": {
        "id": "fut3GjpGlZL4"
      }
    },
    {
      "cell_type": "markdown",
      "source": [
        "####Split 20% of training data into validation data"
      ],
      "metadata": {
        "id": "fAuNrGIlswLS"
      }
    },
    {
      "cell_type": "code",
      "source": [
        "os.mkdir('intel/seg_val')\n",
        "os.mkdir('intel/seg_val/buildings')\n",
        "os.mkdir('intel/seg_val/forest')\n",
        "os.mkdir('intel/seg_val/glacier')\n",
        "os.mkdir('intel/seg_val/mountain')\n",
        "os.mkdir('intel/seg_val/sea')\n",
        "os.mkdir('intel/seg_val/street')"
      ],
      "metadata": {
        "id": "329DXRRel5Gw"
      },
      "execution_count": null,
      "outputs": []
    },
    {
      "cell_type": "code",
      "source": [
        "# move buildings files\n",
        "source = 'intel/seg_train/buildings/'\n",
        "dest = 'intel/seg_val/buildings/'\n",
        "files = os.listdir(source)\n",
        "no_of_files = round(0.2*len(files))\n",
        "\n",
        "for file_name in random.sample(files, no_of_files):\n",
        "  shutil.move(os.path.join(source, file_name), dest)\n",
        "\n",
        "# move forest files\n",
        "source = 'intel/seg_train/forest/'\n",
        "dest = 'intel/seg_val/forest/'\n",
        "files = os.listdir(source)\n",
        "no_of_files = round(0.2*len(files))\n",
        "\n",
        "for file_name in random.sample(files, no_of_files):\n",
        "  shutil.move(os.path.join(source, file_name), dest)\n",
        "\n",
        " # move glacier files\n",
        "source = 'intel/seg_train/glacier/'\n",
        "dest = 'intel/seg_val/glacier/'\n",
        "files = os.listdir(source)\n",
        "no_of_files = round(0.2*len(files))\n",
        "\n",
        "for file_name in random.sample(files, no_of_files):\n",
        "  shutil.move(os.path.join(source, file_name), dest)\n",
        "\n",
        " # move mountain files\n",
        "source = 'intel/seg_train/mountain/'\n",
        "dest = 'intel/seg_val/mountain/'\n",
        "files = os.listdir(source)\n",
        "no_of_files = round(0.2*len(files))\n",
        "\n",
        "for file_name in random.sample(files, no_of_files):\n",
        "  shutil.move(os.path.join(source, file_name), dest)\n",
        "\n",
        " # move sea files\n",
        "source = 'intel/seg_train/sea/'\n",
        "dest = 'intel/seg_val/sea/'\n",
        "files = os.listdir(source)\n",
        "no_of_files = round(0.2*len(files))\n",
        "\n",
        "for file_name in random.sample(files, no_of_files):\n",
        "  shutil.move(os.path.join(source, file_name), dest)\n",
        "\n",
        " # move street files\n",
        "source = 'intel/seg_train/street/'\n",
        "dest = 'intel/seg_val/street/'\n",
        "files = os.listdir(source)\n",
        "no_of_files = round(0.2*len(files))\n",
        "\n",
        "for file_name in random.sample(files, no_of_files):\n",
        "  shutil.move(os.path.join(source, file_name), dest)      \n"
      ],
      "metadata": {
        "id": "nssji-lXnHLf"
      },
      "execution_count": null,
      "outputs": []
    },
    {
      "cell_type": "markdown",
      "source": [
        "Split Check"
      ],
      "metadata": {
        "id": "wQ_avLchtVAU"
      }
    },
    {
      "cell_type": "code",
      "source": [
        "print('total training building images:', len(os.listdir('intel/seg_train/buildings/')))\n",
        "print('total training forest images:', len(os.listdir('intel/seg_train/forest/')))\n",
        "print('total training glacier images:', len(os.listdir('intel/seg_train/glacier/')))\n",
        "print('total training mountain images:', len(os.listdir('intel/seg_train/mountain/')))\n",
        "print('total training sea images:', len(os.listdir('intel/seg_train/sea/')))\n",
        "print('total training street images:', len(os.listdir('intel/seg_train/street/')))\n",
        "\n",
        "print('total validation building images:', len(os.listdir('intel/seg_val/buildings/')))\n",
        "print('total validation forest images:', len(os.listdir('intel/seg_val/forest/')))\n",
        "print('total validation glacier images:', len(os.listdir('intel/seg_val/glacier/')))\n",
        "print('total validation mountain images:', len(os.listdir('intel/seg_val/mountain/')))\n",
        "print('total validation sea images:', len(os.listdir('intel/seg_val/sea/')))\n",
        "print('total validation street images:', len(os.listdir('intel/seg_val/street/')))\n",
        "\n",
        "print('total test building images:', len(os.listdir('intel/seg_test/buildings/')))\n",
        "print('total test forest images:', len(os.listdir('intel/seg_test/forest/')))\n",
        "print('total test glacier images:', len(os.listdir('intel/seg_test/glacier/')))\n",
        "print('total test mountain images:', len(os.listdir('intel/seg_test/mountain/')))\n",
        "print('total test sea images:', len(os.listdir('intel/seg_test/sea/')))\n",
        "print('total test street images:', len(os.listdir('intel/seg_test/street/')))"
      ],
      "metadata": {
        "colab": {
          "base_uri": "https://localhost:8080/"
        },
        "id": "-_GyZ3kitUfn",
        "outputId": "df5703d1-87d9-4298-8ee4-9468cefbc944"
      },
      "execution_count": null,
      "outputs": [
        {
          "output_type": "stream",
          "name": "stdout",
          "text": [
            "total training building images: 1753\n",
            "total training forest images: 1817\n",
            "total training glacier images: 1923\n",
            "total training mountain images: 2010\n",
            "total training sea images: 1819\n",
            "total training street images: 1906\n",
            "total validation building images: 438\n",
            "total validation forest images: 454\n",
            "total validation glacier images: 481\n",
            "total validation mountain images: 502\n",
            "total validation sea images: 455\n",
            "total validation street images: 476\n",
            "total test building images: 437\n",
            "total test forest images: 474\n",
            "total test glacier images: 553\n",
            "total test mountain images: 525\n",
            "total test sea images: 510\n",
            "total test street images: 501\n"
          ]
        }
      ]
    },
    {
      "cell_type": "markdown",
      "source": [
        "## Converting Images to Tensorflow Dataset"
      ],
      "metadata": {
        "id": "JbWQLzO2uEUv"
      }
    },
    {
      "cell_type": "code",
      "source": [
        "from tensorflow.keras.preprocessing import image_dataset_from_directory\n",
        "train_dataset = image_dataset_from_directory(\n",
        "\"intel/seg_train\",\n",
        "image_size=(150, 150),\n",
        "batch_size=32)\n",
        "\n",
        "\n",
        "validation_dataset = image_dataset_from_directory(\n",
        "\"intel/seg_val\",\n",
        "image_size=(150, 150),\n",
        "batch_size=32)\n",
        "\n",
        "\n",
        "#test_dataset = image_dataset_from_directory(\n",
        "#\"intel/seg_test\",\n",
        "#image_size=(150, 150),\n",
        "#batch_size=32)"
      ],
      "metadata": {
        "colab": {
          "base_uri": "https://localhost:8080/"
        },
        "id": "ftx7nfdIuPX5",
        "outputId": "7d8bf2b5-8e81-4c15-a484-3b03b0131334"
      },
      "execution_count": null,
      "outputs": [
        {
          "output_type": "stream",
          "name": "stdout",
          "text": [
            "Found 11228 files belonging to 6 classes.\n",
            "Found 2806 files belonging to 6 classes.\n"
          ]
        }
      ]
    },
    {
      "cell_type": "markdown",
      "source": [
        "#Create Baseline Model"
      ],
      "metadata": {
        "id": "ULCeL0ADyBWG"
      }
    },
    {
      "cell_type": "code",
      "source": [
        "#setting the random seeds for  python, numpy, and tensorflow for the purpose of reproducibility. \n",
        "random.seed(123)\n",
        "np.random.seed(123)\n",
        "tf.random.set_seed(123)\n",
        "\n",
        "def build_baseline(input_shape, filters):\n",
        "\n",
        "  #Configuring the model architecture\n",
        "\n",
        "  #input layer for getting the input image\n",
        "  input = keras.Input(shape=input_shape)\n",
        "\n",
        "  #rescaling layer for rescalign pixels to [0,1] range\n",
        "  x = layers.experimental.preprocessing.Rescaling(1./255)(input)\n",
        "\n",
        "\n",
        "  for filter in filters:\n",
        "    #A block of one conv+batchnorm+relu  layers for extractign features\n",
        "    x =layers.Conv2D(filters=filter, kernel_size=3, padding=\"same\", use_bias=False)(x)\n",
        "    x= layers.BatchNormalization()(x)\n",
        "    x= layers.ReLU()(x)\n",
        "\n",
        "    #max pooling for downsampling\n",
        "    x = layers.MaxPooling2D(pool_size=2, padding=\"same\")(x)\n",
        "\n",
        "  #Global Average pooling. This will get an input of shape (height, width, channels) the average of each feature map and returns a vector of size channels.\n",
        "  x = layers.GlobalAveragePooling2D()(x)\n",
        "\n",
        "  #The final output layer has one neuron with sigmoid activation to output the probability of the target class ( cate or dog whichever is labled as one)\n",
        "  output=layers.Dense(6, activation=\"softmax\")(x)\n",
        "  #create a model and set its input and output and return it\n",
        "  model = keras.Model(inputs=input, outputs=output)\n",
        "  return model\n",
        "baseline=build_baseline(input_shape=(150,150,3), filters=[32,64,128, 256])\n",
        "print(baseline.summary())"
      ],
      "metadata": {
        "colab": {
          "base_uri": "https://localhost:8080/"
        },
        "id": "MDtFz8LoyAXZ",
        "outputId": "e7342d38-239f-4ddf-c57a-d12d09029e01"
      },
      "execution_count": null,
      "outputs": [
        {
          "output_type": "stream",
          "name": "stdout",
          "text": [
            "Model: \"model\"\n",
            "_________________________________________________________________\n",
            " Layer (type)                Output Shape              Param #   \n",
            "=================================================================\n",
            " input_1 (InputLayer)        [(None, 150, 150, 3)]     0         \n",
            "                                                                 \n",
            " rescaling (Rescaling)       (None, 150, 150, 3)       0         \n",
            "                                                                 \n",
            " conv2d (Conv2D)             (None, 150, 150, 32)      864       \n",
            "                                                                 \n",
            " batch_normalization (BatchN  (None, 150, 150, 32)     128       \n",
            " ormalization)                                                   \n",
            "                                                                 \n",
            " re_lu (ReLU)                (None, 150, 150, 32)      0         \n",
            "                                                                 \n",
            " max_pooling2d (MaxPooling2D  (None, 75, 75, 32)       0         \n",
            " )                                                               \n",
            "                                                                 \n",
            " conv2d_1 (Conv2D)           (None, 75, 75, 64)        18432     \n",
            "                                                                 \n",
            " batch_normalization_1 (Batc  (None, 75, 75, 64)       256       \n",
            " hNormalization)                                                 \n",
            "                                                                 \n",
            " re_lu_1 (ReLU)              (None, 75, 75, 64)        0         \n",
            "                                                                 \n",
            " max_pooling2d_1 (MaxPooling  (None, 38, 38, 64)       0         \n",
            " 2D)                                                             \n",
            "                                                                 \n",
            " conv2d_2 (Conv2D)           (None, 38, 38, 128)       73728     \n",
            "                                                                 \n",
            " batch_normalization_2 (Batc  (None, 38, 38, 128)      512       \n",
            " hNormalization)                                                 \n",
            "                                                                 \n",
            " re_lu_2 (ReLU)              (None, 38, 38, 128)       0         \n",
            "                                                                 \n",
            " max_pooling2d_2 (MaxPooling  (None, 19, 19, 128)      0         \n",
            " 2D)                                                             \n",
            "                                                                 \n",
            " conv2d_3 (Conv2D)           (None, 19, 19, 256)       294912    \n",
            "                                                                 \n",
            " batch_normalization_3 (Batc  (None, 19, 19, 256)      1024      \n",
            " hNormalization)                                                 \n",
            "                                                                 \n",
            " re_lu_3 (ReLU)              (None, 19, 19, 256)       0         \n",
            "                                                                 \n",
            " max_pooling2d_3 (MaxPooling  (None, 10, 10, 256)      0         \n",
            " 2D)                                                             \n",
            "                                                                 \n",
            " global_average_pooling2d (G  (None, 256)              0         \n",
            " lobalAveragePooling2D)                                          \n",
            "                                                                 \n",
            " dense (Dense)               (None, 6)                 1542      \n",
            "                                                                 \n",
            "=================================================================\n",
            "Total params: 391,398\n",
            "Trainable params: 390,438\n",
            "Non-trainable params: 960\n",
            "_________________________________________________________________\n",
            "None\n"
          ]
        }
      ]
    },
    {
      "cell_type": "code",
      "source": [
        "from google.colab import drive\n",
        "drive.mount('/content/drive')"
      ],
      "metadata": {
        "colab": {
          "base_uri": "https://localhost:8080/"
        },
        "id": "oJ7xBlQOasj5",
        "outputId": "92856001-0ca2-4405-cf64-aaa189bb641d"
      },
      "execution_count": null,
      "outputs": [
        {
          "output_type": "stream",
          "name": "stdout",
          "text": [
            "Mounted at /content/drive\n"
          ]
        }
      ]
    },
    {
      "cell_type": "code",
      "source": [
        "lr_schedule = keras.optimizers.schedules.ExponentialDecay(\n",
        "    initial_learning_rate=1e-3,\n",
        "    decay_steps=1000,\n",
        "    decay_rate=0.9)\n",
        "\n",
        "#compiling the model\n",
        "opt = tf.keras.optimizers.Adam(learning_rate=lr_schedule)\n",
        "baseline.compile(loss=tf.keras.losses.SparseCategoricalCrossentropy(from_logits=False), metrics=['accuracy'], optimizer=opt)\n",
        "\n",
        "#callback for early stopping. stop the training if the validation_loss does not improve after 10 epochs\n",
        "early_stopping = tf.keras.callbacks.EarlyStopping(monitor='val_loss', patience=10, min_delta=1e-4, restore_best_weights=True)\n",
        "\n",
        "#save the checkpointed model in your google drive cnn_lab directory: \"drive/MyDrive/cnn_lab/baseline_checkpoint\" . \n",
        "checkpoint= keras.callbacks.ModelCheckpoint( filepath=\"drive/MyDrive/cnn_assign3/baseline_checkpoint\",save_best_only=True, monitor=\"val_loss\")\n",
        "\n",
        "history = baseline.fit(\n",
        "            train_dataset,\n",
        "            validation_data = validation_dataset,\n",
        "            epochs = 50,\n",
        "            verbose = 1,\n",
        "            callbacks=[early_stopping, checkpoint])\n",
        "\n",
        "#save history\n",
        "np.save('drive/MyDrive/cnn_assign3/baseline_checkpoint/history.npy', history)\n"
      ],
      "metadata": {
        "colab": {
          "base_uri": "https://localhost:8080/"
        },
        "id": "8rQZqDaOAx-w",
        "outputId": "c69aeed9-7c52-4bac-beea-644b655e9690"
      },
      "execution_count": null,
      "outputs": [
        {
          "output_type": "stream",
          "name": "stdout",
          "text": [
            "Epoch 1/50\n",
            "351/351 [==============================] - ETA: 0s - loss: 0.7779 - accuracy: 0.7090"
          ]
        },
        {
          "output_type": "stream",
          "name": "stderr",
          "text": [
            "WARNING:absl:Found untraced functions such as _jit_compiled_convolution_op, _jit_compiled_convolution_op, _jit_compiled_convolution_op, _jit_compiled_convolution_op while saving (showing 4 of 4). These functions will not be directly callable after loading.\n"
          ]
        },
        {
          "output_type": "stream",
          "name": "stdout",
          "text": [
            "\b\b\b\b\b\b\b\b\b\b\b\b\b\b\b\b\b\b\b\b\b\b\b\b\b\b\b\b\b\b\b\b\b\b\b\b\b\b\b\b\b\b\b\b\b\b\b\b\b\b\b\b\b\b\b\b\b\b\b\b\b\b\b\b\b\b\b\b\b\b\b\b\b\b\b\b\b\b\b\b\b\b\b\b\r351/351 [==============================] - 18s 22ms/step - loss: 0.7779 - accuracy: 0.7090 - val_loss: 1.7833 - val_accuracy: 0.4715\n",
            "Epoch 2/50\n",
            "349/351 [============================>.] - ETA: 0s - loss: 0.5923 - accuracy: 0.7797"
          ]
        },
        {
          "output_type": "stream",
          "name": "stderr",
          "text": [
            "WARNING:absl:Found untraced functions such as _jit_compiled_convolution_op, _jit_compiled_convolution_op, _jit_compiled_convolution_op, _jit_compiled_convolution_op while saving (showing 4 of 4). These functions will not be directly callable after loading.\n"
          ]
        },
        {
          "output_type": "stream",
          "name": "stdout",
          "text": [
            "\b\b\b\b\b\b\b\b\b\b\b\b\b\b\b\b\b\b\b\b\b\b\b\b\b\b\b\b\b\b\b\b\b\b\b\b\b\b\b\b\b\b\b\b\b\b\b\b\b\b\b\b\b\b\b\b\b\b\b\b\b\b\b\b\b\b\b\b\b\b\b\b\b\b\b\b\b\b\b\b\b\b\b\b\r351/351 [==============================] - 7s 21ms/step - loss: 0.5935 - accuracy: 0.7791 - val_loss: 1.1183 - val_accuracy: 0.5706\n",
            "Epoch 3/50\n",
            "351/351 [==============================] - 6s 16ms/step - loss: 0.5341 - accuracy: 0.8044 - val_loss: 1.4821 - val_accuracy: 0.5560\n",
            "Epoch 4/50\n",
            "348/351 [============================>.] - ETA: 0s - loss: 0.4897 - accuracy: 0.8201"
          ]
        },
        {
          "output_type": "stream",
          "name": "stderr",
          "text": [
            "WARNING:absl:Found untraced functions such as _jit_compiled_convolution_op, _jit_compiled_convolution_op, _jit_compiled_convolution_op, _jit_compiled_convolution_op while saving (showing 4 of 4). These functions will not be directly callable after loading.\n"
          ]
        },
        {
          "output_type": "stream",
          "name": "stdout",
          "text": [
            "\b\b\b\b\b\b\b\b\b\b\b\b\b\b\b\b\b\b\b\b\b\b\b\b\b\b\b\b\b\b\b\b\b\b\b\b\b\b\b\b\b\b\b\b\b\b\b\b\b\b\b\b\b\b\b\b\b\b\b\b\b\b\b\b\b\b\b\b\b\b\b\b\b\b\b\b\b\b\b\b\b\b\b\b\r351/351 [==============================] - 7s 21ms/step - loss: 0.4896 - accuracy: 0.8200 - val_loss: 0.7001 - val_accuracy: 0.7224\n",
            "Epoch 5/50\n",
            "351/351 [==============================] - 6s 16ms/step - loss: 0.4522 - accuracy: 0.8351 - val_loss: 0.8916 - val_accuracy: 0.7042\n",
            "Epoch 6/50\n",
            "351/351 [==============================] - 5s 15ms/step - loss: 0.4322 - accuracy: 0.8432 - val_loss: 3.2525 - val_accuracy: 0.3721\n",
            "Epoch 7/50\n",
            "350/351 [============================>.] - ETA: 0s - loss: 0.4090 - accuracy: 0.8521"
          ]
        },
        {
          "output_type": "stream",
          "name": "stderr",
          "text": [
            "WARNING:absl:Found untraced functions such as _jit_compiled_convolution_op, _jit_compiled_convolution_op, _jit_compiled_convolution_op, _jit_compiled_convolution_op while saving (showing 4 of 4). These functions will not be directly callable after loading.\n"
          ]
        },
        {
          "output_type": "stream",
          "name": "stdout",
          "text": [
            "\b\b\b\b\b\b\b\b\b\b\b\b\b\b\b\b\b\b\b\b\b\b\b\b\b\b\b\b\b\b\b\b\b\b\b\b\b\b\b\b\b\b\b\b\b\b\b\b\b\b\b\b\b\b\b\b\b\b\b\b\b\b\b\b\b\b\b\b\b\b\b\b\b\b\b\b\b\b\b\b\b\b\b\b\r351/351 [==============================] - 7s 20ms/step - loss: 0.4089 - accuracy: 0.8522 - val_loss: 0.6731 - val_accuracy: 0.7630\n",
            "Epoch 8/50\n",
            "351/351 [==============================] - 5s 15ms/step - loss: 0.3877 - accuracy: 0.8589 - val_loss: 1.2242 - val_accuracy: 0.6269\n",
            "Epoch 9/50\n",
            "350/351 [============================>.] - ETA: 0s - loss: 0.3658 - accuracy: 0.8666"
          ]
        },
        {
          "output_type": "stream",
          "name": "stderr",
          "text": [
            "WARNING:absl:Found untraced functions such as _jit_compiled_convolution_op, _jit_compiled_convolution_op, _jit_compiled_convolution_op, _jit_compiled_convolution_op while saving (showing 4 of 4). These functions will not be directly callable after loading.\n"
          ]
        },
        {
          "output_type": "stream",
          "name": "stdout",
          "text": [
            "\b\b\b\b\b\b\b\b\b\b\b\b\b\b\b\b\b\b\b\b\b\b\b\b\b\b\b\b\b\b\b\b\b\b\b\b\b\b\b\b\b\b\b\b\b\b\b\b\b\b\b\b\b\b\b\b\b\b\b\b\b\b\b\b\b\b\b\b\b\b\b\b\b\b\b\b\b\b\b\b\b\b\b\b\r351/351 [==============================] - 7s 21ms/step - loss: 0.3659 - accuracy: 0.8667 - val_loss: 0.4224 - val_accuracy: 0.8482\n",
            "Epoch 10/50\n",
            "351/351 [==============================] - 6s 16ms/step - loss: 0.3474 - accuracy: 0.8742 - val_loss: 0.5941 - val_accuracy: 0.8040\n",
            "Epoch 11/50\n",
            "351/351 [==============================] - 5s 15ms/step - loss: 0.3409 - accuracy: 0.8768 - val_loss: 0.9900 - val_accuracy: 0.6700\n",
            "Epoch 12/50\n",
            "351/351 [==============================] - 5s 15ms/step - loss: 0.3228 - accuracy: 0.8853 - val_loss: 0.6869 - val_accuracy: 0.7502\n",
            "Epoch 13/50\n",
            "351/351 [==============================] - 5s 15ms/step - loss: 0.3026 - accuracy: 0.8929 - val_loss: 0.4347 - val_accuracy: 0.8411\n",
            "Epoch 14/50\n",
            "348/351 [============================>.] - ETA: 0s - loss: 0.2951 - accuracy: 0.8950"
          ]
        },
        {
          "output_type": "stream",
          "name": "stderr",
          "text": [
            "WARNING:absl:Found untraced functions such as _jit_compiled_convolution_op, _jit_compiled_convolution_op, _jit_compiled_convolution_op, _jit_compiled_convolution_op while saving (showing 4 of 4). These functions will not be directly callable after loading.\n"
          ]
        },
        {
          "output_type": "stream",
          "name": "stdout",
          "text": [
            "\b\b\b\b\b\b\b\b\b\b\b\b\b\b\b\b\b\b\b\b\b\b\b\b\b\b\b\b\b\b\b\b\b\b\b\b\b\b\b\b\b\b\b\b\b\b\b\b\b\b\b\b\b\b\b\b\b\b\b\b\b\b\b\b\b\b\b\b\b\b\b\b\b\b\b\b\b\b\b\b\b\b\b\b\r351/351 [==============================] - 7s 21ms/step - loss: 0.2943 - accuracy: 0.8951 - val_loss: 0.3825 - val_accuracy: 0.8624\n",
            "Epoch 15/50\n",
            "351/351 [==============================] - 5s 15ms/step - loss: 0.2780 - accuracy: 0.9027 - val_loss: 0.6708 - val_accuracy: 0.7612\n",
            "Epoch 16/50\n",
            "351/351 [==============================] - 6s 16ms/step - loss: 0.2708 - accuracy: 0.9045 - val_loss: 0.5988 - val_accuracy: 0.8001\n",
            "Epoch 17/50\n",
            "351/351 [==============================] - 5s 15ms/step - loss: 0.2555 - accuracy: 0.9107 - val_loss: 0.4657 - val_accuracy: 0.8475\n",
            "Epoch 18/50\n",
            "351/351 [==============================] - 6s 16ms/step - loss: 0.2547 - accuracy: 0.9066 - val_loss: 0.4541 - val_accuracy: 0.8414\n",
            "Epoch 19/50\n",
            "351/351 [==============================] - 5s 15ms/step - loss: 0.2395 - accuracy: 0.9142 - val_loss: 0.3837 - val_accuracy: 0.8589\n",
            "Epoch 20/50\n",
            "351/351 [==============================] - 5s 15ms/step - loss: 0.2325 - accuracy: 0.9155 - val_loss: 0.5344 - val_accuracy: 0.8200\n",
            "Epoch 21/50\n",
            "351/351 [==============================] - 6s 16ms/step - loss: 0.2185 - accuracy: 0.9222 - val_loss: 0.5202 - val_accuracy: 0.8318\n",
            "Epoch 22/50\n",
            "349/351 [============================>.] - ETA: 0s - loss: 0.2161 - accuracy: 0.9252"
          ]
        },
        {
          "output_type": "stream",
          "name": "stderr",
          "text": [
            "WARNING:absl:Found untraced functions such as _jit_compiled_convolution_op, _jit_compiled_convolution_op, _jit_compiled_convolution_op, _jit_compiled_convolution_op while saving (showing 4 of 4). These functions will not be directly callable after loading.\n"
          ]
        },
        {
          "output_type": "stream",
          "name": "stdout",
          "text": [
            "\b\b\b\b\b\b\b\b\b\b\b\b\b\b\b\b\b\b\b\b\b\b\b\b\b\b\b\b\b\b\b\b\b\b\b\b\b\b\b\b\b\b\b\b\b\b\b\b\b\b\b\b\b\b\b\b\b\b\b\b\b\b\b\b\b\b\b\b\b\b\b\b\b\b\b\b\b\b\b\b\b\b\b\b\r351/351 [==============================] - 7s 21ms/step - loss: 0.2156 - accuracy: 0.9255 - val_loss: 0.3371 - val_accuracy: 0.8838\n",
            "Epoch 23/50\n",
            "351/351 [==============================] - 6s 16ms/step - loss: 0.2012 - accuracy: 0.9314 - val_loss: 0.3606 - val_accuracy: 0.8710\n",
            "Epoch 24/50\n",
            "351/351 [==============================] - 6s 16ms/step - loss: 0.1875 - accuracy: 0.9334 - val_loss: 0.4246 - val_accuracy: 0.8489\n",
            "Epoch 25/50\n",
            "351/351 [==============================] - 6s 16ms/step - loss: 0.1839 - accuracy: 0.9367 - val_loss: 0.4553 - val_accuracy: 0.8386\n",
            "Epoch 26/50\n",
            "349/351 [============================>.] - ETA: 0s - loss: 0.1735 - accuracy: 0.9405"
          ]
        },
        {
          "output_type": "stream",
          "name": "stderr",
          "text": [
            "WARNING:absl:Found untraced functions such as _jit_compiled_convolution_op, _jit_compiled_convolution_op, _jit_compiled_convolution_op, _jit_compiled_convolution_op while saving (showing 4 of 4). These functions will not be directly callable after loading.\n"
          ]
        },
        {
          "output_type": "stream",
          "name": "stdout",
          "text": [
            "\b\b\b\b\b\b\b\b\b\b\b\b\b\b\b\b\b\b\b\b\b\b\b\b\b\b\b\b\b\b\b\b\b\b\b\b\b\b\b\b\b\b\b\b\b\b\b\b\b\b\b\b\b\b\b\b\b\b\b\b\b\b\b\b\b\b\b\b\b\b\b\b\b\b\b\b\b\b\b\b\b\b\b\b\r351/351 [==============================] - 8s 22ms/step - loss: 0.1733 - accuracy: 0.9406 - val_loss: 0.3296 - val_accuracy: 0.8824\n",
            "Epoch 27/50\n",
            "351/351 [==============================] - 6s 16ms/step - loss: 0.1732 - accuracy: 0.9415 - val_loss: 0.4324 - val_accuracy: 0.8478\n",
            "Epoch 28/50\n",
            "351/351 [==============================] - 5s 15ms/step - loss: 0.1547 - accuracy: 0.9495 - val_loss: 0.5164 - val_accuracy: 0.8211\n",
            "Epoch 29/50\n",
            "351/351 [==============================] - 5s 15ms/step - loss: 0.1505 - accuracy: 0.9476 - val_loss: 0.5330 - val_accuracy: 0.8147\n",
            "Epoch 30/50\n",
            "351/351 [==============================] - 5s 15ms/step - loss: 0.1460 - accuracy: 0.9500 - val_loss: 0.4641 - val_accuracy: 0.8421\n",
            "Epoch 31/50\n",
            "351/351 [==============================] - 5s 15ms/step - loss: 0.1371 - accuracy: 0.9548 - val_loss: 0.6073 - val_accuracy: 0.7972\n",
            "Epoch 32/50\n",
            "351/351 [==============================] - 5s 15ms/step - loss: 0.1284 - accuracy: 0.9583 - val_loss: 0.5750 - val_accuracy: 0.8122\n",
            "Epoch 33/50\n",
            "351/351 [==============================] - 5s 15ms/step - loss: 0.1232 - accuracy: 0.9605 - val_loss: 0.3881 - val_accuracy: 0.8667\n",
            "Epoch 34/50\n",
            "351/351 [==============================] - 5s 15ms/step - loss: 0.1186 - accuracy: 0.9627 - val_loss: 0.7574 - val_accuracy: 0.7505\n",
            "Epoch 35/50\n",
            "351/351 [==============================] - 5s 15ms/step - loss: 0.1179 - accuracy: 0.9609 - val_loss: 0.5176 - val_accuracy: 0.8279\n",
            "Epoch 36/50\n",
            "351/351 [==============================] - 5s 15ms/step - loss: 0.1112 - accuracy: 0.9639 - val_loss: 0.5024 - val_accuracy: 0.8421\n"
          ]
        },
        {
          "output_type": "stream",
          "name": "stderr",
          "text": [
            "WARNING:absl:Found untraced functions such as _jit_compiled_convolution_op, _jit_compiled_convolution_op, _jit_compiled_convolution_op, _jit_compiled_convolution_op while saving (showing 4 of 4). These functions will not be directly callable after loading.\n"
          ]
        }
      ]
    },
    {
      "cell_type": "code",
      "source": [
        "# Load History, if timed out\n",
        "history=np.load('drive/MyDrive/cnn_assign3/baseline_checkpoint/history.npy',allow_pickle='TRUE').item()\n",
        "\n"
      ],
      "metadata": {
        "id": "cxxn3nnjCqDR"
      },
      "execution_count": null,
      "outputs": []
    },
    {
      "cell_type": "markdown",
      "source": [
        "##Model fit and Eval"
      ],
      "metadata": {
        "id": "pepp6L37ELCF"
      }
    },
    {
      "cell_type": "code",
      "source": [
        "#getting train and validation accuracies\n",
        "train_acc_CNN = history.history['accuracy']\n",
        "val_acc_CNN = history.history['val_accuracy']\n",
        "\n",
        "#getting train and validation losses\n",
        "train_loss_CNN = history.history['loss']\n",
        "val_loss_CNN = history.history['val_loss']\n",
        "epochs = range(1, len(train_loss_CNN) + 1)\n",
        "\n",
        "#plotting the training and validation accurracies\n",
        "plt.plot(epochs, train_acc_CNN, 'b', label='Training acc')\n",
        "plt.plot(epochs, val_acc_CNN, 'r', label='Validation acc')\n",
        "plt.title('Training and validation accuracy for CNN')\n",
        "plt.legend()\n",
        "plt.figure()\n",
        "\n",
        "#plotting the train and validation losses\n",
        "plt.plot(epochs, train_loss_CNN, 'b', label='Training loss')\n",
        "plt.plot(epochs, val_loss_CNN, 'r', label='Validation loss')\n",
        "plt.title('Training and validation loss for CNN')\n",
        "plt.legend()\n",
        "\n",
        "plt.show()"
      ],
      "metadata": {
        "colab": {
          "base_uri": "https://localhost:8080/",
          "height": 545
        },
        "id": "WHcHH-vyXH43",
        "outputId": "ca7c6268-be48-4824-f589-9f25fe676cbc"
      },
      "execution_count": null,
      "outputs": [
        {
          "output_type": "display_data",
          "data": {
            "text/plain": [
              "<Figure size 432x288 with 1 Axes>"
            ],
            "image/png": "[encoded data removed]"
          },
          "metadata": {
            "needs_background": "light"
          }
        },
        {
          "output_type": "display_data",
          "data": {
            "text/plain": [
              "<Figure size 432x288 with 1 Axes>"
            ],
            "image/png": "[encoded data removed]"
          },
          "metadata": {
            "needs_background": "light"
          }
        }
      ]
    },
    {
      "cell_type": "markdown",
      "source": [
        "i. The learning curves show characterisics of overfitting. The training accuracy is near 97%, whereas validation accuracy bounces and peaks around 88%. The validation loss reaches its min after about 21 epochs and bounces around whereas the training loss keeps decreasing linearly as training proceeds.\n",
        "\n",
        "ii. The model is overfitting\n"
      ],
      "metadata": {
        "id": "IhVKLqh7O7iy"
      }
    },
    {
      "cell_type": "markdown",
      "source": [
        "##iii. Depth-wise model w Residual Blocks"
      ],
      "metadata": {
        "id": "k1UlpRTKSaFF"
      }
    },
    {
      "cell_type": "code",
      "source": [
        "def residual_block(x, filter):\n",
        "  \n",
        "  residual = x\n",
        "  # x goes through a block consisting of two conv2d+batchnorm+reul as well as a max pooling\n",
        "\n",
        "  x = layers.SeparableConv2D(filters=filter, kernel_size=3, padding=\"same\", use_bias=False )(x)\n",
        "  x = layers.BatchNormalization()(x)\n",
        "  x = layers.ReLU()(x)\n",
        "\n",
        "  x = layers.SeparableConv2D(filters=filter, kernel_size=3, padding=\"same\", use_bias=False)(x)\n",
        "  x = layers.BatchNormalization()(x)\n",
        "  x = layers.ReLU()(x)\n",
        "\n",
        "  x = layers.MaxPooling2D(pool_size=2, padding=\"same\")(x)\n",
        "  \n",
        "  # After going through the above block x now has \"filter\" channels and its feature map is downsampled to half by max pooling\n",
        "  #so we need to use a 1*1 convolution with stride=2 to downsample residual and change its numebr of channels to \"filter\".\n",
        "  residual = layers.Conv2D(filters=filter, kernel_size=1, strides=2, use_bias=False)(residual)\n",
        "  \n",
        "  #Having batchnormalization layer as usual after convolution\n",
        "  residual= layers.BatchNormalization()(residual)\n",
        "\n",
        "\n",
        "  x = layers.add([x, residual])\n",
        "  return x"
      ],
      "metadata": {
        "id": "7ClNaY97S_VB"
      },
      "execution_count": null,
      "outputs": []
    },
    {
      "cell_type": "code",
      "source": [
        "def build_baseline(input_shape, filters):\n",
        "\n",
        "\n",
        "  #input layer for getting the input image\n",
        "  input = keras.Input(shape=input_shape)\n",
        "  x = input\n",
        "  #rescaling layer for rescalign pixels to [0,1] range\n",
        "  x = layers.experimental.preprocessing.Rescaling(1./255)(x)\n",
        "\n",
        "  # stack a set of residual blocks\n",
        "  for filter in filters:\n",
        "    x= residual_block(x, filter)\n",
        "\n",
        "  #Global Average pooling. This will get an input of shape (height, width, channels) the average of each feature map and returns a vector of size channels.\n",
        "  x = layers.GlobalAveragePooling2D()(x)\n",
        "\n",
        "  \n",
        "  #The final output layer has six neurons with softmax activation to output the probability of the target class\n",
        "  output=layers.Dense(6, activation=\"softmax\")(x)\n",
        "  \n",
        "  #create a model and set its input and output and return it\n",
        "  model = keras.Model(inputs=input, outputs=output)\n",
        "  return model\n",
        "\n",
        "baseline_improved=build_baseline(input_shape=(150,150,3), filters=[32,64,128,256, 512])\n",
        "print(baseline_improved.summary())"
      ],
      "metadata": {
        "colab": {
          "base_uri": "https://localhost:8080/"
        },
        "id": "2M5DKav2TxiP",
        "outputId": "a0c4274a-a553-4a2c-9038-5cef7749414f"
      },
      "execution_count": null,
      "outputs": [
        {
          "output_type": "stream",
          "name": "stdout",
          "text": [
            "Model: \"model_1\"\n",
            "__________________________________________________________________________________________________\n",
            " Layer (type)                   Output Shape         Param #     Connected to                     \n",
            "==================================================================================================\n",
            " input_2 (InputLayer)           [(None, 150, 150, 3  0           []                               \n",
            "                                )]                                                                \n",
            "                                                                                                  \n",
            " rescaling_1 (Rescaling)        (None, 150, 150, 3)  0           ['input_2[0][0]']                \n",
            "                                                                                                  \n",
            " separable_conv2d (SeparableCon  (None, 150, 150, 32  123        ['rescaling_1[0][0]']            \n",
            " v2D)                           )                                                                 \n",
            "                                                                                                  \n",
            " batch_normalization_4 (BatchNo  (None, 150, 150, 32  128        ['separable_conv2d[0][0]']       \n",
            " rmalization)                   )                                                                 \n",
            "                                                                                                  \n",
            " re_lu_4 (ReLU)                 (None, 150, 150, 32  0           ['batch_normalization_4[0][0]']  \n",
            "                                )                                                                 \n",
            "                                                                                                  \n",
            " separable_conv2d_1 (SeparableC  (None, 150, 150, 32  1312       ['re_lu_4[0][0]']                \n",
            " onv2D)                         )                                                                 \n",
            "                                                                                                  \n",
            " batch_normalization_5 (BatchNo  (None, 150, 150, 32  128        ['separable_conv2d_1[0][0]']     \n",
            " rmalization)                   )                                                                 \n",
            "                                                                                                  \n",
            " re_lu_5 (ReLU)                 (None, 150, 150, 32  0           ['batch_normalization_5[0][0]']  \n",
            "                                )                                                                 \n",
            "                                                                                                  \n",
            " conv2d_4 (Conv2D)              (None, 75, 75, 32)   96          ['rescaling_1[0][0]']            \n",
            "                                                                                                  \n",
            " max_pooling2d_4 (MaxPooling2D)  (None, 75, 75, 32)  0           ['re_lu_5[0][0]']                \n",
            "                                                                                                  \n",
            " batch_normalization_6 (BatchNo  (None, 75, 75, 32)  128         ['conv2d_4[0][0]']               \n",
            " rmalization)                                                                                     \n",
            "                                                                                                  \n",
            " add (Add)                      (None, 75, 75, 32)   0           ['max_pooling2d_4[0][0]',        \n",
            "                                                                  'batch_normalization_6[0][0]']  \n",
            "                                                                                                  \n",
            " separable_conv2d_2 (SeparableC  (None, 75, 75, 64)  2336        ['add[0][0]']                    \n",
            " onv2D)                                                                                           \n",
            "                                                                                                  \n",
            " batch_normalization_7 (BatchNo  (None, 75, 75, 64)  256         ['separable_conv2d_2[0][0]']     \n",
            " rmalization)                                                                                     \n",
            "                                                                                                  \n",
            " re_lu_6 (ReLU)                 (None, 75, 75, 64)   0           ['batch_normalization_7[0][0]']  \n",
            "                                                                                                  \n",
            " separable_conv2d_3 (SeparableC  (None, 75, 75, 64)  4672        ['re_lu_6[0][0]']                \n",
            " onv2D)                                                                                           \n",
            "                                                                                                  \n",
            " batch_normalization_8 (BatchNo  (None, 75, 75, 64)  256         ['separable_conv2d_3[0][0]']     \n",
            " rmalization)                                                                                     \n",
            "                                                                                                  \n",
            " re_lu_7 (ReLU)                 (None, 75, 75, 64)   0           ['batch_normalization_8[0][0]']  \n",
            "                                                                                                  \n",
            " conv2d_5 (Conv2D)              (None, 38, 38, 64)   2048        ['add[0][0]']                    \n",
            "                                                                                                  \n",
            " max_pooling2d_5 (MaxPooling2D)  (None, 38, 38, 64)  0           ['re_lu_7[0][0]']                \n",
            "                                                                                                  \n",
            " batch_normalization_9 (BatchNo  (None, 38, 38, 64)  256         ['conv2d_5[0][0]']               \n",
            " rmalization)                                                                                     \n",
            "                                                                                                  \n",
            " add_1 (Add)                    (None, 38, 38, 64)   0           ['max_pooling2d_5[0][0]',        \n",
            "                                                                  'batch_normalization_9[0][0]']  \n",
            "                                                                                                  \n",
            " separable_conv2d_4 (SeparableC  (None, 38, 38, 128)  8768       ['add_1[0][0]']                  \n",
            " onv2D)                                                                                           \n",
            "                                                                                                  \n",
            " batch_normalization_10 (BatchN  (None, 38, 38, 128)  512        ['separable_conv2d_4[0][0]']     \n",
            " ormalization)                                                                                    \n",
            "                                                                                                  \n",
            " re_lu_8 (ReLU)                 (None, 38, 38, 128)  0           ['batch_normalization_10[0][0]'] \n",
            "                                                                                                  \n",
            " separable_conv2d_5 (SeparableC  (None, 38, 38, 128)  17536      ['re_lu_8[0][0]']                \n",
            " onv2D)                                                                                           \n",
            "                                                                                                  \n",
            " batch_normalization_11 (BatchN  (None, 38, 38, 128)  512        ['separable_conv2d_5[0][0]']     \n",
            " ormalization)                                                                                    \n",
            "                                                                                                  \n",
            " re_lu_9 (ReLU)                 (None, 38, 38, 128)  0           ['batch_normalization_11[0][0]'] \n",
            "                                                                                                  \n",
            " conv2d_6 (Conv2D)              (None, 19, 19, 128)  8192        ['add_1[0][0]']                  \n",
            "                                                                                                  \n",
            " max_pooling2d_6 (MaxPooling2D)  (None, 19, 19, 128)  0          ['re_lu_9[0][0]']                \n",
            "                                                                                                  \n",
            " batch_normalization_12 (BatchN  (None, 19, 19, 128)  512        ['conv2d_6[0][0]']               \n",
            " ormalization)                                                                                    \n",
            "                                                                                                  \n",
            " add_2 (Add)                    (None, 19, 19, 128)  0           ['max_pooling2d_6[0][0]',        \n",
            "                                                                  'batch_normalization_12[0][0]'] \n",
            "                                                                                                  \n",
            " separable_conv2d_6 (SeparableC  (None, 19, 19, 256)  33920      ['add_2[0][0]']                  \n",
            " onv2D)                                                                                           \n",
            "                                                                                                  \n",
            " batch_normalization_13 (BatchN  (None, 19, 19, 256)  1024       ['separable_conv2d_6[0][0]']     \n",
            " ormalization)                                                                                    \n",
            "                                                                                                  \n",
            " re_lu_10 (ReLU)                (None, 19, 19, 256)  0           ['batch_normalization_13[0][0]'] \n",
            "                                                                                                  \n",
            " separable_conv2d_7 (SeparableC  (None, 19, 19, 256)  67840      ['re_lu_10[0][0]']               \n",
            " onv2D)                                                                                           \n",
            "                                                                                                  \n",
            " batch_normalization_14 (BatchN  (None, 19, 19, 256)  1024       ['separable_conv2d_7[0][0]']     \n",
            " ormalization)                                                                                    \n",
            "                                                                                                  \n",
            " re_lu_11 (ReLU)                (None, 19, 19, 256)  0           ['batch_normalization_14[0][0]'] \n",
            "                                                                                                  \n",
            " conv2d_7 (Conv2D)              (None, 10, 10, 256)  32768       ['add_2[0][0]']                  \n",
            "                                                                                                  \n",
            " max_pooling2d_7 (MaxPooling2D)  (None, 10, 10, 256)  0          ['re_lu_11[0][0]']               \n",
            "                                                                                                  \n",
            " batch_normalization_15 (BatchN  (None, 10, 10, 256)  1024       ['conv2d_7[0][0]']               \n",
            " ormalization)                                                                                    \n",
            "                                                                                                  \n",
            " add_3 (Add)                    (None, 10, 10, 256)  0           ['max_pooling2d_7[0][0]',        \n",
            "                                                                  'batch_normalization_15[0][0]'] \n",
            "                                                                                                  \n",
            " separable_conv2d_8 (SeparableC  (None, 10, 10, 512)  133376     ['add_3[0][0]']                  \n",
            " onv2D)                                                                                           \n",
            "                                                                                                  \n",
            " batch_normalization_16 (BatchN  (None, 10, 10, 512)  2048       ['separable_conv2d_8[0][0]']     \n",
            " ormalization)                                                                                    \n",
            "                                                                                                  \n",
            " re_lu_12 (ReLU)                (None, 10, 10, 512)  0           ['batch_normalization_16[0][0]'] \n",
            "                                                                                                  \n",
            " separable_conv2d_9 (SeparableC  (None, 10, 10, 512)  266752     ['re_lu_12[0][0]']               \n",
            " onv2D)                                                                                           \n",
            "                                                                                                  \n",
            " batch_normalization_17 (BatchN  (None, 10, 10, 512)  2048       ['separable_conv2d_9[0][0]']     \n",
            " ormalization)                                                                                    \n",
            "                                                                                                  \n",
            " re_lu_13 (ReLU)                (None, 10, 10, 512)  0           ['batch_normalization_17[0][0]'] \n",
            "                                                                                                  \n",
            " conv2d_8 (Conv2D)              (None, 5, 5, 512)    131072      ['add_3[0][0]']                  \n",
            "                                                                                                  \n",
            " max_pooling2d_8 (MaxPooling2D)  (None, 5, 5, 512)   0           ['re_lu_13[0][0]']               \n",
            "                                                                                                  \n",
            " batch_normalization_18 (BatchN  (None, 5, 5, 512)   2048        ['conv2d_8[0][0]']               \n",
            " ormalization)                                                                                    \n",
            "                                                                                                  \n",
            " add_4 (Add)                    (None, 5, 5, 512)    0           ['max_pooling2d_8[0][0]',        \n",
            "                                                                  'batch_normalization_18[0][0]'] \n",
            "                                                                                                  \n",
            " global_average_pooling2d_1 (Gl  (None, 512)         0           ['add_4[0][0]']                  \n",
            " obalAveragePooling2D)                                                                            \n",
            "                                                                                                  \n",
            " dense_1 (Dense)                (None, 6)            3078        ['global_average_pooling2d_1[0][0\n",
            "                                                                 ]']                              \n",
            "                                                                                                  \n",
            "==================================================================================================\n",
            "Total params: 725,793\n",
            "Trainable params: 719,841\n",
            "Non-trainable params: 5,952\n",
            "__________________________________________________________________________________________________\n",
            "None\n"
          ]
        }
      ]
    },
    {
      "cell_type": "code",
      "source": [
        "#compiling the model\n",
        "lr_schedule = keras.optimizers.schedules.ExponentialDecay(\n",
        "    initial_learning_rate=1e-3,\n",
        "    decay_steps=1000,\n",
        "    decay_rate=0.9)\n",
        "opt = tf.keras.optimizers.Adam(learning_rate=lr_schedule)\n",
        "baseline_improved.compile(loss=tf.keras.losses.SparseCategoricalCrossentropy(from_logits=False), metrics=['accuracy'], optimizer=opt)\n",
        "\n",
        "checkpoint= keras.callbacks.ModelCheckpoint( filepath=\"drive/MyDrive/cnn_assign3/baseline_improved_checkpoint\",save_best_only=True, monitor=\"val_loss\")\n",
        "\n",
        "history = baseline_improved.fit(\n",
        "            train_dataset,\n",
        "            validation_data = validation_dataset,\n",
        "            epochs = 50,\n",
        "            verbose = 1,\n",
        "            callbacks=[checkpoint])\n",
        "\n",
        "#save history\n",
        "np.save('drive/MyDrive/cnn_assign3/baseline_improved_checkpoint/history.npy', history)"
      ],
      "metadata": {
        "colab": {
          "base_uri": "https://localhost:8080/"
        },
        "id": "-5YQ19IiUxhj",
        "outputId": "d65be43d-2b1e-4e6a-8ad4-8ec5caf23ab8"
      },
      "execution_count": null,
      "outputs": [
        {
          "output_type": "stream",
          "name": "stdout",
          "text": [
            "Epoch 1/50\n",
            "351/351 [==============================] - ETA: 0s - loss: 0.8239 - accuracy: 0.6975"
          ]
        },
        {
          "output_type": "stream",
          "name": "stderr",
          "text": [
            "WARNING:absl:Found untraced functions such as _jit_compiled_convolution_op, _jit_compiled_convolution_op, _jit_compiled_convolution_op, _jit_compiled_convolution_op, _jit_compiled_convolution_op while saving (showing 5 of 15). These functions will not be directly callable after loading.\n"
          ]
        },
        {
          "output_type": "stream",
          "name": "stdout",
          "text": [
            "\b\b\b\b\b\b\b\b\b\b\b\b\b\b\b\b\b\b\b\b\b\b\b\b\b\b\b\b\b\b\b\b\b\b\b\b\b\b\b\b\b\b\b\b\b\b\b\b\b\b\b\b\b\b\b\b\b\b\b\b\b\b\b\b\b\b\b\b\b\b\b\b\b\b\b\b\b\b\b\b\b\b\b\b\r351/351 [==============================] - 99s 276ms/step - loss: 0.8239 - accuracy: 0.6975 - val_loss: 3.9185 - val_accuracy: 0.1622\n",
            "Epoch 2/50\n",
            "351/351 [==============================] - ETA: 0s - loss: 0.5179 - accuracy: 0.8121"
          ]
        },
        {
          "output_type": "stream",
          "name": "stderr",
          "text": [
            "WARNING:absl:Found untraced functions such as _jit_compiled_convolution_op, _jit_compiled_convolution_op, _jit_compiled_convolution_op, _jit_compiled_convolution_op, _jit_compiled_convolution_op while saving (showing 5 of 15). These functions will not be directly callable after loading.\n"
          ]
        },
        {
          "output_type": "stream",
          "name": "stdout",
          "text": [
            "\b\b\b\b\b\b\b\b\b\b\b\b\b\b\b\b\b\b\b\b\b\b\b\b\b\b\b\b\b\b\b\b\b\b\b\b\b\b\b\b\b\b\b\b\b\b\b\b\b\b\b\b\b\b\b\b\b\b\b\b\b\b\b\b\b\b\b\b\b\b\b\b\b\b\b\b\b\b\b\b\b\b\b\b\r351/351 [==============================] - 96s 275ms/step - loss: 0.5179 - accuracy: 0.8121 - val_loss: 0.5604 - val_accuracy: 0.8001\n",
            "Epoch 3/50\n",
            "351/351 [==============================] - 91s 259ms/step - loss: 0.4075 - accuracy: 0.8554 - val_loss: 0.6701 - val_accuracy: 0.7837\n",
            "Epoch 4/50\n",
            "351/351 [==============================] - 90s 257ms/step - loss: 0.3368 - accuracy: 0.8815 - val_loss: 0.6253 - val_accuracy: 0.7929\n",
            "Epoch 5/50\n",
            "351/351 [==============================] - 91s 258ms/step - loss: 0.2840 - accuracy: 0.8968 - val_loss: 0.5769 - val_accuracy: 0.8086\n",
            "Epoch 6/50\n",
            "351/351 [==============================] - 90s 257ms/step - loss: 0.2218 - accuracy: 0.9231 - val_loss: 0.7198 - val_accuracy: 0.7712\n",
            "Epoch 7/50\n",
            "351/351 [==============================] - ETA: 0s - loss: 0.1821 - accuracy: 0.9367"
          ]
        },
        {
          "output_type": "stream",
          "name": "stderr",
          "text": [
            "WARNING:absl:Found untraced functions such as _jit_compiled_convolution_op, _jit_compiled_convolution_op, _jit_compiled_convolution_op, _jit_compiled_convolution_op, _jit_compiled_convolution_op while saving (showing 5 of 15). These functions will not be directly callable after loading.\n"
          ]
        },
        {
          "output_type": "stream",
          "name": "stdout",
          "text": [
            "\b\b\b\b\b\b\b\b\b\b\b\b\b\b\b\b\b\b\b\b\b\b\b\b\b\b\b\b\b\b\b\b\b\b\b\b\b\b\b\b\b\b\b\b\b\b\b\b\b\b\b\b\b\b\b\b\b\b\b\b\b\b\b\b\b\b\b\b\b\b\b\b\b\b\b\b\b\b\b\b\b\b\b\b\r351/351 [==============================] - 97s 276ms/step - loss: 0.1821 - accuracy: 0.9367 - val_loss: 0.4651 - val_accuracy: 0.8478\n",
            "Epoch 8/50\n",
            "351/351 [==============================] - 90s 257ms/step - loss: 0.1329 - accuracy: 0.9556 - val_loss: 0.7148 - val_accuracy: 0.8001\n",
            "Epoch 9/50\n",
            "351/351 [==============================] - 90s 256ms/step - loss: 0.1032 - accuracy: 0.9665 - val_loss: 0.7111 - val_accuracy: 0.8104\n",
            "Epoch 10/50\n",
            "351/351 [==============================] - 90s 256ms/step - loss: 0.0876 - accuracy: 0.9711 - val_loss: 0.7009 - val_accuracy: 0.8193\n",
            "Epoch 11/50\n",
            "351/351 [==============================] - 90s 257ms/step - loss: 0.0694 - accuracy: 0.9795 - val_loss: 0.7097 - val_accuracy: 0.8136\n",
            "Epoch 12/50\n",
            "351/351 [==============================] - 90s 258ms/step - loss: 0.0625 - accuracy: 0.9816 - val_loss: 0.6877 - val_accuracy: 0.8279\n",
            "Epoch 13/50\n",
            "351/351 [==============================] - 90s 256ms/step - loss: 0.0649 - accuracy: 0.9798 - val_loss: 0.5445 - val_accuracy: 0.8546\n",
            "Epoch 14/50\n",
            "351/351 [==============================] - 90s 257ms/step - loss: 0.0490 - accuracy: 0.9848 - val_loss: 0.5521 - val_accuracy: 0.8607\n",
            "Epoch 15/50\n",
            "351/351 [==============================] - 90s 258ms/step - loss: 0.0458 - accuracy: 0.9877 - val_loss: 0.6429 - val_accuracy: 0.8375\n",
            "Epoch 16/50\n",
            "351/351 [==============================] - 91s 259ms/step - loss: 0.0454 - accuracy: 0.9860 - val_loss: 0.7220 - val_accuracy: 0.8311\n",
            "Epoch 17/50\n",
            "351/351 [==============================] - 91s 258ms/step - loss: 0.0323 - accuracy: 0.9915 - val_loss: 0.6119 - val_accuracy: 0.8660\n",
            "Epoch 18/50\n",
            "351/351 [==============================] - 91s 258ms/step - loss: 0.0318 - accuracy: 0.9913 - val_loss: 1.1495 - val_accuracy: 0.7844\n",
            "Epoch 19/50\n",
            "351/351 [==============================] - 90s 257ms/step - loss: 0.0338 - accuracy: 0.9908 - val_loss: 0.6089 - val_accuracy: 0.8542\n",
            "Epoch 20/50\n",
            "351/351 [==============================] - 91s 259ms/step - loss: 0.0326 - accuracy: 0.9930 - val_loss: 0.9909 - val_accuracy: 0.7926\n",
            "Epoch 21/50\n",
            "351/351 [==============================] - 90s 257ms/step - loss: 0.0329 - accuracy: 0.9918 - val_loss: 0.6184 - val_accuracy: 0.8542\n",
            "Epoch 22/50\n",
            "351/351 [==============================] - 90s 257ms/step - loss: 0.0303 - accuracy: 0.9928 - val_loss: 0.6050 - val_accuracy: 0.8671\n",
            "Epoch 23/50\n",
            "351/351 [==============================] - 90s 256ms/step - loss: 0.0231 - accuracy: 0.9963 - val_loss: 0.5263 - val_accuracy: 0.8756\n",
            "Epoch 24/50\n",
            "351/351 [==============================] - 90s 257ms/step - loss: 0.0204 - accuracy: 0.9966 - val_loss: 0.5951 - val_accuracy: 0.8717\n",
            "Epoch 25/50\n",
            "351/351 [==============================] - 90s 257ms/step - loss: 0.0201 - accuracy: 0.9956 - val_loss: 1.6720 - val_accuracy: 0.7195\n",
            "Epoch 26/50\n",
            "351/351 [==============================] - 90s 257ms/step - loss: 0.0215 - accuracy: 0.9959 - val_loss: 0.6136 - val_accuracy: 0.8592\n",
            "Epoch 27/50\n",
            "351/351 [==============================] - 90s 256ms/step - loss: 0.0215 - accuracy: 0.9954 - val_loss: 0.6314 - val_accuracy: 0.8542\n",
            "Epoch 28/50\n",
            "351/351 [==============================] - 90s 256ms/step - loss: 0.0168 - accuracy: 0.9972 - val_loss: 0.5406 - val_accuracy: 0.8717\n",
            "Epoch 29/50\n",
            "351/351 [==============================] - 91s 258ms/step - loss: 0.0169 - accuracy: 0.9978 - val_loss: 0.6489 - val_accuracy: 0.8656\n",
            "Epoch 30/50\n",
            "351/351 [==============================] - 90s 257ms/step - loss: 0.0154 - accuracy: 0.9981 - val_loss: 0.6042 - val_accuracy: 0.8624\n",
            "Epoch 31/50\n",
            "351/351 [==============================] - 91s 258ms/step - loss: 0.0210 - accuracy: 0.9965 - val_loss: 0.6918 - val_accuracy: 0.8493\n",
            "Epoch 32/50\n",
            "351/351 [==============================] - 91s 259ms/step - loss: 0.0169 - accuracy: 0.9967 - val_loss: 0.5841 - val_accuracy: 0.8706\n",
            "Epoch 33/50\n",
            "351/351 [==============================] - 90s 256ms/step - loss: 0.0199 - accuracy: 0.9963 - val_loss: 0.5327 - val_accuracy: 0.8728\n",
            "Epoch 34/50\n",
            "351/351 [==============================] - 91s 259ms/step - loss: 0.0148 - accuracy: 0.9973 - val_loss: 0.6148 - val_accuracy: 0.8610\n",
            "Epoch 35/50\n",
            "351/351 [==============================] - 90s 256ms/step - loss: 0.0136 - accuracy: 0.9980 - val_loss: 0.6206 - val_accuracy: 0.8685\n",
            "Epoch 36/50\n",
            "351/351 [==============================] - 90s 257ms/step - loss: 0.0115 - accuracy: 0.9980 - val_loss: 0.7157 - val_accuracy: 0.8478\n",
            "Epoch 37/50\n",
            "351/351 [==============================] - 90s 256ms/step - loss: 0.0131 - accuracy: 0.9979 - val_loss: 0.5658 - val_accuracy: 0.8746\n",
            "Epoch 38/50\n",
            "351/351 [==============================] - 90s 258ms/step - loss: 0.0111 - accuracy: 0.9982 - val_loss: 0.5603 - val_accuracy: 0.8785\n",
            "Epoch 39/50\n",
            "351/351 [==============================] - 91s 259ms/step - loss: 0.0112 - accuracy: 0.9983 - val_loss: 0.5642 - val_accuracy: 0.8770\n",
            "Epoch 40/50\n",
            "351/351 [==============================] - 91s 258ms/step - loss: 0.0099 - accuracy: 0.9984 - val_loss: 0.5162 - val_accuracy: 0.8835\n",
            "Epoch 41/50\n",
            "351/351 [==============================] - 90s 257ms/step - loss: 0.0097 - accuracy: 0.9983 - val_loss: 0.5217 - val_accuracy: 0.8813\n",
            "Epoch 42/50\n",
            "351/351 [==============================] - 91s 258ms/step - loss: 0.0109 - accuracy: 0.9981 - val_loss: 0.5623 - val_accuracy: 0.8760\n",
            "Epoch 43/50\n",
            "351/351 [==============================] - 90s 256ms/step - loss: 0.0098 - accuracy: 0.9982 - val_loss: 0.5543 - val_accuracy: 0.8774\n",
            "Epoch 44/50\n",
            "351/351 [==============================] - 91s 258ms/step - loss: 0.0083 - accuracy: 0.9984 - val_loss: 0.5470 - val_accuracy: 0.8806\n",
            "Epoch 45/50\n",
            "351/351 [==============================] - 90s 257ms/step - loss: 0.0092 - accuracy: 0.9982 - val_loss: 0.5572 - val_accuracy: 0.8785\n",
            "Epoch 46/50\n",
            "351/351 [==============================] - 90s 257ms/step - loss: 0.0089 - accuracy: 0.9980 - val_loss: 0.5484 - val_accuracy: 0.8781\n",
            "Epoch 47/50\n",
            "351/351 [==============================] - 90s 256ms/step - loss: 0.0093 - accuracy: 0.9979 - val_loss: 0.5618 - val_accuracy: 0.8767\n",
            "Epoch 48/50\n",
            "351/351 [==============================] - 90s 256ms/step - loss: 0.0076 - accuracy: 0.9984 - val_loss: 0.5367 - val_accuracy: 0.8838\n",
            "Epoch 49/50\n",
            "351/351 [==============================] - 90s 256ms/step - loss: 0.0073 - accuracy: 0.9981 - val_loss: 0.5574 - val_accuracy: 0.8774\n",
            "Epoch 50/50\n",
            "351/351 [==============================] - 90s 257ms/step - loss: 0.0060 - accuracy: 0.9985 - val_loss: 0.5365 - val_accuracy: 0.8849\n"
          ]
        },
        {
          "output_type": "stream",
          "name": "stderr",
          "text": [
            "WARNING:absl:Found untraced functions such as _jit_compiled_convolution_op, _jit_compiled_convolution_op, _jit_compiled_convolution_op, _jit_compiled_convolution_op, _jit_compiled_convolution_op while saving (showing 5 of 15). These functions will not be directly callable after loading.\n"
          ]
        }
      ]
    },
    {
      "cell_type": "code",
      "source": [
        "# Load History, if timed out\n",
        "history=np.load('drive/MyDrive/cnn_assign3/baseline_improved_checkpoint/history.npy',allow_pickle='TRUE').item()"
      ],
      "metadata": {
        "id": "ofgPdl_I_HII"
      },
      "execution_count": null,
      "outputs": []
    },
    {
      "cell_type": "code",
      "source": [
        "#getting train and validation accuracies\n",
        "train_acc_CNN = history.history['accuracy']\n",
        "val_acc_CNN = history.history['val_accuracy']\n",
        "\n",
        "#getting train and validation losses\n",
        "train_loss_CNN = history.history['loss']\n",
        "val_loss_CNN = history.history['val_loss']\n",
        "epochs = range(1, len(train_loss_CNN) + 1)\n",
        "\n",
        "#plotting the training and validation accurracies\n",
        "plt.plot(epochs, train_acc_CNN, 'b', label='Training acc')\n",
        "plt.plot(epochs, val_acc_CNN, 'r', label='Validation acc')\n",
        "plt.title('Training and validation accuracy for CNN')\n",
        "plt.legend()\n",
        "plt.figure()\n",
        "\n",
        "#plotting the train and validation losses\n",
        "plt.plot(epochs, train_loss_CNN, 'b', label='Training loss')\n",
        "plt.plot(epochs, val_loss_CNN, 'r', label='Validation loss')\n",
        "plt.title('Training and validation loss for CNN')\n",
        "plt.legend()\n",
        "\n",
        "plt.show()"
      ],
      "metadata": {
        "colab": {
          "base_uri": "https://localhost:8080/",
          "height": 545
        },
        "id": "ELyyBI7KVatf",
        "outputId": "e2e6ab95-8bc8-4762-91b6-c8944c9752ae"
      },
      "execution_count": null,
      "outputs": [
        {
          "output_type": "display_data",
          "data": {
            "text/plain": [
              "<Figure size 432x288 with 1 Axes>"
            ],
            "image/png": "[encoded data removed]"
          },
          "metadata": {
            "needs_background": "light"
          }
        },
        {
          "output_type": "display_data",
          "data": {
            "text/plain": [
              "<Figure size 432x288 with 1 Axes>"
            ],
            "image/png": "[encoded data removed]"
          },
          "metadata": {
            "needs_background": "light"
          }
        }
      ]
    },
    {
      "cell_type": "markdown",
      "source": [
        "Residual blocks and depth-wise separable convolutions did help to bring training accuracy and validation accuracy closer together with less bouncing around; the model does still overfit."
      ],
      "metadata": {
        "id": "7Ul6b2x1CNUC"
      }
    },
    {
      "cell_type": "markdown",
      "source": [
        "## iv. Data Augmentation"
      ],
      "metadata": {
        "id": "y-8TfpPlCN1z"
      }
    },
    {
      "cell_type": "code",
      "source": [
        "def data_augmentation(x):\n",
        "  x = layers.experimental.preprocessing.RandomFlip(\"horizontal\")(x)\n",
        "  x = layers.experimental.preprocessing.RandomRotation(0.1)(x)\n",
        "  x = layers.experimental.preprocessing.RandomZoom(0.2)(x)\n",
        "  return x"
      ],
      "metadata": {
        "id": "K7vMO2bTCTGw"
      },
      "execution_count": null,
      "outputs": []
    },
    {
      "cell_type": "code",
      "source": [
        "def build_baseline_with_aug(input_shape, filters):\n",
        "\n",
        "\n",
        "  # input layer for getting the input image\n",
        "  input = keras.Input(shape=input_shape)\n",
        "  \n",
        "  # data augmentation layer\n",
        "  x = data_augmentation(input)\n",
        "  \n",
        "  # rescaling layer for rescalign pixels to [0,1] range\n",
        "  x = layers.experimental.preprocessing.Rescaling(1./255)(x)\n",
        "\n",
        "  # stack a set of residual blocks\n",
        "  for filter in filters:\n",
        "    x = residual_block(x, filter)\n",
        "\n",
        "  #Global Average pooling. This will get an input of shape (height, width, channels) the average of each feature map and returns a vector of size channels.\n",
        "  x = layers.GlobalAveragePooling2D()(x)\n",
        "\n",
        "  \n",
        "  #The final output layer has six neurons with softmax activation to output the probability of the target class\n",
        "  output=layers.Dense(6, activation=\"softmax\")(x)\n",
        "  \n",
        "  #create a model and set its input and output and return it\n",
        "  model = keras.Model(inputs=input, outputs=output)\n",
        "  return model\n",
        "\n",
        "baseline_with_aug = build_baseline(input_shape=(150,150,3), filters=[32,64,128,256, 512])\n",
        "print(baseline_with_aug.summary())"
      ],
      "metadata": {
        "colab": {
          "base_uri": "https://localhost:8080/"
        },
        "id": "VpzU7xNrCs36",
        "outputId": "facf6283-5528-4c7d-d041-59f33208341d"
      },
      "execution_count": null,
      "outputs": [
        {
          "output_type": "stream",
          "name": "stdout",
          "text": [
            "Model: \"model_2\"\n",
            "__________________________________________________________________________________________________\n",
            " Layer (type)                   Output Shape         Param #     Connected to                     \n",
            "==================================================================================================\n",
            " input_3 (InputLayer)           [(None, 150, 150, 3  0           []                               \n",
            "                                )]                                                                \n",
            "                                                                                                  \n",
            " rescaling_2 (Rescaling)        (None, 150, 150, 3)  0           ['input_3[0][0]']                \n",
            "                                                                                                  \n",
            " separable_conv2d_10 (Separable  (None, 150, 150, 32  123        ['rescaling_2[0][0]']            \n",
            " Conv2D)                        )                                                                 \n",
            "                                                                                                  \n",
            " batch_normalization_19 (BatchN  (None, 150, 150, 32  128        ['separable_conv2d_10[0][0]']    \n",
            " ormalization)                  )                                                                 \n",
            "                                                                                                  \n",
            " re_lu_14 (ReLU)                (None, 150, 150, 32  0           ['batch_normalization_19[0][0]'] \n",
            "                                )                                                                 \n",
            "                                                                                                  \n",
            " separable_conv2d_11 (Separable  (None, 150, 150, 32  1312       ['re_lu_14[0][0]']               \n",
            " Conv2D)                        )                                                                 \n",
            "                                                                                                  \n",
            " batch_normalization_20 (BatchN  (None, 150, 150, 32  128        ['separable_conv2d_11[0][0]']    \n",
            " ormalization)                  )                                                                 \n",
            "                                                                                                  \n",
            " re_lu_15 (ReLU)                (None, 150, 150, 32  0           ['batch_normalization_20[0][0]'] \n",
            "                                )                                                                 \n",
            "                                                                                                  \n",
            " conv2d_9 (Conv2D)              (None, 75, 75, 32)   96          ['rescaling_2[0][0]']            \n",
            "                                                                                                  \n",
            " max_pooling2d_9 (MaxPooling2D)  (None, 75, 75, 32)  0           ['re_lu_15[0][0]']               \n",
            "                                                                                                  \n",
            " batch_normalization_21 (BatchN  (None, 75, 75, 32)  128         ['conv2d_9[0][0]']               \n",
            " ormalization)                                                                                    \n",
            "                                                                                                  \n",
            " add_5 (Add)                    (None, 75, 75, 32)   0           ['max_pooling2d_9[0][0]',        \n",
            "                                                                  'batch_normalization_21[0][0]'] \n",
            "                                                                                                  \n",
            " separable_conv2d_12 (Separable  (None, 75, 75, 64)  2336        ['add_5[0][0]']                  \n",
            " Conv2D)                                                                                          \n",
            "                                                                                                  \n",
            " batch_normalization_22 (BatchN  (None, 75, 75, 64)  256         ['separable_conv2d_12[0][0]']    \n",
            " ormalization)                                                                                    \n",
            "                                                                                                  \n",
            " re_lu_16 (ReLU)                (None, 75, 75, 64)   0           ['batch_normalization_22[0][0]'] \n",
            "                                                                                                  \n",
            " separable_conv2d_13 (Separable  (None, 75, 75, 64)  4672        ['re_lu_16[0][0]']               \n",
            " Conv2D)                                                                                          \n",
            "                                                                                                  \n",
            " batch_normalization_23 (BatchN  (None, 75, 75, 64)  256         ['separable_conv2d_13[0][0]']    \n",
            " ormalization)                                                                                    \n",
            "                                                                                                  \n",
            " re_lu_17 (ReLU)                (None, 75, 75, 64)   0           ['batch_normalization_23[0][0]'] \n",
            "                                                                                                  \n",
            " conv2d_10 (Conv2D)             (None, 38, 38, 64)   2048        ['add_5[0][0]']                  \n",
            "                                                                                                  \n",
            " max_pooling2d_10 (MaxPooling2D  (None, 38, 38, 64)  0           ['re_lu_17[0][0]']               \n",
            " )                                                                                                \n",
            "                                                                                                  \n",
            " batch_normalization_24 (BatchN  (None, 38, 38, 64)  256         ['conv2d_10[0][0]']              \n",
            " ormalization)                                                                                    \n",
            "                                                                                                  \n",
            " add_6 (Add)                    (None, 38, 38, 64)   0           ['max_pooling2d_10[0][0]',       \n",
            "                                                                  'batch_normalization_24[0][0]'] \n",
            "                                                                                                  \n",
            " separable_conv2d_14 (Separable  (None, 38, 38, 128)  8768       ['add_6[0][0]']                  \n",
            " Conv2D)                                                                                          \n",
            "                                                                                                  \n",
            " batch_normalization_25 (BatchN  (None, 38, 38, 128)  512        ['separable_conv2d_14[0][0]']    \n",
            " ormalization)                                                                                    \n",
            "                                                                                                  \n",
            " re_lu_18 (ReLU)                (None, 38, 38, 128)  0           ['batch_normalization_25[0][0]'] \n",
            "                                                                                                  \n",
            " separable_conv2d_15 (Separable  (None, 38, 38, 128)  17536      ['re_lu_18[0][0]']               \n",
            " Conv2D)                                                                                          \n",
            "                                                                                                  \n",
            " batch_normalization_26 (BatchN  (None, 38, 38, 128)  512        ['separable_conv2d_15[0][0]']    \n",
            " ormalization)                                                                                    \n",
            "                                                                                                  \n",
            " re_lu_19 (ReLU)                (None, 38, 38, 128)  0           ['batch_normalization_26[0][0]'] \n",
            "                                                                                                  \n",
            " conv2d_11 (Conv2D)             (None, 19, 19, 128)  8192        ['add_6[0][0]']                  \n",
            "                                                                                                  \n",
            " max_pooling2d_11 (MaxPooling2D  (None, 19, 19, 128)  0          ['re_lu_19[0][0]']               \n",
            " )                                                                                                \n",
            "                                                                                                  \n",
            " batch_normalization_27 (BatchN  (None, 19, 19, 128)  512        ['conv2d_11[0][0]']              \n",
            " ormalization)                                                                                    \n",
            "                                                                                                  \n",
            " add_7 (Add)                    (None, 19, 19, 128)  0           ['max_pooling2d_11[0][0]',       \n",
            "                                                                  'batch_normalization_27[0][0]'] \n",
            "                                                                                                  \n",
            " separable_conv2d_16 (Separable  (None, 19, 19, 256)  33920      ['add_7[0][0]']                  \n",
            " Conv2D)                                                                                          \n",
            "                                                                                                  \n",
            " batch_normalization_28 (BatchN  (None, 19, 19, 256)  1024       ['separable_conv2d_16[0][0]']    \n",
            " ormalization)                                                                                    \n",
            "                                                                                                  \n",
            " re_lu_20 (ReLU)                (None, 19, 19, 256)  0           ['batch_normalization_28[0][0]'] \n",
            "                                                                                                  \n",
            " separable_conv2d_17 (Separable  (None, 19, 19, 256)  67840      ['re_lu_20[0][0]']               \n",
            " Conv2D)                                                                                          \n",
            "                                                                                                  \n",
            " batch_normalization_29 (BatchN  (None, 19, 19, 256)  1024       ['separable_conv2d_17[0][0]']    \n",
            " ormalization)                                                                                    \n",
            "                                                                                                  \n",
            " re_lu_21 (ReLU)                (None, 19, 19, 256)  0           ['batch_normalization_29[0][0]'] \n",
            "                                                                                                  \n",
            " conv2d_12 (Conv2D)             (None, 10, 10, 256)  32768       ['add_7[0][0]']                  \n",
            "                                                                                                  \n",
            " max_pooling2d_12 (MaxPooling2D  (None, 10, 10, 256)  0          ['re_lu_21[0][0]']               \n",
            " )                                                                                                \n",
            "                                                                                                  \n",
            " batch_normalization_30 (BatchN  (None, 10, 10, 256)  1024       ['conv2d_12[0][0]']              \n",
            " ormalization)                                                                                    \n",
            "                                                                                                  \n",
            " add_8 (Add)                    (None, 10, 10, 256)  0           ['max_pooling2d_12[0][0]',       \n",
            "                                                                  'batch_normalization_30[0][0]'] \n",
            "                                                                                                  \n",
            " separable_conv2d_18 (Separable  (None, 10, 10, 512)  133376     ['add_8[0][0]']                  \n",
            " Conv2D)                                                                                          \n",
            "                                                                                                  \n",
            " batch_normalization_31 (BatchN  (None, 10, 10, 512)  2048       ['separable_conv2d_18[0][0]']    \n",
            " ormalization)                                                                                    \n",
            "                                                                                                  \n",
            " re_lu_22 (ReLU)                (None, 10, 10, 512)  0           ['batch_normalization_31[0][0]'] \n",
            "                                                                                                  \n",
            " separable_conv2d_19 (Separable  (None, 10, 10, 512)  266752     ['re_lu_22[0][0]']               \n",
            " Conv2D)                                                                                          \n",
            "                                                                                                  \n",
            " batch_normalization_32 (BatchN  (None, 10, 10, 512)  2048       ['separable_conv2d_19[0][0]']    \n",
            " ormalization)                                                                                    \n",
            "                                                                                                  \n",
            " re_lu_23 (ReLU)                (None, 10, 10, 512)  0           ['batch_normalization_32[0][0]'] \n",
            "                                                                                                  \n",
            " conv2d_13 (Conv2D)             (None, 5, 5, 512)    131072      ['add_8[0][0]']                  \n",
            "                                                                                                  \n",
            " max_pooling2d_13 (MaxPooling2D  (None, 5, 5, 512)   0           ['re_lu_23[0][0]']               \n",
            " )                                                                                                \n",
            "                                                                                                  \n",
            " batch_normalization_33 (BatchN  (None, 5, 5, 512)   2048        ['conv2d_13[0][0]']              \n",
            " ormalization)                                                                                    \n",
            "                                                                                                  \n",
            " add_9 (Add)                    (None, 5, 5, 512)    0           ['max_pooling2d_13[0][0]',       \n",
            "                                                                  'batch_normalization_33[0][0]'] \n",
            "                                                                                                  \n",
            " global_average_pooling2d_2 (Gl  (None, 512)         0           ['add_9[0][0]']                  \n",
            " obalAveragePooling2D)                                                                            \n",
            "                                                                                                  \n",
            " dense_2 (Dense)                (None, 6)            3078        ['global_average_pooling2d_2[0][0\n",
            "                                                                 ]']                              \n",
            "                                                                                                  \n",
            "==================================================================================================\n",
            "Total params: 725,793\n",
            "Trainable params: 719,841\n",
            "Non-trainable params: 5,952\n",
            "__________________________________________________________________________________________________\n",
            "None\n"
          ]
        }
      ]
    },
    {
      "cell_type": "code",
      "source": [
        "\n",
        "#compiling the model\n",
        "lr_schedule = keras.optimizers.schedules.ExponentialDecay(\n",
        "    initial_learning_rate=1e-3,\n",
        "    decay_steps=1000,\n",
        "    decay_rate=0.9)\n",
        "\n",
        "opt = tf.keras.optimizers.Adam(learning_rate=lr_schedule)\n",
        "baseline_with_aug.compile(loss=tf.keras.losses.SparseCategoricalCrossentropy(from_logits=False), metrics=['accuracy'], optimizer=opt)\n",
        "\n",
        "checkpoint= keras.callbacks.ModelCheckpoint( filepath=\"drive/MyDrive/cnn_assign3/baseline_with_aug_checkpoint\",save_best_only=True, monitor=\"val_loss\")\n",
        "\n",
        "history = baseline_with_aug.fit(\n",
        "            train_dataset,\n",
        "            validation_data = validation_dataset,\n",
        "            epochs = 50,\n",
        "            verbose = 1,\n",
        "            callbacks=[checkpoint, early_stopping])\n",
        "\n",
        "#save history\n",
        "np.save('drive/MyDrive/cnn_assign3/baseline_with_aug_checkpoint/history.npy', history)\n"
      ],
      "metadata": {
        "colab": {
          "base_uri": "https://localhost:8080/"
        },
        "id": "KhUEZHZQDzQu",
        "outputId": "c4c0786e-ddf0-40be-8abb-8c95cc8506d1"
      },
      "execution_count": null,
      "outputs": [
        {
          "output_type": "stream",
          "name": "stdout",
          "text": [
            "Epoch 1/50\n",
            "351/351 [==============================] - ETA: 0s - loss: 0.8415 - accuracy: 0.6941"
          ]
        },
        {
          "output_type": "stream",
          "name": "stderr",
          "text": [
            "WARNING:absl:Found untraced functions such as _jit_compiled_convolution_op, _jit_compiled_convolution_op, _jit_compiled_convolution_op, _jit_compiled_convolution_op, _jit_compiled_convolution_op while saving (showing 5 of 15). These functions will not be directly callable after loading.\n"
          ]
        },
        {
          "output_type": "stream",
          "name": "stdout",
          "text": [
            "\b\b\b\b\b\b\b\b\b\b\b\b\b\b\b\b\b\b\b\b\b\b\b\b\b\b\b\b\b\b\b\b\b\b\b\b\b\b\b\b\b\b\b\b\b\b\b\b\b\b\b\b\b\b\b\b\b\b\b\b\b\b\b\b\b\b\b\b\b\b\b\b\b\b\b\b\b\b\b\b\b\b\b\b\r351/351 [==============================] - 97s 272ms/step - loss: 0.8415 - accuracy: 0.6941 - val_loss: 3.6344 - val_accuracy: 0.1622\n",
            "Epoch 2/50\n",
            "351/351 [==============================] - ETA: 0s - loss: 0.5518 - accuracy: 0.7982"
          ]
        },
        {
          "output_type": "stream",
          "name": "stderr",
          "text": [
            "WARNING:absl:Found untraced functions such as _jit_compiled_convolution_op, _jit_compiled_convolution_op, _jit_compiled_convolution_op, _jit_compiled_convolution_op, _jit_compiled_convolution_op while saving (showing 5 of 15). These functions will not be directly callable after loading.\n"
          ]
        },
        {
          "output_type": "stream",
          "name": "stdout",
          "text": [
            "\b\b\b\b\b\b\b\b\b\b\b\b\b\b\b\b\b\b\b\b\b\b\b\b\b\b\b\b\b\b\b\b\b\b\b\b\b\b\b\b\b\b\b\b\b\b\b\b\b\b\b\b\b\b\b\b\b\b\b\b\b\b\b\b\b\b\b\b\b\b\b\b\b\b\b\b\b\b\b\b\b\b\b\b\r351/351 [==============================] - 95s 269ms/step - loss: 0.5518 - accuracy: 0.7982 - val_loss: 0.8647 - val_accuracy: 0.7120\n",
            "Epoch 3/50\n",
            "351/351 [==============================] - 89s 253ms/step - loss: 0.4456 - accuracy: 0.8420 - val_loss: 1.0054 - val_accuracy: 0.6696\n",
            "Epoch 4/50\n",
            "351/351 [==============================] - ETA: 0s - loss: 0.3744 - accuracy: 0.8669"
          ]
        },
        {
          "output_type": "stream",
          "name": "stderr",
          "text": [
            "WARNING:absl:Found untraced functions such as _jit_compiled_convolution_op, _jit_compiled_convolution_op, _jit_compiled_convolution_op, _jit_compiled_convolution_op, _jit_compiled_convolution_op while saving (showing 5 of 15). These functions will not be directly callable after loading.\n"
          ]
        },
        {
          "output_type": "stream",
          "name": "stdout",
          "text": [
            "\b\b\b\b\b\b\b\b\b\b\b\b\b\b\b\b\b\b\b\b\b\b\b\b\b\b\b\b\b\b\b\b\b\b\b\b\b\b\b\b\b\b\b\b\b\b\b\b\b\b\b\b\b\b\b\b\b\b\b\b\b\b\b\b\b\b\b\b\b\b\b\b\b\b\b\b\b\b\b\b\b\b\b\b\r351/351 [==============================] - 95s 269ms/step - loss: 0.3744 - accuracy: 0.8669 - val_loss: 0.6204 - val_accuracy: 0.8033\n",
            "Epoch 5/50\n",
            "351/351 [==============================] - 89s 255ms/step - loss: 0.3114 - accuracy: 0.8887 - val_loss: 0.6783 - val_accuracy: 0.7869\n",
            "Epoch 6/50\n",
            "351/351 [==============================] - 89s 254ms/step - loss: 0.2470 - accuracy: 0.9113 - val_loss: 0.7465 - val_accuracy: 0.7619\n",
            "Epoch 7/50\n",
            "351/351 [==============================] - ETA: 0s - loss: 0.2011 - accuracy: 0.9317"
          ]
        },
        {
          "output_type": "stream",
          "name": "stderr",
          "text": [
            "WARNING:absl:Found untraced functions such as _jit_compiled_convolution_op, _jit_compiled_convolution_op, _jit_compiled_convolution_op, _jit_compiled_convolution_op, _jit_compiled_convolution_op while saving (showing 5 of 15). These functions will not be directly callable after loading.\n"
          ]
        },
        {
          "output_type": "stream",
          "name": "stdout",
          "text": [
            "\b\b\b\b\b\b\b\b\b\b\b\b\b\b\b\b\b\b\b\b\b\b\b\b\b\b\b\b\b\b\b\b\b\b\b\b\b\b\b\b\b\b\b\b\b\b\b\b\b\b\b\b\b\b\b\b\b\b\b\b\b\b\b\b\b\b\b\b\b\b\b\b\b\b\b\b\b\b\b\b\b\b\b\b\r351/351 [==============================] - 95s 270ms/step - loss: 0.2011 - accuracy: 0.9317 - val_loss: 0.4927 - val_accuracy: 0.8375\n",
            "Epoch 8/50\n",
            "351/351 [==============================] - 89s 255ms/step - loss: 0.1592 - accuracy: 0.9449 - val_loss: 0.5231 - val_accuracy: 0.8407\n",
            "Epoch 9/50\n",
            "351/351 [==============================] - 89s 252ms/step - loss: 0.1181 - accuracy: 0.9615 - val_loss: 0.6331 - val_accuracy: 0.8158\n",
            "Epoch 10/50\n",
            "351/351 [==============================] - 90s 255ms/step - loss: 0.0865 - accuracy: 0.9727 - val_loss: 0.6062 - val_accuracy: 0.8307\n",
            "Epoch 11/50\n",
            "351/351 [==============================] - 89s 252ms/step - loss: 0.0951 - accuracy: 0.9699 - val_loss: 0.5737 - val_accuracy: 0.8354\n",
            "Epoch 12/50\n",
            "351/351 [==============================] - 90s 255ms/step - loss: 0.0702 - accuracy: 0.9780 - val_loss: 0.6398 - val_accuracy: 0.8293\n",
            "Epoch 13/50\n",
            "351/351 [==============================] - 90s 255ms/step - loss: 0.0536 - accuracy: 0.9844 - val_loss: 0.6901 - val_accuracy: 0.8175\n",
            "Epoch 14/50\n",
            "351/351 [==============================] - 89s 253ms/step - loss: 0.0550 - accuracy: 0.9852 - val_loss: 0.8752 - val_accuracy: 0.7904\n",
            "Epoch 15/50\n",
            "351/351 [==============================] - 89s 252ms/step - loss: 0.0602 - accuracy: 0.9819 - val_loss: 0.6843 - val_accuracy: 0.8229\n",
            "Epoch 16/50\n",
            "351/351 [==============================] - 90s 255ms/step - loss: 0.0480 - accuracy: 0.9867 - val_loss: 0.7383 - val_accuracy: 0.8215\n",
            "Epoch 17/50\n",
            "351/351 [==============================] - 90s 255ms/step - loss: 0.0391 - accuracy: 0.9900 - val_loss: 0.5533 - val_accuracy: 0.8649\n"
          ]
        },
        {
          "output_type": "stream",
          "name": "stderr",
          "text": [
            "WARNING:absl:Found untraced functions such as _jit_compiled_convolution_op, _jit_compiled_convolution_op, _jit_compiled_convolution_op, _jit_compiled_convolution_op, _jit_compiled_convolution_op while saving (showing 5 of 15). These functions will not be directly callable after loading.\n"
          ]
        }
      ]
    },
    {
      "cell_type": "code",
      "source": [
        "#getting train and validation accuracies\n",
        "train_acc_CNN = history.history['accuracy']\n",
        "val_acc_CNN = history.history['val_accuracy']\n",
        "\n",
        "#getting train and validation losses\n",
        "train_loss_CNN = history.history['loss']\n",
        "val_loss_CNN = history.history['val_loss']\n",
        "epochs = range(1, len(train_loss_CNN) + 1)\n",
        "\n",
        "#plotting the training and validation accurracies\n",
        "plt.plot(epochs, train_acc_CNN, 'b', label='Training acc')\n",
        "plt.plot(epochs, val_acc_CNN, 'r', label='Validation acc')\n",
        "plt.title('Training and validation accuracy for CNN')\n",
        "plt.legend()\n",
        "plt.figure()\n",
        "\n",
        "#plotting the train and validaiton losses\n",
        "plt.plot(epochs, train_loss_CNN, 'b', label='Training loss')\n",
        "plt.plot(epochs, val_loss_CNN, 'r', label='Validation loss')\n",
        "plt.title('Training and validation loss for CNN')\n",
        "plt.legend()\n",
        "\n",
        "plt.show()"
      ],
      "metadata": {
        "colab": {
          "base_uri": "https://localhost:8080/",
          "height": 545
        },
        "id": "v40Cp23uEqDR",
        "outputId": "e4c622ff-f121-4a2a-bd84-a19abde6f68c"
      },
      "execution_count": null,
      "outputs": [
        {
          "output_type": "display_data",
          "data": {
            "text/plain": [
              "<Figure size 432x288 with 1 Axes>"
            ],
            "image/png": "[encoded data removed]"
          },
          "metadata": {
            "needs_background": "light"
          }
        },
        {
          "output_type": "display_data",
          "data": {
            "text/plain": [
              "<Figure size 432x288 with 1 Axes>"
            ],
            "image/png": "[encoded data removed]"
          },
          "metadata": {
            "needs_background": "light"
          }
        }
      ]
    },
    {
      "cell_type": "markdown",
      "source": [
        "Data Augmentation didn't appear to do a lot to improve over the model. The model still over fits, the bouncing is a little less pronounced and validation accuracy moves a little more linearly with traingin accuracy."
      ],
      "metadata": {
        "id": "SK9xMEk6E2kz"
      }
    },
    {
      "cell_type": "markdown",
      "source": [
        "#5. Transfer Learning Model - Resnet50"
      ],
      "metadata": {
        "id": "mL4Z-bnZE3MJ"
      }
    },
    {
      "cell_type": "code",
      "source": [
        "#instantiate a DenseNet121 model trained on ImageNet dataset\n",
        "from tensorflow.keras.applications import DenseNet121\n",
        "conv_base = DenseNet121(weights='imagenet',\n",
        "include_top=False,\n",
        "input_shape=(150, 150, 3))\n",
        "\n",
        "#freeze the weight of the convolutional base\n",
        "conv_base.trainable=False\n",
        "\n",
        "# get the summary of the model to view its architecture\n",
        "conv_base.summary()"
      ],
      "metadata": {
        "colab": {
          "base_uri": "https://localhost:8080/"
        },
        "id": "WWjmQYidE-bn",
        "outputId": "eb169b5c-ce5a-4b58-a348-c12a0e74ab5d"
      },
      "execution_count": null,
      "outputs": [
        {
          "output_type": "stream",
          "name": "stdout",
          "text": [
            "Downloading data from https://storage.googleapis.com/tensorflow/keras-applications/densenet/densenet121_weights_tf_dim_ordering_tf_kernels_notop.h5\n",
            "29084464/29084464 [==============================] - 0s 0us/step\n",
            "Model: \"densenet121\"\n",
            "__________________________________________________________________________________________________\n",
            " Layer (type)                   Output Shape         Param #     Connected to                     \n",
            "==================================================================================================\n",
            " input_6 (InputLayer)           [(None, 150, 150, 3  0           []                               \n",
            "                                )]                                                                \n",
            "                                                                                                  \n",
            " zero_padding2d (ZeroPadding2D)  (None, 156, 156, 3)  0          ['input_6[0][0]']                \n",
            "                                                                                                  \n",
            " conv1/conv (Conv2D)            (None, 75, 75, 64)   9408        ['zero_padding2d[0][0]']         \n",
            "                                                                                                  \n",
            " conv1/bn (BatchNormalization)  (None, 75, 75, 64)   256         ['conv1/conv[0][0]']             \n",
            "                                                                                                  \n",
            " conv1/relu (Activation)        (None, 75, 75, 64)   0           ['conv1/bn[0][0]']               \n",
            "                                                                                                  \n",
            " zero_padding2d_1 (ZeroPadding2  (None, 77, 77, 64)  0           ['conv1/relu[0][0]']             \n",
            " D)                                                                                               \n",
            "                                                                                                  \n",
            " pool1 (MaxPooling2D)           (None, 38, 38, 64)   0           ['zero_padding2d_1[0][0]']       \n",
            "                                                                                                  \n",
            " conv2_block1_0_bn (BatchNormal  (None, 38, 38, 64)  256         ['pool1[0][0]']                  \n",
            " ization)                                                                                         \n",
            "                                                                                                  \n",
            " conv2_block1_0_relu (Activatio  (None, 38, 38, 64)  0           ['conv2_block1_0_bn[0][0]']      \n",
            " n)                                                                                               \n",
            "                                                                                                  \n",
            " conv2_block1_1_conv (Conv2D)   (None, 38, 38, 128)  8192        ['conv2_block1_0_relu[0][0]']    \n",
            "                                                                                                  \n",
            " conv2_block1_1_bn (BatchNormal  (None, 38, 38, 128)  512        ['conv2_block1_1_conv[0][0]']    \n",
            " ization)                                                                                         \n",
            "                                                                                                  \n",
            " conv2_block1_1_relu (Activatio  (None, 38, 38, 128)  0          ['conv2_block1_1_bn[0][0]']      \n",
            " n)                                                                                               \n",
            "                                                                                                  \n",
            " conv2_block1_2_conv (Conv2D)   (None, 38, 38, 32)   36864       ['conv2_block1_1_relu[0][0]']    \n",
            "                                                                                                  \n",
            " conv2_block1_concat (Concatena  (None, 38, 38, 96)  0           ['pool1[0][0]',                  \n",
            " te)                                                              'conv2_block1_2_conv[0][0]']    \n",
            "                                                                                                  \n",
            " conv2_block2_0_bn (BatchNormal  (None, 38, 38, 96)  384         ['conv2_block1_concat[0][0]']    \n",
            " ization)                                                                                         \n",
            "                                                                                                  \n",
            " conv2_block2_0_relu (Activatio  (None, 38, 38, 96)  0           ['conv2_block2_0_bn[0][0]']      \n",
            " n)                                                                                               \n",
            "                                                                                                  \n",
            " conv2_block2_1_conv (Conv2D)   (None, 38, 38, 128)  12288       ['conv2_block2_0_relu[0][0]']    \n",
            "                                                                                                  \n",
            " conv2_block2_1_bn (BatchNormal  (None, 38, 38, 128)  512        ['conv2_block2_1_conv[0][0]']    \n",
            " ization)                                                                                         \n",
            "                                                                                                  \n",
            " conv2_block2_1_relu (Activatio  (None, 38, 38, 128)  0          ['conv2_block2_1_bn[0][0]']      \n",
            " n)                                                                                               \n",
            "                                                                                                  \n",
            " conv2_block2_2_conv (Conv2D)   (None, 38, 38, 32)   36864       ['conv2_block2_1_relu[0][0]']    \n",
            "                                                                                                  \n",
            " conv2_block2_concat (Concatena  (None, 38, 38, 128)  0          ['conv2_block1_concat[0][0]',    \n",
            " te)                                                              'conv2_block2_2_conv[0][0]']    \n",
            "                                                                                                  \n",
            " conv2_block3_0_bn (BatchNormal  (None, 38, 38, 128)  512        ['conv2_block2_concat[0][0]']    \n",
            " ization)                                                                                         \n",
            "                                                                                                  \n",
            " conv2_block3_0_relu (Activatio  (None, 38, 38, 128)  0          ['conv2_block3_0_bn[0][0]']      \n",
            " n)                                                                                               \n",
            "                                                                                                  \n",
            " conv2_block3_1_conv (Conv2D)   (None, 38, 38, 128)  16384       ['conv2_block3_0_relu[0][0]']    \n",
            "                                                                                                  \n",
            " conv2_block3_1_bn (BatchNormal  (None, 38, 38, 128)  512        ['conv2_block3_1_conv[0][0]']    \n",
            " ization)                                                                                         \n",
            "                                                                                                  \n",
            " conv2_block3_1_relu (Activatio  (None, 38, 38, 128)  0          ['conv2_block3_1_bn[0][0]']      \n",
            " n)                                                                                               \n",
            "                                                                                                  \n",
            " conv2_block3_2_conv (Conv2D)   (None, 38, 38, 32)   36864       ['conv2_block3_1_relu[0][0]']    \n",
            "                                                                                                  \n",
            " conv2_block3_concat (Concatena  (None, 38, 38, 160)  0          ['conv2_block2_concat[0][0]',    \n",
            " te)                                                              'conv2_block3_2_conv[0][0]']    \n",
            "                                                                                                  \n",
            " conv2_block4_0_bn (BatchNormal  (None, 38, 38, 160)  640        ['conv2_block3_concat[0][0]']    \n",
            " ization)                                                                                         \n",
            "                                                                                                  \n",
            " conv2_block4_0_relu (Activatio  (None, 38, 38, 160)  0          ['conv2_block4_0_bn[0][0]']      \n",
            " n)                                                                                               \n",
            "                                                                                                  \n",
            " conv2_block4_1_conv (Conv2D)   (None, 38, 38, 128)  20480       ['conv2_block4_0_relu[0][0]']    \n",
            "                                                                                                  \n",
            " conv2_block4_1_bn (BatchNormal  (None, 38, 38, 128)  512        ['conv2_block4_1_conv[0][0]']    \n",
            " ization)                                                                                         \n",
            "                                                                                                  \n",
            " conv2_block4_1_relu (Activatio  (None, 38, 38, 128)  0          ['conv2_block4_1_bn[0][0]']      \n",
            " n)                                                                                               \n",
            "                                                                                                  \n",
            " conv2_block4_2_conv (Conv2D)   (None, 38, 38, 32)   36864       ['conv2_block4_1_relu[0][0]']    \n",
            "                                                                                                  \n",
            " conv2_block4_concat (Concatena  (None, 38, 38, 192)  0          ['conv2_block3_concat[0][0]',    \n",
            " te)                                                              'conv2_block4_2_conv[0][0]']    \n",
            "                                                                                                  \n",
            " conv2_block5_0_bn (BatchNormal  (None, 38, 38, 192)  768        ['conv2_block4_concat[0][0]']    \n",
            " ization)                                                                                         \n",
            "                                                                                                  \n",
            " conv2_block5_0_relu (Activatio  (None, 38, 38, 192)  0          ['conv2_block5_0_bn[0][0]']      \n",
            " n)                                                                                               \n",
            "                                                                                                  \n",
            " conv2_block5_1_conv (Conv2D)   (None, 38, 38, 128)  24576       ['conv2_block5_0_relu[0][0]']    \n",
            "                                                                                                  \n",
            " conv2_block5_1_bn (BatchNormal  (None, 38, 38, 128)  512        ['conv2_block5_1_conv[0][0]']    \n",
            " ization)                                                                                         \n",
            "                                                                                                  \n",
            " conv2_block5_1_relu (Activatio  (None, 38, 38, 128)  0          ['conv2_block5_1_bn[0][0]']      \n",
            " n)                                                                                               \n",
            "                                                                                                  \n",
            " conv2_block5_2_conv (Conv2D)   (None, 38, 38, 32)   36864       ['conv2_block5_1_relu[0][0]']    \n",
            "                                                                                                  \n",
            " conv2_block5_concat (Concatena  (None, 38, 38, 224)  0          ['conv2_block4_concat[0][0]',    \n",
            " te)                                                              'conv2_block5_2_conv[0][0]']    \n",
            "                                                                                                  \n",
            " conv2_block6_0_bn (BatchNormal  (None, 38, 38, 224)  896        ['conv2_block5_concat[0][0]']    \n",
            " ization)                                                                                         \n",
            "                                                                                                  \n",
            " conv2_block6_0_relu (Activatio  (None, 38, 38, 224)  0          ['conv2_block6_0_bn[0][0]']      \n",
            " n)                                                                                               \n",
            "                                                                                                  \n",
            " conv2_block6_1_conv (Conv2D)   (None, 38, 38, 128)  28672       ['conv2_block6_0_relu[0][0]']    \n",
            "                                                                                                  \n",
            " conv2_block6_1_bn (BatchNormal  (None, 38, 38, 128)  512        ['conv2_block6_1_conv[0][0]']    \n",
            " ization)                                                                                         \n",
            "                                                                                                  \n",
            " conv2_block6_1_relu (Activatio  (None, 38, 38, 128)  0          ['conv2_block6_1_bn[0][0]']      \n",
            " n)                                                                                               \n",
            "                                                                                                  \n",
            " conv2_block6_2_conv (Conv2D)   (None, 38, 38, 32)   36864       ['conv2_block6_1_relu[0][0]']    \n",
            "                                                                                                  \n",
            " conv2_block6_concat (Concatena  (None, 38, 38, 256)  0          ['conv2_block5_concat[0][0]',    \n",
            " te)                                                              'conv2_block6_2_conv[0][0]']    \n",
            "                                                                                                  \n",
            " pool2_bn (BatchNormalization)  (None, 38, 38, 256)  1024        ['conv2_block6_concat[0][0]']    \n",
            "                                                                                                  \n",
            " pool2_relu (Activation)        (None, 38, 38, 256)  0           ['pool2_bn[0][0]']               \n",
            "                                                                                                  \n",
            " pool2_conv (Conv2D)            (None, 38, 38, 128)  32768       ['pool2_relu[0][0]']             \n",
            "                                                                                                  \n",
            " pool2_pool (AveragePooling2D)  (None, 19, 19, 128)  0           ['pool2_conv[0][0]']             \n",
            "                                                                                                  \n",
            " conv3_block1_0_bn (BatchNormal  (None, 19, 19, 128)  512        ['pool2_pool[0][0]']             \n",
            " ization)                                                                                         \n",
            "                                                                                                  \n",
            " conv3_block1_0_relu (Activatio  (None, 19, 19, 128)  0          ['conv3_block1_0_bn[0][0]']      \n",
            " n)                                                                                               \n",
            "                                                                                                  \n",
            " conv3_block1_1_conv (Conv2D)   (None, 19, 19, 128)  16384       ['conv3_block1_0_relu[0][0]']    \n",
            "                                                                                                  \n",
            " conv3_block1_1_bn (BatchNormal  (None, 19, 19, 128)  512        ['conv3_block1_1_conv[0][0]']    \n",
            " ization)                                                                                         \n",
            "                                                                                                  \n",
            " conv3_block1_1_relu (Activatio  (None, 19, 19, 128)  0          ['conv3_block1_1_bn[0][0]']      \n",
            " n)                                                                                               \n",
            "                                                                                                  \n",
            " conv3_block1_2_conv (Conv2D)   (None, 19, 19, 32)   36864       ['conv3_block1_1_relu[0][0]']    \n",
            "                                                                                                  \n",
            " conv3_block1_concat (Concatena  (None, 19, 19, 160)  0          ['pool2_pool[0][0]',             \n",
            " te)                                                              'conv3_block1_2_conv[0][0]']    \n",
            "                                                                                                  \n",
            " conv3_block2_0_bn (BatchNormal  (None, 19, 19, 160)  640        ['conv3_block1_concat[0][0]']    \n",
            " ization)                                                                                         \n",
            "                                                                                                  \n",
            " conv3_block2_0_relu (Activatio  (None, 19, 19, 160)  0          ['conv3_block2_0_bn[0][0]']      \n",
            " n)                                                                                               \n",
            "                                                                                                  \n",
            " conv3_block2_1_conv (Conv2D)   (None, 19, 19, 128)  20480       ['conv3_block2_0_relu[0][0]']    \n",
            "                                                                                                  \n",
            " conv3_block2_1_bn (BatchNormal  (None, 19, 19, 128)  512        ['conv3_block2_1_conv[0][0]']    \n",
            " ization)                                                                                         \n",
            "                                                                                                  \n",
            " conv3_block2_1_relu (Activatio  (None, 19, 19, 128)  0          ['conv3_block2_1_bn[0][0]']      \n",
            " n)                                                                                               \n",
            "                                                                                                  \n",
            " conv3_block2_2_conv (Conv2D)   (None, 19, 19, 32)   36864       ['conv3_block2_1_relu[0][0]']    \n",
            "                                                                                                  \n",
            " conv3_block2_concat (Concatena  (None, 19, 19, 192)  0          ['conv3_block1_concat[0][0]',    \n",
            " te)                                                              'conv3_block2_2_conv[0][0]']    \n",
            "                                                                                                  \n",
            " conv3_block3_0_bn (BatchNormal  (None, 19, 19, 192)  768        ['conv3_block2_concat[0][0]']    \n",
            " ization)                                                                                         \n",
            "                                                                                                  \n",
            " conv3_block3_0_relu (Activatio  (None, 19, 19, 192)  0          ['conv3_block3_0_bn[0][0]']      \n",
            " n)                                                                                               \n",
            "                                                                                                  \n",
            " conv3_block3_1_conv (Conv2D)   (None, 19, 19, 128)  24576       ['conv3_block3_0_relu[0][0]']    \n",
            "                                                                                                  \n",
            " conv3_block3_1_bn (BatchNormal  (None, 19, 19, 128)  512        ['conv3_block3_1_conv[0][0]']    \n",
            " ization)                                                                                         \n",
            "                                                                                                  \n",
            " conv3_block3_1_relu (Activatio  (None, 19, 19, 128)  0          ['conv3_block3_1_bn[0][0]']      \n",
            " n)                                                                                               \n",
            "                                                                                                  \n",
            " conv3_block3_2_conv (Conv2D)   (None, 19, 19, 32)   36864       ['conv3_block3_1_relu[0][0]']    \n",
            "                                                                                                  \n",
            " conv3_block3_concat (Concatena  (None, 19, 19, 224)  0          ['conv3_block2_concat[0][0]',    \n",
            " te)                                                              'conv3_block3_2_conv[0][0]']    \n",
            "                                                                                                  \n",
            " conv3_block4_0_bn (BatchNormal  (None, 19, 19, 224)  896        ['conv3_block3_concat[0][0]']    \n",
            " ization)                                                                                         \n",
            "                                                                                                  \n",
            " conv3_block4_0_relu (Activatio  (None, 19, 19, 224)  0          ['conv3_block4_0_bn[0][0]']      \n",
            " n)                                                                                               \n",
            "                                                                                                  \n",
            " conv3_block4_1_conv (Conv2D)   (None, 19, 19, 128)  28672       ['conv3_block4_0_relu[0][0]']    \n",
            "                                                                                                  \n",
            " conv3_block4_1_bn (BatchNormal  (None, 19, 19, 128)  512        ['conv3_block4_1_conv[0][0]']    \n",
            " ization)                                                                                         \n",
            "                                                                                                  \n",
            " conv3_block4_1_relu (Activatio  (None, 19, 19, 128)  0          ['conv3_block4_1_bn[0][0]']      \n",
            " n)                                                                                               \n",
            "                                                                                                  \n",
            " conv3_block4_2_conv (Conv2D)   (None, 19, 19, 32)   36864       ['conv3_block4_1_relu[0][0]']    \n",
            "                                                                                                  \n",
            " conv3_block4_concat (Concatena  (None, 19, 19, 256)  0          ['conv3_block3_concat[0][0]',    \n",
            " te)                                                              'conv3_block4_2_conv[0][0]']    \n",
            "                                                                                                  \n",
            " conv3_block5_0_bn (BatchNormal  (None, 19, 19, 256)  1024       ['conv3_block4_concat[0][0]']    \n",
            " ization)                                                                                         \n",
            "                                                                                                  \n",
            " conv3_block5_0_relu (Activatio  (None, 19, 19, 256)  0          ['conv3_block5_0_bn[0][0]']      \n",
            " n)                                                                                               \n",
            "                                                                                                  \n",
            " conv3_block5_1_conv (Conv2D)   (None, 19, 19, 128)  32768       ['conv3_block5_0_relu[0][0]']    \n",
            "                                                                                                  \n",
            " conv3_block5_1_bn (BatchNormal  (None, 19, 19, 128)  512        ['conv3_block5_1_conv[0][0]']    \n",
            " ization)                                                                                         \n",
            "                                                                                                  \n",
            " conv3_block5_1_relu (Activatio  (None, 19, 19, 128)  0          ['conv3_block5_1_bn[0][0]']      \n",
            " n)                                                                                               \n",
            "                                                                                                  \n",
            " conv3_block5_2_conv (Conv2D)   (None, 19, 19, 32)   36864       ['conv3_block5_1_relu[0][0]']    \n",
            "                                                                                                  \n",
            " conv3_block5_concat (Concatena  (None, 19, 19, 288)  0          ['conv3_block4_concat[0][0]',    \n",
            " te)                                                              'conv3_block5_2_conv[0][0]']    \n",
            "                                                                                                  \n",
            " conv3_block6_0_bn (BatchNormal  (None, 19, 19, 288)  1152       ['conv3_block5_concat[0][0]']    \n",
            " ization)                                                                                         \n",
            "                                                                                                  \n",
            " conv3_block6_0_relu (Activatio  (None, 19, 19, 288)  0          ['conv3_block6_0_bn[0][0]']      \n",
            " n)                                                                                               \n",
            "                                                                                                  \n",
            " conv3_block6_1_conv (Conv2D)   (None, 19, 19, 128)  36864       ['conv3_block6_0_relu[0][0]']    \n",
            "                                                                                                  \n",
            " conv3_block6_1_bn (BatchNormal  (None, 19, 19, 128)  512        ['conv3_block6_1_conv[0][0]']    \n",
            " ization)                                                                                         \n",
            "                                                                                                  \n",
            " conv3_block6_1_relu (Activatio  (None, 19, 19, 128)  0          ['conv3_block6_1_bn[0][0]']      \n",
            " n)                                                                                               \n",
            "                                                                                                  \n",
            " conv3_block6_2_conv (Conv2D)   (None, 19, 19, 32)   36864       ['conv3_block6_1_relu[0][0]']    \n",
            "                                                                                                  \n",
            " conv3_block6_concat (Concatena  (None, 19, 19, 320)  0          ['conv3_block5_concat[0][0]',    \n",
            " te)                                                              'conv3_block6_2_conv[0][0]']    \n",
            "                                                                                                  \n",
            " conv3_block7_0_bn (BatchNormal  (None, 19, 19, 320)  1280       ['conv3_block6_concat[0][0]']    \n",
            " ization)                                                                                         \n",
            "                                                                                                  \n",
            " conv3_block7_0_relu (Activatio  (None, 19, 19, 320)  0          ['conv3_block7_0_bn[0][0]']      \n",
            " n)                                                                                               \n",
            "                                                                                                  \n",
            " conv3_block7_1_conv (Conv2D)   (None, 19, 19, 128)  40960       ['conv3_block7_0_relu[0][0]']    \n",
            "                                                                                                  \n",
            " conv3_block7_1_bn (BatchNormal  (None, 19, 19, 128)  512        ['conv3_block7_1_conv[0][0]']    \n",
            " ization)                                                                                         \n",
            "                                                                                                  \n",
            " conv3_block7_1_relu (Activatio  (None, 19, 19, 128)  0          ['conv3_block7_1_bn[0][0]']      \n",
            " n)                                                                                               \n",
            "                                                                                                  \n",
            " conv3_block7_2_conv (Conv2D)   (None, 19, 19, 32)   36864       ['conv3_block7_1_relu[0][0]']    \n",
            "                                                                                                  \n",
            " conv3_block7_concat (Concatena  (None, 19, 19, 352)  0          ['conv3_block6_concat[0][0]',    \n",
            " te)                                                              'conv3_block7_2_conv[0][0]']    \n",
            "                                                                                                  \n",
            " conv3_block8_0_bn (BatchNormal  (None, 19, 19, 352)  1408       ['conv3_block7_concat[0][0]']    \n",
            " ization)                                                                                         \n",
            "                                                                                                  \n",
            " conv3_block8_0_relu (Activatio  (None, 19, 19, 352)  0          ['conv3_block8_0_bn[0][0]']      \n",
            " n)                                                                                               \n",
            "                                                                                                  \n",
            " conv3_block8_1_conv (Conv2D)   (None, 19, 19, 128)  45056       ['conv3_block8_0_relu[0][0]']    \n",
            "                                                                                                  \n",
            " conv3_block8_1_bn (BatchNormal  (None, 19, 19, 128)  512        ['conv3_block8_1_conv[0][0]']    \n",
            " ization)                                                                                         \n",
            "                                                                                                  \n",
            " conv3_block8_1_relu (Activatio  (None, 19, 19, 128)  0          ['conv3_block8_1_bn[0][0]']      \n",
            " n)                                                                                               \n",
            "                                                                                                  \n",
            " conv3_block8_2_conv (Conv2D)   (None, 19, 19, 32)   36864       ['conv3_block8_1_relu[0][0]']    \n",
            "                                                                                                  \n",
            " conv3_block8_concat (Concatena  (None, 19, 19, 384)  0          ['conv3_block7_concat[0][0]',    \n",
            " te)                                                              'conv3_block8_2_conv[0][0]']    \n",
            "                                                                                                  \n",
            " conv3_block9_0_bn (BatchNormal  (None, 19, 19, 384)  1536       ['conv3_block8_concat[0][0]']    \n",
            " ization)                                                                                         \n",
            "                                                                                                  \n",
            " conv3_block9_0_relu (Activatio  (None, 19, 19, 384)  0          ['conv3_block9_0_bn[0][0]']      \n",
            " n)                                                                                               \n",
            "                                                                                                  \n",
            " conv3_block9_1_conv (Conv2D)   (None, 19, 19, 128)  49152       ['conv3_block9_0_relu[0][0]']    \n",
            "                                                                                                  \n",
            " conv3_block9_1_bn (BatchNormal  (None, 19, 19, 128)  512        ['conv3_block9_1_conv[0][0]']    \n",
            " ization)                                                                                         \n",
            "                                                                                                  \n",
            " conv3_block9_1_relu (Activatio  (None, 19, 19, 128)  0          ['conv3_block9_1_bn[0][0]']      \n",
            " n)                                                                                               \n",
            "                                                                                                  \n",
            " conv3_block9_2_conv (Conv2D)   (None, 19, 19, 32)   36864       ['conv3_block9_1_relu[0][0]']    \n",
            "                                                                                                  \n",
            " conv3_block9_concat (Concatena  (None, 19, 19, 416)  0          ['conv3_block8_concat[0][0]',    \n",
            " te)                                                              'conv3_block9_2_conv[0][0]']    \n",
            "                                                                                                  \n",
            " conv3_block10_0_bn (BatchNorma  (None, 19, 19, 416)  1664       ['conv3_block9_concat[0][0]']    \n",
            " lization)                                                                                        \n",
            "                                                                                                  \n",
            " conv3_block10_0_relu (Activati  (None, 19, 19, 416)  0          ['conv3_block10_0_bn[0][0]']     \n",
            " on)                                                                                              \n",
            "                                                                                                  \n",
            " conv3_block10_1_conv (Conv2D)  (None, 19, 19, 128)  53248       ['conv3_block10_0_relu[0][0]']   \n",
            "                                                                                                  \n",
            " conv3_block10_1_bn (BatchNorma  (None, 19, 19, 128)  512        ['conv3_block10_1_conv[0][0]']   \n",
            " lization)                                                                                        \n",
            "                                                                                                  \n",
            " conv3_block10_1_relu (Activati  (None, 19, 19, 128)  0          ['conv3_block10_1_bn[0][0]']     \n",
            " on)                                                                                              \n",
            "                                                                                                  \n",
            " conv3_block10_2_conv (Conv2D)  (None, 19, 19, 32)   36864       ['conv3_block10_1_relu[0][0]']   \n",
            "                                                                                                  \n",
            " conv3_block10_concat (Concaten  (None, 19, 19, 448)  0          ['conv3_block9_concat[0][0]',    \n",
            " ate)                                                             'conv3_block10_2_conv[0][0]']   \n",
            "                                                                                                  \n",
            " conv3_block11_0_bn (BatchNorma  (None, 19, 19, 448)  1792       ['conv3_block10_concat[0][0]']   \n",
            " lization)                                                                                        \n",
            "                                                                                                  \n",
            " conv3_block11_0_relu (Activati  (None, 19, 19, 448)  0          ['conv3_block11_0_bn[0][0]']     \n",
            " on)                                                                                              \n",
            "                                                                                                  \n",
            " conv3_block11_1_conv (Conv2D)  (None, 19, 19, 128)  57344       ['conv3_block11_0_relu[0][0]']   \n",
            "                                                                                                  \n",
            " conv3_block11_1_bn (BatchNorma  (None, 19, 19, 128)  512        ['conv3_block11_1_conv[0][0]']   \n",
            " lization)                                                                                        \n",
            "                                                                                                  \n",
            " conv3_block11_1_relu (Activati  (None, 19, 19, 128)  0          ['conv3_block11_1_bn[0][0]']     \n",
            " on)                                                                                              \n",
            "                                                                                                  \n",
            " conv3_block11_2_conv (Conv2D)  (None, 19, 19, 32)   36864       ['conv3_block11_1_relu[0][0]']   \n",
            "                                                                                                  \n",
            " conv3_block11_concat (Concaten  (None, 19, 19, 480)  0          ['conv3_block10_concat[0][0]',   \n",
            " ate)                                                             'conv3_block11_2_conv[0][0]']   \n",
            "                                                                                                  \n",
            " conv3_block12_0_bn (BatchNorma  (None, 19, 19, 480)  1920       ['conv3_block11_concat[0][0]']   \n",
            " lization)                                                                                        \n",
            "                                                                                                  \n",
            " conv3_block12_0_relu (Activati  (None, 19, 19, 480)  0          ['conv3_block12_0_bn[0][0]']     \n",
            " on)                                                                                              \n",
            "                                                                                                  \n",
            " conv3_block12_1_conv (Conv2D)  (None, 19, 19, 128)  61440       ['conv3_block12_0_relu[0][0]']   \n",
            "                                                                                                  \n",
            " conv3_block12_1_bn (BatchNorma  (None, 19, 19, 128)  512        ['conv3_block12_1_conv[0][0]']   \n",
            " lization)                                                                                        \n",
            "                                                                                                  \n",
            " conv3_block12_1_relu (Activati  (None, 19, 19, 128)  0          ['conv3_block12_1_bn[0][0]']     \n",
            " on)                                                                                              \n",
            "                                                                                                  \n",
            " conv3_block12_2_conv (Conv2D)  (None, 19, 19, 32)   36864       ['conv3_block12_1_relu[0][0]']   \n",
            "                                                                                                  \n",
            " conv3_block12_concat (Concaten  (None, 19, 19, 512)  0          ['conv3_block11_concat[0][0]',   \n",
            " ate)                                                             'conv3_block12_2_conv[0][0]']   \n",
            "                                                                                                  \n",
            " pool3_bn (BatchNormalization)  (None, 19, 19, 512)  2048        ['conv3_block12_concat[0][0]']   \n",
            "                                                                                                  \n",
            " pool3_relu (Activation)        (None, 19, 19, 512)  0           ['pool3_bn[0][0]']               \n",
            "                                                                                                  \n",
            " pool3_conv (Conv2D)            (None, 19, 19, 256)  131072      ['pool3_relu[0][0]']             \n",
            "                                                                                                  \n",
            " pool3_pool (AveragePooling2D)  (None, 9, 9, 256)    0           ['pool3_conv[0][0]']             \n",
            "                                                                                                  \n",
            " conv4_block1_0_bn (BatchNormal  (None, 9, 9, 256)   1024        ['pool3_pool[0][0]']             \n",
            " ization)                                                                                         \n",
            "                                                                                                  \n",
            " conv4_block1_0_relu (Activatio  (None, 9, 9, 256)   0           ['conv4_block1_0_bn[0][0]']      \n",
            " n)                                                                                               \n",
            "                                                                                                  \n",
            " conv4_block1_1_conv (Conv2D)   (None, 9, 9, 128)    32768       ['conv4_block1_0_relu[0][0]']    \n",
            "                                                                                                  \n",
            " conv4_block1_1_bn (BatchNormal  (None, 9, 9, 128)   512         ['conv4_block1_1_conv[0][0]']    \n",
            " ization)                                                                                         \n",
            "                                                                                                  \n",
            " conv4_block1_1_relu (Activatio  (None, 9, 9, 128)   0           ['conv4_block1_1_bn[0][0]']      \n",
            " n)                                                                                               \n",
            "                                                                                                  \n",
            " conv4_block1_2_conv (Conv2D)   (None, 9, 9, 32)     36864       ['conv4_block1_1_relu[0][0]']    \n",
            "                                                                                                  \n",
            " conv4_block1_concat (Concatena  (None, 9, 9, 288)   0           ['pool3_pool[0][0]',             \n",
            " te)                                                              'conv4_block1_2_conv[0][0]']    \n",
            "                                                                                                  \n",
            " conv4_block2_0_bn (BatchNormal  (None, 9, 9, 288)   1152        ['conv4_block1_concat[0][0]']    \n",
            " ization)                                                                                         \n",
            "                                                                                                  \n",
            " conv4_block2_0_relu (Activatio  (None, 9, 9, 288)   0           ['conv4_block2_0_bn[0][0]']      \n",
            " n)                                                                                               \n",
            "                                                                                                  \n",
            " conv4_block2_1_conv (Conv2D)   (None, 9, 9, 128)    36864       ['conv4_block2_0_relu[0][0]']    \n",
            "                                                                                                  \n",
            " conv4_block2_1_bn (BatchNormal  (None, 9, 9, 128)   512         ['conv4_block2_1_conv[0][0]']    \n",
            " ization)                                                                                         \n",
            "                                                                                                  \n",
            " conv4_block2_1_relu (Activatio  (None, 9, 9, 128)   0           ['conv4_block2_1_bn[0][0]']      \n",
            " n)                                                                                               \n",
            "                                                                                                  \n",
            " conv4_block2_2_conv (Conv2D)   (None, 9, 9, 32)     36864       ['conv4_block2_1_relu[0][0]']    \n",
            "                                                                                                  \n",
            " conv4_block2_concat (Concatena  (None, 9, 9, 320)   0           ['conv4_block1_concat[0][0]',    \n",
            " te)                                                              'conv4_block2_2_conv[0][0]']    \n",
            "                                                                                                  \n",
            " conv4_block3_0_bn (BatchNormal  (None, 9, 9, 320)   1280        ['conv4_block2_concat[0][0]']    \n",
            " ization)                                                                                         \n",
            "                                                                                                  \n",
            " conv4_block3_0_relu (Activatio  (None, 9, 9, 320)   0           ['conv4_block3_0_bn[0][0]']      \n",
            " n)                                                                                               \n",
            "                                                                                                  \n",
            " conv4_block3_1_conv (Conv2D)   (None, 9, 9, 128)    40960       ['conv4_block3_0_relu[0][0]']    \n",
            "                                                                                                  \n",
            " conv4_block3_1_bn (BatchNormal  (None, 9, 9, 128)   512         ['conv4_block3_1_conv[0][0]']    \n",
            " ization)                                                                                         \n",
            "                                                                                                  \n",
            " conv4_block3_1_relu (Activatio  (None, 9, 9, 128)   0           ['conv4_block3_1_bn[0][0]']      \n",
            " n)                                                                                               \n",
            "                                                                                                  \n",
            " conv4_block3_2_conv (Conv2D)   (None, 9, 9, 32)     36864       ['conv4_block3_1_relu[0][0]']    \n",
            "                                                                                                  \n",
            " conv4_block3_concat (Concatena  (None, 9, 9, 352)   0           ['conv4_block2_concat[0][0]',    \n",
            " te)                                                              'conv4_block3_2_conv[0][0]']    \n",
            "                                                                                                  \n",
            " conv4_block4_0_bn (BatchNormal  (None, 9, 9, 352)   1408        ['conv4_block3_concat[0][0]']    \n",
            " ization)                                                                                         \n",
            "                                                                                                  \n",
            " conv4_block4_0_relu (Activatio  (None, 9, 9, 352)   0           ['conv4_block4_0_bn[0][0]']      \n",
            " n)                                                                                               \n",
            "                                                                                                  \n",
            " conv4_block4_1_conv (Conv2D)   (None, 9, 9, 128)    45056       ['conv4_block4_0_relu[0][0]']    \n",
            "                                                                                                  \n",
            " conv4_block4_1_bn (BatchNormal  (None, 9, 9, 128)   512         ['conv4_block4_1_conv[0][0]']    \n",
            " ization)                                                                                         \n",
            "                                                                                                  \n",
            " conv4_block4_1_relu (Activatio  (None, 9, 9, 128)   0           ['conv4_block4_1_bn[0][0]']      \n",
            " n)                                                                                               \n",
            "                                                                                                  \n",
            " conv4_block4_2_conv (Conv2D)   (None, 9, 9, 32)     36864       ['conv4_block4_1_relu[0][0]']    \n",
            "                                                                                                  \n",
            " conv4_block4_concat (Concatena  (None, 9, 9, 384)   0           ['conv4_block3_concat[0][0]',    \n",
            " te)                                                              'conv4_block4_2_conv[0][0]']    \n",
            "                                                                                                  \n",
            " conv4_block5_0_bn (BatchNormal  (None, 9, 9, 384)   1536        ['conv4_block4_concat[0][0]']    \n",
            " ization)                                                                                         \n",
            "                                                                                                  \n",
            " conv4_block5_0_relu (Activatio  (None, 9, 9, 384)   0           ['conv4_block5_0_bn[0][0]']      \n",
            " n)                                                                                               \n",
            "                                                                                                  \n",
            " conv4_block5_1_conv (Conv2D)   (None, 9, 9, 128)    49152       ['conv4_block5_0_relu[0][0]']    \n",
            "                                                                                                  \n",
            " conv4_block5_1_bn (BatchNormal  (None, 9, 9, 128)   512         ['conv4_block5_1_conv[0][0]']    \n",
            " ization)                                                                                         \n",
            "                                                                                                  \n",
            " conv4_block5_1_relu (Activatio  (None, 9, 9, 128)   0           ['conv4_block5_1_bn[0][0]']      \n",
            " n)                                                                                               \n",
            "                                                                                                  \n",
            " conv4_block5_2_conv (Conv2D)   (None, 9, 9, 32)     36864       ['conv4_block5_1_relu[0][0]']    \n",
            "                                                                                                  \n",
            " conv4_block5_concat (Concatena  (None, 9, 9, 416)   0           ['conv4_block4_concat[0][0]',    \n",
            " te)                                                              'conv4_block5_2_conv[0][0]']    \n",
            "                                                                                                  \n",
            " conv4_block6_0_bn (BatchNormal  (None, 9, 9, 416)   1664        ['conv4_block5_concat[0][0]']    \n",
            " ization)                                                                                         \n",
            "                                                                                                  \n",
            " conv4_block6_0_relu (Activatio  (None, 9, 9, 416)   0           ['conv4_block6_0_bn[0][0]']      \n",
            " n)                                                                                               \n",
            "                                                                                                  \n",
            " conv4_block6_1_conv (Conv2D)   (None, 9, 9, 128)    53248       ['conv4_block6_0_relu[0][0]']    \n",
            "                                                                                                  \n",
            " conv4_block6_1_bn (BatchNormal  (None, 9, 9, 128)   512         ['conv4_block6_1_conv[0][0]']    \n",
            " ization)                                                                                         \n",
            "                                                                                                  \n",
            " conv4_block6_1_relu (Activatio  (None, 9, 9, 128)   0           ['conv4_block6_1_bn[0][0]']      \n",
            " n)                                                                                               \n",
            "                                                                                                  \n",
            " conv4_block6_2_conv (Conv2D)   (None, 9, 9, 32)     36864       ['conv4_block6_1_relu[0][0]']    \n",
            "                                                                                                  \n",
            " conv4_block6_concat (Concatena  (None, 9, 9, 448)   0           ['conv4_block5_concat[0][0]',    \n",
            " te)                                                              'conv4_block6_2_conv[0][0]']    \n",
            "                                                                                                  \n",
            " conv4_block7_0_bn (BatchNormal  (None, 9, 9, 448)   1792        ['conv4_block6_concat[0][0]']    \n",
            " ization)                                                                                         \n",
            "                                                                                                  \n",
            " conv4_block7_0_relu (Activatio  (None, 9, 9, 448)   0           ['conv4_block7_0_bn[0][0]']      \n",
            " n)                                                                                               \n",
            "                                                                                                  \n",
            " conv4_block7_1_conv (Conv2D)   (None, 9, 9, 128)    57344       ['conv4_block7_0_relu[0][0]']    \n",
            "                                                                                                  \n",
            " conv4_block7_1_bn (BatchNormal  (None, 9, 9, 128)   512         ['conv4_block7_1_conv[0][0]']    \n",
            " ization)                                                                                         \n",
            "                                                                                                  \n",
            " conv4_block7_1_relu (Activatio  (None, 9, 9, 128)   0           ['conv4_block7_1_bn[0][0]']      \n",
            " n)                                                                                               \n",
            "                                                                                                  \n",
            " conv4_block7_2_conv (Conv2D)   (None, 9, 9, 32)     36864       ['conv4_block7_1_relu[0][0]']    \n",
            "                                                                                                  \n",
            " conv4_block7_concat (Concatena  (None, 9, 9, 480)   0           ['conv4_block6_concat[0][0]',    \n",
            " te)                                                              'conv4_block7_2_conv[0][0]']    \n",
            "                                                                                                  \n",
            " conv4_block8_0_bn (BatchNormal  (None, 9, 9, 480)   1920        ['conv4_block7_concat[0][0]']    \n",
            " ization)                                                                                         \n",
            "                                                                                                  \n",
            " conv4_block8_0_relu (Activatio  (None, 9, 9, 480)   0           ['conv4_block8_0_bn[0][0]']      \n",
            " n)                                                                                               \n",
            "                                                                                                  \n",
            " conv4_block8_1_conv (Conv2D)   (None, 9, 9, 128)    61440       ['conv4_block8_0_relu[0][0]']    \n",
            "                                                                                                  \n",
            " conv4_block8_1_bn (BatchNormal  (None, 9, 9, 128)   512         ['conv4_block8_1_conv[0][0]']    \n",
            " ization)                                                                                         \n",
            "                                                                                                  \n",
            " conv4_block8_1_relu (Activatio  (None, 9, 9, 128)   0           ['conv4_block8_1_bn[0][0]']      \n",
            " n)                                                                                               \n",
            "                                                                                                  \n",
            " conv4_block8_2_conv (Conv2D)   (None, 9, 9, 32)     36864       ['conv4_block8_1_relu[0][0]']    \n",
            "                                                                                                  \n",
            " conv4_block8_concat (Concatena  (None, 9, 9, 512)   0           ['conv4_block7_concat[0][0]',    \n",
            " te)                                                              'conv4_block8_2_conv[0][0]']    \n",
            "                                                                                                  \n",
            " conv4_block9_0_bn (BatchNormal  (None, 9, 9, 512)   2048        ['conv4_block8_concat[0][0]']    \n",
            " ization)                                                                                         \n",
            "                                                                                                  \n",
            " conv4_block9_0_relu (Activatio  (None, 9, 9, 512)   0           ['conv4_block9_0_bn[0][0]']      \n",
            " n)                                                                                               \n",
            "                                                                                                  \n",
            " conv4_block9_1_conv (Conv2D)   (None, 9, 9, 128)    65536       ['conv4_block9_0_relu[0][0]']    \n",
            "                                                                                                  \n",
            " conv4_block9_1_bn (BatchNormal  (None, 9, 9, 128)   512         ['conv4_block9_1_conv[0][0]']    \n",
            " ization)                                                                                         \n",
            "                                                                                                  \n",
            " conv4_block9_1_relu (Activatio  (None, 9, 9, 128)   0           ['conv4_block9_1_bn[0][0]']      \n",
            " n)                                                                                               \n",
            "                                                                                                  \n",
            " conv4_block9_2_conv (Conv2D)   (None, 9, 9, 32)     36864       ['conv4_block9_1_relu[0][0]']    \n",
            "                                                                                                  \n",
            " conv4_block9_concat (Concatena  (None, 9, 9, 544)   0           ['conv4_block8_concat[0][0]',    \n",
            " te)                                                              'conv4_block9_2_conv[0][0]']    \n",
            "                                                                                                  \n",
            " conv4_block10_0_bn (BatchNorma  (None, 9, 9, 544)   2176        ['conv4_block9_concat[0][0]']    \n",
            " lization)                                                                                        \n",
            "                                                                                                  \n",
            " conv4_block10_0_relu (Activati  (None, 9, 9, 544)   0           ['conv4_block10_0_bn[0][0]']     \n",
            " on)                                                                                              \n",
            "                                                                                                  \n",
            " conv4_block10_1_conv (Conv2D)  (None, 9, 9, 128)    69632       ['conv4_block10_0_relu[0][0]']   \n",
            "                                                                                                  \n",
            " conv4_block10_1_bn (BatchNorma  (None, 9, 9, 128)   512         ['conv4_block10_1_conv[0][0]']   \n",
            " lization)                                                                                        \n",
            "                                                                                                  \n",
            " conv4_block10_1_relu (Activati  (None, 9, 9, 128)   0           ['conv4_block10_1_bn[0][0]']     \n",
            " on)                                                                                              \n",
            "                                                                                                  \n",
            " conv4_block10_2_conv (Conv2D)  (None, 9, 9, 32)     36864       ['conv4_block10_1_relu[0][0]']   \n",
            "                                                                                                  \n",
            " conv4_block10_concat (Concaten  (None, 9, 9, 576)   0           ['conv4_block9_concat[0][0]',    \n",
            " ate)                                                             'conv4_block10_2_conv[0][0]']   \n",
            "                                                                                                  \n",
            " conv4_block11_0_bn (BatchNorma  (None, 9, 9, 576)   2304        ['conv4_block10_concat[0][0]']   \n",
            " lization)                                                                                        \n",
            "                                                                                                  \n",
            " conv4_block11_0_relu (Activati  (None, 9, 9, 576)   0           ['conv4_block11_0_bn[0][0]']     \n",
            " on)                                                                                              \n",
            "                                                                                                  \n",
            " conv4_block11_1_conv (Conv2D)  (None, 9, 9, 128)    73728       ['conv4_block11_0_relu[0][0]']   \n",
            "                                                                                                  \n",
            " conv4_block11_1_bn (BatchNorma  (None, 9, 9, 128)   512         ['conv4_block11_1_conv[0][0]']   \n",
            " lization)                                                                                        \n",
            "                                                                                                  \n",
            " conv4_block11_1_relu (Activati  (None, 9, 9, 128)   0           ['conv4_block11_1_bn[0][0]']     \n",
            " on)                                                                                              \n",
            "                                                                                                  \n",
            " conv4_block11_2_conv (Conv2D)  (None, 9, 9, 32)     36864       ['conv4_block11_1_relu[0][0]']   \n",
            "                                                                                                  \n",
            " conv4_block11_concat (Concaten  (None, 9, 9, 608)   0           ['conv4_block10_concat[0][0]',   \n",
            " ate)                                                             'conv4_block11_2_conv[0][0]']   \n",
            "                                                                                                  \n",
            " conv4_block12_0_bn (BatchNorma  (None, 9, 9, 608)   2432        ['conv4_block11_concat[0][0]']   \n",
            " lization)                                                                                        \n",
            "                                                                                                  \n",
            " conv4_block12_0_relu (Activati  (None, 9, 9, 608)   0           ['conv4_block12_0_bn[0][0]']     \n",
            " on)                                                                                              \n",
            "                                                                                                  \n",
            " conv4_block12_1_conv (Conv2D)  (None, 9, 9, 128)    77824       ['conv4_block12_0_relu[0][0]']   \n",
            "                                                                                                  \n",
            " conv4_block12_1_bn (BatchNorma  (None, 9, 9, 128)   512         ['conv4_block12_1_conv[0][0]']   \n",
            " lization)                                                                                        \n",
            "                                                                                                  \n",
            " conv4_block12_1_relu (Activati  (None, 9, 9, 128)   0           ['conv4_block12_1_bn[0][0]']     \n",
            " on)                                                                                              \n",
            "                                                                                                  \n",
            " conv4_block12_2_conv (Conv2D)  (None, 9, 9, 32)     36864       ['conv4_block12_1_relu[0][0]']   \n",
            "                                                                                                  \n",
            " conv4_block12_concat (Concaten  (None, 9, 9, 640)   0           ['conv4_block11_concat[0][0]',   \n",
            " ate)                                                             'conv4_block12_2_conv[0][0]']   \n",
            "                                                                                                  \n",
            " conv4_block13_0_bn (BatchNorma  (None, 9, 9, 640)   2560        ['conv4_block12_concat[0][0]']   \n",
            " lization)                                                                                        \n",
            "                                                                                                  \n",
            " conv4_block13_0_relu (Activati  (None, 9, 9, 640)   0           ['conv4_block13_0_bn[0][0]']     \n",
            " on)                                                                                              \n",
            "                                                                                                  \n",
            " conv4_block13_1_conv (Conv2D)  (None, 9, 9, 128)    81920       ['conv4_block13_0_relu[0][0]']   \n",
            "                                                                                                  \n",
            " conv4_block13_1_bn (BatchNorma  (None, 9, 9, 128)   512         ['conv4_block13_1_conv[0][0]']   \n",
            " lization)                                                                                        \n",
            "                                                                                                  \n",
            " conv4_block13_1_relu (Activati  (None, 9, 9, 128)   0           ['conv4_block13_1_bn[0][0]']     \n",
            " on)                                                                                              \n",
            "                                                                                                  \n",
            " conv4_block13_2_conv (Conv2D)  (None, 9, 9, 32)     36864       ['conv4_block13_1_relu[0][0]']   \n",
            "                                                                                                  \n",
            " conv4_block13_concat (Concaten  (None, 9, 9, 672)   0           ['conv4_block12_concat[0][0]',   \n",
            " ate)                                                             'conv4_block13_2_conv[0][0]']   \n",
            "                                                                                                  \n",
            " conv4_block14_0_bn (BatchNorma  (None, 9, 9, 672)   2688        ['conv4_block13_concat[0][0]']   \n",
            " lization)                                                                                        \n",
            "                                                                                                  \n",
            " conv4_block14_0_relu (Activati  (None, 9, 9, 672)   0           ['conv4_block14_0_bn[0][0]']     \n",
            " on)                                                                                              \n",
            "                                                                                                  \n",
            " conv4_block14_1_conv (Conv2D)  (None, 9, 9, 128)    86016       ['conv4_block14_0_relu[0][0]']   \n",
            "                                                                                                  \n",
            " conv4_block14_1_bn (BatchNorma  (None, 9, 9, 128)   512         ['conv4_block14_1_conv[0][0]']   \n",
            " lization)                                                                                        \n",
            "                                                                                                  \n",
            " conv4_block14_1_relu (Activati  (None, 9, 9, 128)   0           ['conv4_block14_1_bn[0][0]']     \n",
            " on)                                                                                              \n",
            "                                                                                                  \n",
            " conv4_block14_2_conv (Conv2D)  (None, 9, 9, 32)     36864       ['conv4_block14_1_relu[0][0]']   \n",
            "                                                                                                  \n",
            " conv4_block14_concat (Concaten  (None, 9, 9, 704)   0           ['conv4_block13_concat[0][0]',   \n",
            " ate)                                                             'conv4_block14_2_conv[0][0]']   \n",
            "                                                                                                  \n",
            " conv4_block15_0_bn (BatchNorma  (None, 9, 9, 704)   2816        ['conv4_block14_concat[0][0]']   \n",
            " lization)                                                                                        \n",
            "                                                                                                  \n",
            " conv4_block15_0_relu (Activati  (None, 9, 9, 704)   0           ['conv4_block15_0_bn[0][0]']     \n",
            " on)                                                                                              \n",
            "                                                                                                  \n",
            " conv4_block15_1_conv (Conv2D)  (None, 9, 9, 128)    90112       ['conv4_block15_0_relu[0][0]']   \n",
            "                                                                                                  \n",
            " conv4_block15_1_bn (BatchNorma  (None, 9, 9, 128)   512         ['conv4_block15_1_conv[0][0]']   \n",
            " lization)                                                                                        \n",
            "                                                                                                  \n",
            " conv4_block15_1_relu (Activati  (None, 9, 9, 128)   0           ['conv4_block15_1_bn[0][0]']     \n",
            " on)                                                                                              \n",
            "                                                                                                  \n",
            " conv4_block15_2_conv (Conv2D)  (None, 9, 9, 32)     36864       ['conv4_block15_1_relu[0][0]']   \n",
            "                                                                                                  \n",
            " conv4_block15_concat (Concaten  (None, 9, 9, 736)   0           ['conv4_block14_concat[0][0]',   \n",
            " ate)                                                             'conv4_block15_2_conv[0][0]']   \n",
            "                                                                                                  \n",
            " conv4_block16_0_bn (BatchNorma  (None, 9, 9, 736)   2944        ['conv4_block15_concat[0][0]']   \n",
            " lization)                                                                                        \n",
            "                                                                                                  \n",
            " conv4_block16_0_relu (Activati  (None, 9, 9, 736)   0           ['conv4_block16_0_bn[0][0]']     \n",
            " on)                                                                                              \n",
            "                                                                                                  \n",
            " conv4_block16_1_conv (Conv2D)  (None, 9, 9, 128)    94208       ['conv4_block16_0_relu[0][0]']   \n",
            "                                                                                                  \n",
            " conv4_block16_1_bn (BatchNorma  (None, 9, 9, 128)   512         ['conv4_block16_1_conv[0][0]']   \n",
            " lization)                                                                                        \n",
            "                                                                                                  \n",
            " conv4_block16_1_relu (Activati  (None, 9, 9, 128)   0           ['conv4_block16_1_bn[0][0]']     \n",
            " on)                                                                                              \n",
            "                                                                                                  \n",
            " conv4_block16_2_conv (Conv2D)  (None, 9, 9, 32)     36864       ['conv4_block16_1_relu[0][0]']   \n",
            "                                                                                                  \n",
            " conv4_block16_concat (Concaten  (None, 9, 9, 768)   0           ['conv4_block15_concat[0][0]',   \n",
            " ate)                                                             'conv4_block16_2_conv[0][0]']   \n",
            "                                                                                                  \n",
            " conv4_block17_0_bn (BatchNorma  (None, 9, 9, 768)   3072        ['conv4_block16_concat[0][0]']   \n",
            " lization)                                                                                        \n",
            "                                                                                                  \n",
            " conv4_block17_0_relu (Activati  (None, 9, 9, 768)   0           ['conv4_block17_0_bn[0][0]']     \n",
            " on)                                                                                              \n",
            "                                                                                                  \n",
            " conv4_block17_1_conv (Conv2D)  (None, 9, 9, 128)    98304       ['conv4_block17_0_relu[0][0]']   \n",
            "                                                                                                  \n",
            " conv4_block17_1_bn (BatchNorma  (None, 9, 9, 128)   512         ['conv4_block17_1_conv[0][0]']   \n",
            " lization)                                                                                        \n",
            "                                                                                                  \n",
            " conv4_block17_1_relu (Activati  (None, 9, 9, 128)   0           ['conv4_block17_1_bn[0][0]']     \n",
            " on)                                                                                              \n",
            "                                                                                                  \n",
            " conv4_block17_2_conv (Conv2D)  (None, 9, 9, 32)     36864       ['conv4_block17_1_relu[0][0]']   \n",
            "                                                                                                  \n",
            " conv4_block17_concat (Concaten  (None, 9, 9, 800)   0           ['conv4_block16_concat[0][0]',   \n",
            " ate)                                                             'conv4_block17_2_conv[0][0]']   \n",
            "                                                                                                  \n",
            " conv4_block18_0_bn (BatchNorma  (None, 9, 9, 800)   3200        ['conv4_block17_concat[0][0]']   \n",
            " lization)                                                                                        \n",
            "                                                                                                  \n",
            " conv4_block18_0_relu (Activati  (None, 9, 9, 800)   0           ['conv4_block18_0_bn[0][0]']     \n",
            " on)                                                                                              \n",
            "                                                                                                  \n",
            " conv4_block18_1_conv (Conv2D)  (None, 9, 9, 128)    102400      ['conv4_block18_0_relu[0][0]']   \n",
            "                                                                                                  \n",
            " conv4_block18_1_bn (BatchNorma  (None, 9, 9, 128)   512         ['conv4_block18_1_conv[0][0]']   \n",
            " lization)                                                                                        \n",
            "                                                                                                  \n",
            " conv4_block18_1_relu (Activati  (None, 9, 9, 128)   0           ['conv4_block18_1_bn[0][0]']     \n",
            " on)                                                                                              \n",
            "                                                                                                  \n",
            " conv4_block18_2_conv (Conv2D)  (None, 9, 9, 32)     36864       ['conv4_block18_1_relu[0][0]']   \n",
            "                                                                                                  \n",
            " conv4_block18_concat (Concaten  (None, 9, 9, 832)   0           ['conv4_block17_concat[0][0]',   \n",
            " ate)                                                             'conv4_block18_2_conv[0][0]']   \n",
            "                                                                                                  \n",
            " conv4_block19_0_bn (BatchNorma  (None, 9, 9, 832)   3328        ['conv4_block18_concat[0][0]']   \n",
            " lization)                                                                                        \n",
            "                                                                                                  \n",
            " conv4_block19_0_relu (Activati  (None, 9, 9, 832)   0           ['conv4_block19_0_bn[0][0]']     \n",
            " on)                                                                                              \n",
            "                                                                                                  \n",
            " conv4_block19_1_conv (Conv2D)  (None, 9, 9, 128)    106496      ['conv4_block19_0_relu[0][0]']   \n",
            "                                                                                                  \n",
            " conv4_block19_1_bn (BatchNorma  (None, 9, 9, 128)   512         ['conv4_block19_1_conv[0][0]']   \n",
            " lization)                                                                                        \n",
            "                                                                                                  \n",
            " conv4_block19_1_relu (Activati  (None, 9, 9, 128)   0           ['conv4_block19_1_bn[0][0]']     \n",
            " on)                                                                                              \n",
            "                                                                                                  \n",
            " conv4_block19_2_conv (Conv2D)  (None, 9, 9, 32)     36864       ['conv4_block19_1_relu[0][0]']   \n",
            "                                                                                                  \n",
            " conv4_block19_concat (Concaten  (None, 9, 9, 864)   0           ['conv4_block18_concat[0][0]',   \n",
            " ate)                                                             'conv4_block19_2_conv[0][0]']   \n",
            "                                                                                                  \n",
            " conv4_block20_0_bn (BatchNorma  (None, 9, 9, 864)   3456        ['conv4_block19_concat[0][0]']   \n",
            " lization)                                                                                        \n",
            "                                                                                                  \n",
            " conv4_block20_0_relu (Activati  (None, 9, 9, 864)   0           ['conv4_block20_0_bn[0][0]']     \n",
            " on)                                                                                              \n",
            "                                                                                                  \n",
            " conv4_block20_1_conv (Conv2D)  (None, 9, 9, 128)    110592      ['conv4_block20_0_relu[0][0]']   \n",
            "                                                                                                  \n",
            " conv4_block20_1_bn (BatchNorma  (None, 9, 9, 128)   512         ['conv4_block20_1_conv[0][0]']   \n",
            " lization)                                                                                        \n",
            "                                                                                                  \n",
            " conv4_block20_1_relu (Activati  (None, 9, 9, 128)   0           ['conv4_block20_1_bn[0][0]']     \n",
            " on)                                                                                              \n",
            "                                                                                                  \n",
            " conv4_block20_2_conv (Conv2D)  (None, 9, 9, 32)     36864       ['conv4_block20_1_relu[0][0]']   \n",
            "                                                                                                  \n",
            " conv4_block20_concat (Concaten  (None, 9, 9, 896)   0           ['conv4_block19_concat[0][0]',   \n",
            " ate)                                                             'conv4_block20_2_conv[0][0]']   \n",
            "                                                                                                  \n",
            " conv4_block21_0_bn (BatchNorma  (None, 9, 9, 896)   3584        ['conv4_block20_concat[0][0]']   \n",
            " lization)                                                                                        \n",
            "                                                                                                  \n",
            " conv4_block21_0_relu (Activati  (None, 9, 9, 896)   0           ['conv4_block21_0_bn[0][0]']     \n",
            " on)                                                                                              \n",
            "                                                                                                  \n",
            " conv4_block21_1_conv (Conv2D)  (None, 9, 9, 128)    114688      ['conv4_block21_0_relu[0][0]']   \n",
            "                                                                                                  \n",
            " conv4_block21_1_bn (BatchNorma  (None, 9, 9, 128)   512         ['conv4_block21_1_conv[0][0]']   \n",
            " lization)                                                                                        \n",
            "                                                                                                  \n",
            " conv4_block21_1_relu (Activati  (None, 9, 9, 128)   0           ['conv4_block21_1_bn[0][0]']     \n",
            " on)                                                                                              \n",
            "                                                                                                  \n",
            " conv4_block21_2_conv (Conv2D)  (None, 9, 9, 32)     36864       ['conv4_block21_1_relu[0][0]']   \n",
            "                                                                                                  \n",
            " conv4_block21_concat (Concaten  (None, 9, 9, 928)   0           ['conv4_block20_concat[0][0]',   \n",
            " ate)                                                             'conv4_block21_2_conv[0][0]']   \n",
            "                                                                                                  \n",
            " conv4_block22_0_bn (BatchNorma  (None, 9, 9, 928)   3712        ['conv4_block21_concat[0][0]']   \n",
            " lization)                                                                                        \n",
            "                                                                                                  \n",
            " conv4_block22_0_relu (Activati  (None, 9, 9, 928)   0           ['conv4_block22_0_bn[0][0]']     \n",
            " on)                                                                                              \n",
            "                                                                                                  \n",
            " conv4_block22_1_conv (Conv2D)  (None, 9, 9, 128)    118784      ['conv4_block22_0_relu[0][0]']   \n",
            "                                                                                                  \n",
            " conv4_block22_1_bn (BatchNorma  (None, 9, 9, 128)   512         ['conv4_block22_1_conv[0][0]']   \n",
            " lization)                                                                                        \n",
            "                                                                                                  \n",
            " conv4_block22_1_relu (Activati  (None, 9, 9, 128)   0           ['conv4_block22_1_bn[0][0]']     \n",
            " on)                                                                                              \n",
            "                                                                                                  \n",
            " conv4_block22_2_conv (Conv2D)  (None, 9, 9, 32)     36864       ['conv4_block22_1_relu[0][0]']   \n",
            "                                                                                                  \n",
            " conv4_block22_concat (Concaten  (None, 9, 9, 960)   0           ['conv4_block21_concat[0][0]',   \n",
            " ate)                                                             'conv4_block22_2_conv[0][0]']   \n",
            "                                                                                                  \n",
            " conv4_block23_0_bn (BatchNorma  (None, 9, 9, 960)   3840        ['conv4_block22_concat[0][0]']   \n",
            " lization)                                                                                        \n",
            "                                                                                                  \n",
            " conv4_block23_0_relu (Activati  (None, 9, 9, 960)   0           ['conv4_block23_0_bn[0][0]']     \n",
            " on)                                                                                              \n",
            "                                                                                                  \n",
            " conv4_block23_1_conv (Conv2D)  (None, 9, 9, 128)    122880      ['conv4_block23_0_relu[0][0]']   \n",
            "                                                                                                  \n",
            " conv4_block23_1_bn (BatchNorma  (None, 9, 9, 128)   512         ['conv4_block23_1_conv[0][0]']   \n",
            " lization)                                                                                        \n",
            "                                                                                                  \n",
            " conv4_block23_1_relu (Activati  (None, 9, 9, 128)   0           ['conv4_block23_1_bn[0][0]']     \n",
            " on)                                                                                              \n",
            "                                                                                                  \n",
            " conv4_block23_2_conv (Conv2D)  (None, 9, 9, 32)     36864       ['conv4_block23_1_relu[0][0]']   \n",
            "                                                                                                  \n",
            " conv4_block23_concat (Concaten  (None, 9, 9, 992)   0           ['conv4_block22_concat[0][0]',   \n",
            " ate)                                                             'conv4_block23_2_conv[0][0]']   \n",
            "                                                                                                  \n",
            " conv4_block24_0_bn (BatchNorma  (None, 9, 9, 992)   3968        ['conv4_block23_concat[0][0]']   \n",
            " lization)                                                                                        \n",
            "                                                                                                  \n",
            " conv4_block24_0_relu (Activati  (None, 9, 9, 992)   0           ['conv4_block24_0_bn[0][0]']     \n",
            " on)                                                                                              \n",
            "                                                                                                  \n",
            " conv4_block24_1_conv (Conv2D)  (None, 9, 9, 128)    126976      ['conv4_block24_0_relu[0][0]']   \n",
            "                                                                                                  \n",
            " conv4_block24_1_bn (BatchNorma  (None, 9, 9, 128)   512         ['conv4_block24_1_conv[0][0]']   \n",
            " lization)                                                                                        \n",
            "                                                                                                  \n",
            " conv4_block24_1_relu (Activati  (None, 9, 9, 128)   0           ['conv4_block24_1_bn[0][0]']     \n",
            " on)                                                                                              \n",
            "                                                                                                  \n",
            " conv4_block24_2_conv (Conv2D)  (None, 9, 9, 32)     36864       ['conv4_block24_1_relu[0][0]']   \n",
            "                                                                                                  \n",
            " conv4_block24_concat (Concaten  (None, 9, 9, 1024)  0           ['conv4_block23_concat[0][0]',   \n",
            " ate)                                                             'conv4_block24_2_conv[0][0]']   \n",
            "                                                                                                  \n",
            " pool4_bn (BatchNormalization)  (None, 9, 9, 1024)   4096        ['conv4_block24_concat[0][0]']   \n",
            "                                                                                                  \n",
            " pool4_relu (Activation)        (None, 9, 9, 1024)   0           ['pool4_bn[0][0]']               \n",
            "                                                                                                  \n",
            " pool4_conv (Conv2D)            (None, 9, 9, 512)    524288      ['pool4_relu[0][0]']             \n",
            "                                                                                                  \n",
            " pool4_pool (AveragePooling2D)  (None, 4, 4, 512)    0           ['pool4_conv[0][0]']             \n",
            "                                                                                                  \n",
            " conv5_block1_0_bn (BatchNormal  (None, 4, 4, 512)   2048        ['pool4_pool[0][0]']             \n",
            " ization)                                                                                         \n",
            "                                                                                                  \n",
            " conv5_block1_0_relu (Activatio  (None, 4, 4, 512)   0           ['conv5_block1_0_bn[0][0]']      \n",
            " n)                                                                                               \n",
            "                                                                                                  \n",
            " conv5_block1_1_conv (Conv2D)   (None, 4, 4, 128)    65536       ['conv5_block1_0_relu[0][0]']    \n",
            "                                                                                                  \n",
            " conv5_block1_1_bn (BatchNormal  (None, 4, 4, 128)   512         ['conv5_block1_1_conv[0][0]']    \n",
            " ization)                                                                                         \n",
            "                                                                                                  \n",
            " conv5_block1_1_relu (Activatio  (None, 4, 4, 128)   0           ['conv5_block1_1_bn[0][0]']      \n",
            " n)                                                                                               \n",
            "                                                                                                  \n",
            " conv5_block1_2_conv (Conv2D)   (None, 4, 4, 32)     36864       ['conv5_block1_1_relu[0][0]']    \n",
            "                                                                                                  \n",
            " conv5_block1_concat (Concatena  (None, 4, 4, 544)   0           ['pool4_pool[0][0]',             \n",
            " te)                                                              'conv5_block1_2_conv[0][0]']    \n",
            "                                                                                                  \n",
            " conv5_block2_0_bn (BatchNormal  (None, 4, 4, 544)   2176        ['conv5_block1_concat[0][0]']    \n",
            " ization)                                                                                         \n",
            "                                                                                                  \n",
            " conv5_block2_0_relu (Activatio  (None, 4, 4, 544)   0           ['conv5_block2_0_bn[0][0]']      \n",
            " n)                                                                                               \n",
            "                                                                                                  \n",
            " conv5_block2_1_conv (Conv2D)   (None, 4, 4, 128)    69632       ['conv5_block2_0_relu[0][0]']    \n",
            "                                                                                                  \n",
            " conv5_block2_1_bn (BatchNormal  (None, 4, 4, 128)   512         ['conv5_block2_1_conv[0][0]']    \n",
            " ization)                                                                                         \n",
            "                                                                                                  \n",
            " conv5_block2_1_relu (Activatio  (None, 4, 4, 128)   0           ['conv5_block2_1_bn[0][0]']      \n",
            " n)                                                                                               \n",
            "                                                                                                  \n",
            " conv5_block2_2_conv (Conv2D)   (None, 4, 4, 32)     36864       ['conv5_block2_1_relu[0][0]']    \n",
            "                                                                                                  \n",
            " conv5_block2_concat (Concatena  (None, 4, 4, 576)   0           ['conv5_block1_concat[0][0]',    \n",
            " te)                                                              'conv5_block2_2_conv[0][0]']    \n",
            "                                                                                                  \n",
            " conv5_block3_0_bn (BatchNormal  (None, 4, 4, 576)   2304        ['conv5_block2_concat[0][0]']    \n",
            " ization)                                                                                         \n",
            "                                                                                                  \n",
            " conv5_block3_0_relu (Activatio  (None, 4, 4, 576)   0           ['conv5_block3_0_bn[0][0]']      \n",
            " n)                                                                                               \n",
            "                                                                                                  \n",
            " conv5_block3_1_conv (Conv2D)   (None, 4, 4, 128)    73728       ['conv5_block3_0_relu[0][0]']    \n",
            "                                                                                                  \n",
            " conv5_block3_1_bn (BatchNormal  (None, 4, 4, 128)   512         ['conv5_block3_1_conv[0][0]']    \n",
            " ization)                                                                                         \n",
            "                                                                                                  \n",
            " conv5_block3_1_relu (Activatio  (None, 4, 4, 128)   0           ['conv5_block3_1_bn[0][0]']      \n",
            " n)                                                                                               \n",
            "                                                                                                  \n",
            " conv5_block3_2_conv (Conv2D)   (None, 4, 4, 32)     36864       ['conv5_block3_1_relu[0][0]']    \n",
            "                                                                                                  \n",
            " conv5_block3_concat (Concatena  (None, 4, 4, 608)   0           ['conv5_block2_concat[0][0]',    \n",
            " te)                                                              'conv5_block3_2_conv[0][0]']    \n",
            "                                                                                                  \n",
            " conv5_block4_0_bn (BatchNormal  (None, 4, 4, 608)   2432        ['conv5_block3_concat[0][0]']    \n",
            " ization)                                                                                         \n",
            "                                                                                                  \n",
            " conv5_block4_0_relu (Activatio  (None, 4, 4, 608)   0           ['conv5_block4_0_bn[0][0]']      \n",
            " n)                                                                                               \n",
            "                                                                                                  \n",
            " conv5_block4_1_conv (Conv2D)   (None, 4, 4, 128)    77824       ['conv5_block4_0_relu[0][0]']    \n",
            "                                                                                                  \n",
            " conv5_block4_1_bn (BatchNormal  (None, 4, 4, 128)   512         ['conv5_block4_1_conv[0][0]']    \n",
            " ization)                                                                                         \n",
            "                                                                                                  \n",
            " conv5_block4_1_relu (Activatio  (None, 4, 4, 128)   0           ['conv5_block4_1_bn[0][0]']      \n",
            " n)                                                                                               \n",
            "                                                                                                  \n",
            " conv5_block4_2_conv (Conv2D)   (None, 4, 4, 32)     36864       ['conv5_block4_1_relu[0][0]']    \n",
            "                                                                                                  \n",
            " conv5_block4_concat (Concatena  (None, 4, 4, 640)   0           ['conv5_block3_concat[0][0]',    \n",
            " te)                                                              'conv5_block4_2_conv[0][0]']    \n",
            "                                                                                                  \n",
            " conv5_block5_0_bn (BatchNormal  (None, 4, 4, 640)   2560        ['conv5_block4_concat[0][0]']    \n",
            " ization)                                                                                         \n",
            "                                                                                                  \n",
            " conv5_block5_0_relu (Activatio  (None, 4, 4, 640)   0           ['conv5_block5_0_bn[0][0]']      \n",
            " n)                                                                                               \n",
            "                                                                                                  \n",
            " conv5_block5_1_conv (Conv2D)   (None, 4, 4, 128)    81920       ['conv5_block5_0_relu[0][0]']    \n",
            "                                                                                                  \n",
            " conv5_block5_1_bn (BatchNormal  (None, 4, 4, 128)   512         ['conv5_block5_1_conv[0][0]']    \n",
            " ization)                                                                                         \n",
            "                                                                                                  \n",
            " conv5_block5_1_relu (Activatio  (None, 4, 4, 128)   0           ['conv5_block5_1_bn[0][0]']      \n",
            " n)                                                                                               \n",
            "                                                                                                  \n",
            " conv5_block5_2_conv (Conv2D)   (None, 4, 4, 32)     36864       ['conv5_block5_1_relu[0][0]']    \n",
            "                                                                                                  \n",
            " conv5_block5_concat (Concatena  (None, 4, 4, 672)   0           ['conv5_block4_concat[0][0]',    \n",
            " te)                                                              'conv5_block5_2_conv[0][0]']    \n",
            "                                                                                                  \n",
            " conv5_block6_0_bn (BatchNormal  (None, 4, 4, 672)   2688        ['conv5_block5_concat[0][0]']    \n",
            " ization)                                                                                         \n",
            "                                                                                                  \n",
            " conv5_block6_0_relu (Activatio  (None, 4, 4, 672)   0           ['conv5_block6_0_bn[0][0]']      \n",
            " n)                                                                                               \n",
            "                                                                                                  \n",
            " conv5_block6_1_conv (Conv2D)   (None, 4, 4, 128)    86016       ['conv5_block6_0_relu[0][0]']    \n",
            "                                                                                                  \n",
            " conv5_block6_1_bn (BatchNormal  (None, 4, 4, 128)   512         ['conv5_block6_1_conv[0][0]']    \n",
            " ization)                                                                                         \n",
            "                                                                                                  \n",
            " conv5_block6_1_relu (Activatio  (None, 4, 4, 128)   0           ['conv5_block6_1_bn[0][0]']      \n",
            " n)                                                                                               \n",
            "                                                                                                  \n",
            " conv5_block6_2_conv (Conv2D)   (None, 4, 4, 32)     36864       ['conv5_block6_1_relu[0][0]']    \n",
            "                                                                                                  \n",
            " conv5_block6_concat (Concatena  (None, 4, 4, 704)   0           ['conv5_block5_concat[0][0]',    \n",
            " te)                                                              'conv5_block6_2_conv[0][0]']    \n",
            "                                                                                                  \n",
            " conv5_block7_0_bn (BatchNormal  (None, 4, 4, 704)   2816        ['conv5_block6_concat[0][0]']    \n",
            " ization)                                                                                         \n",
            "                                                                                                  \n",
            " conv5_block7_0_relu (Activatio  (None, 4, 4, 704)   0           ['conv5_block7_0_bn[0][0]']      \n",
            " n)                                                                                               \n",
            "                                                                                                  \n",
            " conv5_block7_1_conv (Conv2D)   (None, 4, 4, 128)    90112       ['conv5_block7_0_relu[0][0]']    \n",
            "                                                                                                  \n",
            " conv5_block7_1_bn (BatchNormal  (None, 4, 4, 128)   512         ['conv5_block7_1_conv[0][0]']    \n",
            " ization)                                                                                         \n",
            "                                                                                                  \n",
            " conv5_block7_1_relu (Activatio  (None, 4, 4, 128)   0           ['conv5_block7_1_bn[0][0]']      \n",
            " n)                                                                                               \n",
            "                                                                                                  \n",
            " conv5_block7_2_conv (Conv2D)   (None, 4, 4, 32)     36864       ['conv5_block7_1_relu[0][0]']    \n",
            "                                                                                                  \n",
            " conv5_block7_concat (Concatena  (None, 4, 4, 736)   0           ['conv5_block6_concat[0][0]',    \n",
            " te)                                                              'conv5_block7_2_conv[0][0]']    \n",
            "                                                                                                  \n",
            " conv5_block8_0_bn (BatchNormal  (None, 4, 4, 736)   2944        ['conv5_block7_concat[0][0]']    \n",
            " ization)                                                                                         \n",
            "                                                                                                  \n",
            " conv5_block8_0_relu (Activatio  (None, 4, 4, 736)   0           ['conv5_block8_0_bn[0][0]']      \n",
            " n)                                                                                               \n",
            "                                                                                                  \n",
            " conv5_block8_1_conv (Conv2D)   (None, 4, 4, 128)    94208       ['conv5_block8_0_relu[0][0]']    \n",
            "                                                                                                  \n",
            " conv5_block8_1_bn (BatchNormal  (None, 4, 4, 128)   512         ['conv5_block8_1_conv[0][0]']    \n",
            " ization)                                                                                         \n",
            "                                                                                                  \n",
            " conv5_block8_1_relu (Activatio  (None, 4, 4, 128)   0           ['conv5_block8_1_bn[0][0]']      \n",
            " n)                                                                                               \n",
            "                                                                                                  \n",
            " conv5_block8_2_conv (Conv2D)   (None, 4, 4, 32)     36864       ['conv5_block8_1_relu[0][0]']    \n",
            "                                                                                                  \n",
            " conv5_block8_concat (Concatena  (None, 4, 4, 768)   0           ['conv5_block7_concat[0][0]',    \n",
            " te)                                                              'conv5_block8_2_conv[0][0]']    \n",
            "                                                                                                  \n",
            " conv5_block9_0_bn (BatchNormal  (None, 4, 4, 768)   3072        ['conv5_block8_concat[0][0]']    \n",
            " ization)                                                                                         \n",
            "                                                                                                  \n",
            " conv5_block9_0_relu (Activatio  (None, 4, 4, 768)   0           ['conv5_block9_0_bn[0][0]']      \n",
            " n)                                                                                               \n",
            "                                                                                                  \n",
            " conv5_block9_1_conv (Conv2D)   (None, 4, 4, 128)    98304       ['conv5_block9_0_relu[0][0]']    \n",
            "                                                                                                  \n",
            " conv5_block9_1_bn (BatchNormal  (None, 4, 4, 128)   512         ['conv5_block9_1_conv[0][0]']    \n",
            " ization)                                                                                         \n",
            "                                                                                                  \n",
            " conv5_block9_1_relu (Activatio  (None, 4, 4, 128)   0           ['conv5_block9_1_bn[0][0]']      \n",
            " n)                                                                                               \n",
            "                                                                                                  \n",
            " conv5_block9_2_conv (Conv2D)   (None, 4, 4, 32)     36864       ['conv5_block9_1_relu[0][0]']    \n",
            "                                                                                                  \n",
            " conv5_block9_concat (Concatena  (None, 4, 4, 800)   0           ['conv5_block8_concat[0][0]',    \n",
            " te)                                                              'conv5_block9_2_conv[0][0]']    \n",
            "                                                                                                  \n",
            " conv5_block10_0_bn (BatchNorma  (None, 4, 4, 800)   3200        ['conv5_block9_concat[0][0]']    \n",
            " lization)                                                                                        \n",
            "                                                                                                  \n",
            " conv5_block10_0_relu (Activati  (None, 4, 4, 800)   0           ['conv5_block10_0_bn[0][0]']     \n",
            " on)                                                                                              \n",
            "                                                                                                  \n",
            " conv5_block10_1_conv (Conv2D)  (None, 4, 4, 128)    102400      ['conv5_block10_0_relu[0][0]']   \n",
            "                                                                                                  \n",
            " conv5_block10_1_bn (BatchNorma  (None, 4, 4, 128)   512         ['conv5_block10_1_conv[0][0]']   \n",
            " lization)                                                                                        \n",
            "                                                                                                  \n",
            " conv5_block10_1_relu (Activati  (None, 4, 4, 128)   0           ['conv5_block10_1_bn[0][0]']     \n",
            " on)                                                                                              \n",
            "                                                                                                  \n",
            " conv5_block10_2_conv (Conv2D)  (None, 4, 4, 32)     36864       ['conv5_block10_1_relu[0][0]']   \n",
            "                                                                                                  \n",
            " conv5_block10_concat (Concaten  (None, 4, 4, 832)   0           ['conv5_block9_concat[0][0]',    \n",
            " ate)                                                             'conv5_block10_2_conv[0][0]']   \n",
            "                                                                                                  \n",
            " conv5_block11_0_bn (BatchNorma  (None, 4, 4, 832)   3328        ['conv5_block10_concat[0][0]']   \n",
            " lization)                                                                                        \n",
            "                                                                                                  \n",
            " conv5_block11_0_relu (Activati  (None, 4, 4, 832)   0           ['conv5_block11_0_bn[0][0]']     \n",
            " on)                                                                                              \n",
            "                                                                                                  \n",
            " conv5_block11_1_conv (Conv2D)  (None, 4, 4, 128)    106496      ['conv5_block11_0_relu[0][0]']   \n",
            "                                                                                                  \n",
            " conv5_block11_1_bn (BatchNorma  (None, 4, 4, 128)   512         ['conv5_block11_1_conv[0][0]']   \n",
            " lization)                                                                                        \n",
            "                                                                                                  \n",
            " conv5_block11_1_relu (Activati  (None, 4, 4, 128)   0           ['conv5_block11_1_bn[0][0]']     \n",
            " on)                                                                                              \n",
            "                                                                                                  \n",
            " conv5_block11_2_conv (Conv2D)  (None, 4, 4, 32)     36864       ['conv5_block11_1_relu[0][0]']   \n",
            "                                                                                                  \n",
            " conv5_block11_concat (Concaten  (None, 4, 4, 864)   0           ['conv5_block10_concat[0][0]',   \n",
            " ate)                                                             'conv5_block11_2_conv[0][0]']   \n",
            "                                                                                                  \n",
            " conv5_block12_0_bn (BatchNorma  (None, 4, 4, 864)   3456        ['conv5_block11_concat[0][0]']   \n",
            " lization)                                                                                        \n",
            "                                                                                                  \n",
            " conv5_block12_0_relu (Activati  (None, 4, 4, 864)   0           ['conv5_block12_0_bn[0][0]']     \n",
            " on)                                                                                              \n",
            "                                                                                                  \n",
            " conv5_block12_1_conv (Conv2D)  (None, 4, 4, 128)    110592      ['conv5_block12_0_relu[0][0]']   \n",
            "                                                                                                  \n",
            " conv5_block12_1_bn (BatchNorma  (None, 4, 4, 128)   512         ['conv5_block12_1_conv[0][0]']   \n",
            " lization)                                                                                        \n",
            "                                                                                                  \n",
            " conv5_block12_1_relu (Activati  (None, 4, 4, 128)   0           ['conv5_block12_1_bn[0][0]']     \n",
            " on)                                                                                              \n",
            "                                                                                                  \n",
            " conv5_block12_2_conv (Conv2D)  (None, 4, 4, 32)     36864       ['conv5_block12_1_relu[0][0]']   \n",
            "                                                                                                  \n",
            " conv5_block12_concat (Concaten  (None, 4, 4, 896)   0           ['conv5_block11_concat[0][0]',   \n",
            " ate)                                                             'conv5_block12_2_conv[0][0]']   \n",
            "                                                                                                  \n",
            " conv5_block13_0_bn (BatchNorma  (None, 4, 4, 896)   3584        ['conv5_block12_concat[0][0]']   \n",
            " lization)                                                                                        \n",
            "                                                                                                  \n",
            " conv5_block13_0_relu (Activati  (None, 4, 4, 896)   0           ['conv5_block13_0_bn[0][0]']     \n",
            " on)                                                                                              \n",
            "                                                                                                  \n",
            " conv5_block13_1_conv (Conv2D)  (None, 4, 4, 128)    114688      ['conv5_block13_0_relu[0][0]']   \n",
            "                                                                                                  \n",
            " conv5_block13_1_bn (BatchNorma  (None, 4, 4, 128)   512         ['conv5_block13_1_conv[0][0]']   \n",
            " lization)                                                                                        \n",
            "                                                                                                  \n",
            " conv5_block13_1_relu (Activati  (None, 4, 4, 128)   0           ['conv5_block13_1_bn[0][0]']     \n",
            " on)                                                                                              \n",
            "                                                                                                  \n",
            " conv5_block13_2_conv (Conv2D)  (None, 4, 4, 32)     36864       ['conv5_block13_1_relu[0][0]']   \n",
            "                                                                                                  \n",
            " conv5_block13_concat (Concaten  (None, 4, 4, 928)   0           ['conv5_block12_concat[0][0]',   \n",
            " ate)                                                             'conv5_block13_2_conv[0][0]']   \n",
            "                                                                                                  \n",
            " conv5_block14_0_bn (BatchNorma  (None, 4, 4, 928)   3712        ['conv5_block13_concat[0][0]']   \n",
            " lization)                                                                                        \n",
            "                                                                                                  \n",
            " conv5_block14_0_relu (Activati  (None, 4, 4, 928)   0           ['conv5_block14_0_bn[0][0]']     \n",
            " on)                                                                                              \n",
            "                                                                                                  \n",
            " conv5_block14_1_conv (Conv2D)  (None, 4, 4, 128)    118784      ['conv5_block14_0_relu[0][0]']   \n",
            "                                                                                                  \n",
            " conv5_block14_1_bn (BatchNorma  (None, 4, 4, 128)   512         ['conv5_block14_1_conv[0][0]']   \n",
            " lization)                                                                                        \n",
            "                                                                                                  \n",
            " conv5_block14_1_relu (Activati  (None, 4, 4, 128)   0           ['conv5_block14_1_bn[0][0]']     \n",
            " on)                                                                                              \n",
            "                                                                                                  \n",
            " conv5_block14_2_conv (Conv2D)  (None, 4, 4, 32)     36864       ['conv5_block14_1_relu[0][0]']   \n",
            "                                                                                                  \n",
            " conv5_block14_concat (Concaten  (None, 4, 4, 960)   0           ['conv5_block13_concat[0][0]',   \n",
            " ate)                                                             'conv5_block14_2_conv[0][0]']   \n",
            "                                                                                                  \n",
            " conv5_block15_0_bn (BatchNorma  (None, 4, 4, 960)   3840        ['conv5_block14_concat[0][0]']   \n",
            " lization)                                                                                        \n",
            "                                                                                                  \n",
            " conv5_block15_0_relu (Activati  (None, 4, 4, 960)   0           ['conv5_block15_0_bn[0][0]']     \n",
            " on)                                                                                              \n",
            "                                                                                                  \n",
            " conv5_block15_1_conv (Conv2D)  (None, 4, 4, 128)    122880      ['conv5_block15_0_relu[0][0]']   \n",
            "                                                                                                  \n",
            " conv5_block15_1_bn (BatchNorma  (None, 4, 4, 128)   512         ['conv5_block15_1_conv[0][0]']   \n",
            " lization)                                                                                        \n",
            "                                                                                                  \n",
            " conv5_block15_1_relu (Activati  (None, 4, 4, 128)   0           ['conv5_block15_1_bn[0][0]']     \n",
            " on)                                                                                              \n",
            "                                                                                                  \n",
            " conv5_block15_2_conv (Conv2D)  (None, 4, 4, 32)     36864       ['conv5_block15_1_relu[0][0]']   \n",
            "                                                                                                  \n",
            " conv5_block15_concat (Concaten  (None, 4, 4, 992)   0           ['conv5_block14_concat[0][0]',   \n",
            " ate)                                                             'conv5_block15_2_conv[0][0]']   \n",
            "                                                                                                  \n",
            " conv5_block16_0_bn (BatchNorma  (None, 4, 4, 992)   3968        ['conv5_block15_concat[0][0]']   \n",
            " lization)                                                                                        \n",
            "                                                                                                  \n",
            " conv5_block16_0_relu (Activati  (None, 4, 4, 992)   0           ['conv5_block16_0_bn[0][0]']     \n",
            " on)                                                                                              \n",
            "                                                                                                  \n",
            " conv5_block16_1_conv (Conv2D)  (None, 4, 4, 128)    126976      ['conv5_block16_0_relu[0][0]']   \n",
            "                                                                                                  \n",
            " conv5_block16_1_bn (BatchNorma  (None, 4, 4, 128)   512         ['conv5_block16_1_conv[0][0]']   \n",
            " lization)                                                                                        \n",
            "                                                                                                  \n",
            " conv5_block16_1_relu (Activati  (None, 4, 4, 128)   0           ['conv5_block16_1_bn[0][0]']     \n",
            " on)                                                                                              \n",
            "                                                                                                  \n",
            " conv5_block16_2_conv (Conv2D)  (None, 4, 4, 32)     36864       ['conv5_block16_1_relu[0][0]']   \n",
            "                                                                                                  \n",
            " conv5_block16_concat (Concaten  (None, 4, 4, 1024)  0           ['conv5_block15_concat[0][0]',   \n",
            " ate)                                                             'conv5_block16_2_conv[0][0]']   \n",
            "                                                                                                  \n",
            " bn (BatchNormalization)        (None, 4, 4, 1024)   4096        ['conv5_block16_concat[0][0]']   \n",
            "                                                                                                  \n",
            " relu (Activation)              (None, 4, 4, 1024)   0           ['bn[0][0]']                     \n",
            "                                                                                                  \n",
            "==================================================================================================\n",
            "Total params: 7,037,504\n",
            "Trainable params: 0\n",
            "Non-trainable params: 7,037,504\n",
            "__________________________________________________________________________________________________\n"
          ]
        }
      ]
    },
    {
      "cell_type": "code",
      "source": [
        "def build_pretrained(input_shape):\n",
        "\n",
        "  #Configuring the model architecture\n",
        "\n",
        "  #input layer for getting the input image\n",
        "  input = keras.Input(shape=input_shape)\n",
        "\n",
        "  #Add the data_augmentation layers here:\n",
        "  x = data_augmentation(input)\n",
        "\n",
        "  #rescaling layer for rescalign pixels to [0,1] range\n",
        "  x = layers.experimental.preprocessing.Rescaling(1./255)(x)\n",
        "  \n",
        "  #Using the pre-trained conv_base\n",
        "  x = conv_base(x)\n",
        "\n",
        "  #Global Average pooling. This will get an input of shape (height, width, channels) the average of each feature map and returns a vector of size channels.\n",
        "  x = layers.GlobalAveragePooling2D()(x)\n",
        "\n",
        "  #The final output layer has six neurons with softmax activation to output the probability of the target class\n",
        "  output=layers.Dense(6, activation=\"softmax\")(x)\n",
        "  \n",
        "  #create a model and set its input and output and return it\n",
        "  model = keras.Model(inputs=input, outputs=output)\n",
        "  return model\n",
        "\n",
        "pretrained_model=build_pretrained(input_shape=(150,150,3))\n",
        "print(pretrained_model.summary())"
      ],
      "metadata": {
        "colab": {
          "base_uri": "https://localhost:8080/"
        },
        "id": "9CQS7AIrJkFj",
        "outputId": "c97a4b21-befa-41c9-bc2c-8a72c75155ba"
      },
      "execution_count": null,
      "outputs": [
        {
          "output_type": "stream",
          "name": "stdout",
          "text": [
            "Model: \"model_4\"\n",
            "_________________________________________________________________\n",
            " Layer (type)                Output Shape              Param #   \n",
            "=================================================================\n",
            " input_7 (InputLayer)        [(None, 150, 150, 3)]     0         \n",
            "                                                                 \n",
            " random_flip_1 (RandomFlip)  (None, 150, 150, 3)       0         \n",
            "                                                                 \n",
            " random_rotation_1 (RandomRo  (None, 150, 150, 3)      0         \n",
            " tation)                                                         \n",
            "                                                                 \n",
            " random_zoom_1 (RandomZoom)  (None, 150, 150, 3)       0         \n",
            "                                                                 \n",
            " rescaling_4 (Rescaling)     (None, 150, 150, 3)       0         \n",
            "                                                                 \n",
            " densenet121 (Functional)    (None, 4, 4, 1024)        7037504   \n",
            "                                                                 \n",
            " global_average_pooling2d_4   (None, 1024)             0         \n",
            " (GlobalAveragePooling2D)                                        \n",
            "                                                                 \n",
            " dense_4 (Dense)             (None, 6)                 6150      \n",
            "                                                                 \n",
            "=================================================================\n",
            "Total params: 7,043,654\n",
            "Trainable params: 6,150\n",
            "Non-trainable params: 7,037,504\n",
            "_________________________________________________________________\n",
            "None\n"
          ]
        }
      ]
    },
    {
      "cell_type": "code",
      "source": [
        "#compiling the model\n",
        "lr_schedule = keras.optimizers.schedules.ExponentialDecay(\n",
        "    initial_learning_rate=1e-3,\n",
        "    decay_steps=1000,\n",
        "    decay_rate=0.9)\n",
        "\n",
        "opt = tf.keras.optimizers.Adam(learning_rate=lr_schedule)\n",
        "pretrained_model.compile(loss=tf.keras.losses.SparseCategoricalCrossentropy(from_logits=False), metrics=['accuracy'], optimizer=opt)\n",
        "\n",
        "checkpoint= keras.callbacks.ModelCheckpoint( filepath=\"drive/MyDrive/cnn_assign3/pretrained_model_checkpoint\",save_best_only=True, monitor=\"val_loss\")\n",
        "\n",
        "history = pretrained_model.fit(\n",
        "            train_dataset,\n",
        "            validation_data = validation_dataset,\n",
        "            epochs = 50,\n",
        "            verbose = 1,\n",
        "            callbacks=[checkpoint, early_stopping])\n",
        "\n",
        "#save history\n",
        "np.save('drive/MyDrive/cnn_assign3/pretrained_model_checkpoint/history.npy', history)\n"
      ],
      "metadata": {
        "colab": {
          "base_uri": "https://localhost:8080/"
        },
        "id": "AbYUYVjwK3Zm",
        "outputId": "9fd981d9-543f-4e7b-b668-d6bf259118e5"
      },
      "execution_count": null,
      "outputs": [
        {
          "output_type": "stream",
          "name": "stdout",
          "text": [
            "Epoch 1/50\n",
            "351/351 [==============================] - ETA: 0s - loss: 0.5835 - accuracy: 0.7870"
          ]
        },
        {
          "output_type": "stream",
          "name": "stderr",
          "text": [
            "WARNING:absl:Found untraced functions such as _jit_compiled_convolution_op, _jit_compiled_convolution_op, _jit_compiled_convolution_op, _jit_compiled_convolution_op, _jit_compiled_convolution_op while saving (showing 5 of 120). These functions will not be directly callable after loading.\n"
          ]
        },
        {
          "output_type": "stream",
          "name": "stdout",
          "text": [
            "\b\b\b\b\b\b\b\b\b\b\b\b\b\b\b\b\b\b\b\b\b\b\b\b\b\b\b\b\b\b\b\b\b\b\b\b\b\b\b\b\b\b\b\b\b\b\b\b\b\b\b\b\b\b\b\b\b\b\b\b\b\b\b\b\b\b\b\b\b\b\b\b\b\b\b\b\b\b\b\b\b\b\b\b\r351/351 [==============================] - 69s 178ms/step - loss: 0.5835 - accuracy: 0.7870 - val_loss: 0.3439 - val_accuracy: 0.8760\n",
            "Epoch 2/50\n",
            "350/351 [============================>.] - ETA: 0s - loss: 0.3899 - accuracy: 0.8596"
          ]
        },
        {
          "output_type": "stream",
          "name": "stderr",
          "text": [
            "WARNING:absl:Found untraced functions such as _jit_compiled_convolution_op, _jit_compiled_convolution_op, _jit_compiled_convolution_op, _jit_compiled_convolution_op, _jit_compiled_convolution_op while saving (showing 5 of 120). These functions will not be directly callable after loading.\n"
          ]
        },
        {
          "output_type": "stream",
          "name": "stdout",
          "text": [
            "\b\b\b\b\b\b\b\b\b\b\b\b\b\b\b\b\b\b\b\b\b\b\b\b\b\b\b\b\b\b\b\b\b\b\b\b\b\b\b\b\b\b\b\b\b\b\b\b\b\b\b\b\b\b\b\b\b\b\b\b\b\b\b\b\b\b\b\b\b\b\b\b\b\b\b\b\b\b\b\b\b\b\b\b\r351/351 [==============================] - 60s 172ms/step - loss: 0.3898 - accuracy: 0.8595 - val_loss: 0.3278 - val_accuracy: 0.8813\n",
            "Epoch 3/50\n",
            "351/351 [==============================] - 14s 40ms/step - loss: 0.3616 - accuracy: 0.8670 - val_loss: 0.3345 - val_accuracy: 0.8781\n",
            "Epoch 4/50\n",
            "351/351 [==============================] - ETA: 0s - loss: 0.3488 - accuracy: 0.8744"
          ]
        },
        {
          "output_type": "stream",
          "name": "stderr",
          "text": [
            "WARNING:absl:Found untraced functions such as _jit_compiled_convolution_op, _jit_compiled_convolution_op, _jit_compiled_convolution_op, _jit_compiled_convolution_op, _jit_compiled_convolution_op while saving (showing 5 of 120). These functions will not be directly callable after loading.\n"
          ]
        },
        {
          "output_type": "stream",
          "name": "stdout",
          "text": [
            "\b\b\b\b\b\b\b\b\b\b\b\b\b\b\b\b\b\b\b\b\b\b\b\b\b\b\b\b\b\b\b\b\b\b\b\b\b\b\b\b\b\b\b\b\b\b\b\b\b\b\b\b\b\b\b\b\b\b\b\b\b\b\b\b\b\b\b\b\b\b\b\b\b\b\b\b\b\b\b\b\b\b\b\b\r351/351 [==============================] - 60s 172ms/step - loss: 0.3488 - accuracy: 0.8744 - val_loss: 0.2882 - val_accuracy: 0.8981\n",
            "Epoch 5/50\n",
            "351/351 [==============================] - ETA: 0s - loss: 0.3272 - accuracy: 0.8805"
          ]
        },
        {
          "output_type": "stream",
          "name": "stderr",
          "text": [
            "WARNING:absl:Found untraced functions such as _jit_compiled_convolution_op, _jit_compiled_convolution_op, _jit_compiled_convolution_op, _jit_compiled_convolution_op, _jit_compiled_convolution_op while saving (showing 5 of 120). These functions will not be directly callable after loading.\n"
          ]
        },
        {
          "output_type": "stream",
          "name": "stdout",
          "text": [
            "\b\b\b\b\b\b\b\b\b\b\b\b\b\b\b\b\b\b\b\b\b\b\b\b\b\b\b\b\b\b\b\b\b\b\b\b\b\b\b\b\b\b\b\b\b\b\b\b\b\b\b\b\b\b\b\b\b\b\b\b\b\b\b\b\b\b\b\b\b\b\b\b\b\b\b\b\b\b\b\b\b\b\b\b\r351/351 [==============================] - 61s 173ms/step - loss: 0.3272 - accuracy: 0.8805 - val_loss: 0.2833 - val_accuracy: 0.8988\n",
            "Epoch 6/50\n",
            "351/351 [==============================] - ETA: 0s - loss: 0.3240 - accuracy: 0.8795"
          ]
        },
        {
          "output_type": "stream",
          "name": "stderr",
          "text": [
            "WARNING:absl:Found untraced functions such as _jit_compiled_convolution_op, _jit_compiled_convolution_op, _jit_compiled_convolution_op, _jit_compiled_convolution_op, _jit_compiled_convolution_op while saving (showing 5 of 120). These functions will not be directly callable after loading.\n"
          ]
        },
        {
          "output_type": "stream",
          "name": "stdout",
          "text": [
            "\b\b\b\b\b\b\b\b\b\b\b\b\b\b\b\b\b\b\b\b\b\b\b\b\b\b\b\b\b\b\b\b\b\b\b\b\b\b\b\b\b\b\b\b\b\b\b\b\b\b\b\b\b\b\b\b\b\b\b\b\b\b\b\b\b\b\b\b\b\b\b\b\b\b\b\b\b\b\b\b\b\b\b\b\r351/351 [==============================] - 61s 174ms/step - loss: 0.3240 - accuracy: 0.8795 - val_loss: 0.2811 - val_accuracy: 0.9002\n",
            "Epoch 7/50\n",
            "351/351 [==============================] - 14s 41ms/step - loss: 0.3193 - accuracy: 0.8839 - val_loss: 0.2947 - val_accuracy: 0.8931\n",
            "Epoch 8/50\n",
            "351/351 [==============================] - 14s 40ms/step - loss: 0.3167 - accuracy: 0.8849 - val_loss: 0.2884 - val_accuracy: 0.8970\n",
            "Epoch 9/50\n",
            "350/351 [============================>.] - ETA: 0s - loss: 0.3106 - accuracy: 0.8883"
          ]
        },
        {
          "output_type": "stream",
          "name": "stderr",
          "text": [
            "WARNING:absl:Found untraced functions such as _jit_compiled_convolution_op, _jit_compiled_convolution_op, _jit_compiled_convolution_op, _jit_compiled_convolution_op, _jit_compiled_convolution_op while saving (showing 5 of 120). These functions will not be directly callable after loading.\n"
          ]
        },
        {
          "output_type": "stream",
          "name": "stdout",
          "text": [
            "\b\b\b\b\b\b\b\b\b\b\b\b\b\b\b\b\b\b\b\b\b\b\b\b\b\b\b\b\b\b\b\b\b\b\b\b\b\b\b\b\b\b\b\b\b\b\b\b\b\b\b\b\b\b\b\b\b\b\b\b\b\b\b\b\b\b\b\b\b\b\b\b\b\b\b\b\b\b\b\b\b\b\b\b\r351/351 [==============================] - 61s 174ms/step - loss: 0.3106 - accuracy: 0.8883 - val_loss: 0.2741 - val_accuracy: 0.9006\n",
            "Epoch 10/50\n",
            "351/351 [==============================] - 14s 41ms/step - loss: 0.3063 - accuracy: 0.8845 - val_loss: 0.2883 - val_accuracy: 0.8995\n",
            "Epoch 11/50\n",
            "351/351 [==============================] - 14s 40ms/step - loss: 0.2995 - accuracy: 0.8881 - val_loss: 0.2864 - val_accuracy: 0.9024\n",
            "Epoch 12/50\n",
            "351/351 [==============================] - 14s 40ms/step - loss: 0.3043 - accuracy: 0.8898 - val_loss: 0.2925 - val_accuracy: 0.8977\n",
            "Epoch 13/50\n",
            "350/351 [============================>.] - ETA: 0s - loss: 0.3021 - accuracy: 0.8875"
          ]
        },
        {
          "output_type": "stream",
          "name": "stderr",
          "text": [
            "WARNING:absl:Found untraced functions such as _jit_compiled_convolution_op, _jit_compiled_convolution_op, _jit_compiled_convolution_op, _jit_compiled_convolution_op, _jit_compiled_convolution_op while saving (showing 5 of 120). These functions will not be directly callable after loading.\n"
          ]
        },
        {
          "output_type": "stream",
          "name": "stdout",
          "text": [
            "\b\b\b\b\b\b\b\b\b\b\b\b\b\b\b\b\b\b\b\b\b\b\b\b\b\b\b\b\b\b\b\b\b\b\b\b\b\b\b\b\b\b\b\b\b\b\b\b\b\b\b\b\b\b\b\b\b\b\b\b\b\b\b\b\b\b\b\b\b\b\b\b\b\b\b\b\b\b\b\b\b\b\b\b\r351/351 [==============================] - 61s 174ms/step - loss: 0.3019 - accuracy: 0.8875 - val_loss: 0.2669 - val_accuracy: 0.9081\n",
            "Epoch 14/50\n",
            "351/351 [==============================] - 15s 41ms/step - loss: 0.2951 - accuracy: 0.8901 - val_loss: 0.2838 - val_accuracy: 0.9009\n",
            "Epoch 15/50\n",
            "351/351 [==============================] - 14s 41ms/step - loss: 0.2970 - accuracy: 0.8891 - val_loss: 0.2747 - val_accuracy: 0.9027\n",
            "Epoch 16/50\n",
            "351/351 [==============================] - ETA: 0s - loss: 0.2889 - accuracy: 0.8941"
          ]
        },
        {
          "output_type": "stream",
          "name": "stderr",
          "text": [
            "WARNING:absl:Found untraced functions such as _jit_compiled_convolution_op, _jit_compiled_convolution_op, _jit_compiled_convolution_op, _jit_compiled_convolution_op, _jit_compiled_convolution_op while saving (showing 5 of 120). These functions will not be directly callable after loading.\n"
          ]
        },
        {
          "output_type": "stream",
          "name": "stdout",
          "text": [
            "\b\b\b\b\b\b\b\b\b\b\b\b\b\b\b\b\b\b\b\b\b\b\b\b\b\b\b\b\b\b\b\b\b\b\b\b\b\b\b\b\b\b\b\b\b\b\b\b\b\b\b\b\b\b\b\b\b\b\b\b\b\b\b\b\b\b\b\b\b\b\b\b\b\b\b\b\b\b\b\b\b\b\b\b\r351/351 [==============================] - 61s 173ms/step - loss: 0.2889 - accuracy: 0.8941 - val_loss: 0.2653 - val_accuracy: 0.9066\n",
            "Epoch 17/50\n",
            "351/351 [==============================] - 14s 41ms/step - loss: 0.2904 - accuracy: 0.8944 - val_loss: 0.2794 - val_accuracy: 0.9052\n",
            "Epoch 18/50\n",
            "351/351 [==============================] - 14s 40ms/step - loss: 0.2879 - accuracy: 0.8916 - val_loss: 0.2771 - val_accuracy: 0.9056\n",
            "Epoch 19/50\n",
            "351/351 [==============================] - 14s 40ms/step - loss: 0.2909 - accuracy: 0.8951 - val_loss: 0.2801 - val_accuracy: 0.9073\n",
            "Epoch 20/50\n",
            "351/351 [==============================] - 14s 40ms/step - loss: 0.2865 - accuracy: 0.8962 - val_loss: 0.2672 - val_accuracy: 0.9091\n",
            "Epoch 21/50\n",
            "351/351 [==============================] - 14s 40ms/step - loss: 0.2877 - accuracy: 0.8950 - val_loss: 0.2680 - val_accuracy: 0.9063\n",
            "Epoch 22/50\n",
            "351/351 [==============================] - 14s 41ms/step - loss: 0.2925 - accuracy: 0.8937 - val_loss: 0.2697 - val_accuracy: 0.9066\n",
            "Epoch 23/50\n",
            "351/351 [==============================] - 15s 42ms/step - loss: 0.2870 - accuracy: 0.8904 - val_loss: 0.2678 - val_accuracy: 0.9073\n",
            "Epoch 24/50\n",
            "351/351 [==============================] - 14s 41ms/step - loss: 0.2835 - accuracy: 0.8957 - val_loss: 0.2820 - val_accuracy: 0.9041\n",
            "Epoch 25/50\n",
            "351/351 [==============================] - 15s 41ms/step - loss: 0.2843 - accuracy: 0.8921 - val_loss: 0.2662 - val_accuracy: 0.9098\n",
            "Epoch 26/50\n",
            "351/351 [==============================] - 14s 41ms/step - loss: 0.2834 - accuracy: 0.8938 - val_loss: 0.2679 - val_accuracy: 0.9081\n"
          ]
        },
        {
          "output_type": "stream",
          "name": "stderr",
          "text": [
            "WARNING:absl:Found untraced functions such as _jit_compiled_convolution_op, _jit_compiled_convolution_op, _jit_compiled_convolution_op, _jit_compiled_convolution_op, _jit_compiled_convolution_op while saving (showing 5 of 120). These functions will not be directly callable after loading.\n"
          ]
        }
      ]
    },
    {
      "cell_type": "markdown",
      "source": [
        "Fine Tuning"
      ],
      "metadata": {
        "id": "TP9VLJTTNE_D"
      }
    },
    {
      "cell_type": "code",
      "source": [
        "#unfreez the convolution base\n",
        "conv_base.trainable = True\n",
        "\n",
        "#set trainable to False for all layers except the last 10 , that is freeze the weights for all layers except the last 10 layers\n",
        "for layer in conv_base.layers[:-10]:\n",
        "    layer.trainable=False\n",
        "\n",
        "#set trainable to True for the convolutional layers in the last 10 layers. \n",
        "for layer in conv_base.layers[-10:]:\n",
        "    # we only want to unfreez the convolutional layers (batch normalizataion layers remain frozen)\n",
        "    if layer.name.endswith(\"conv\"):\n",
        "      layer.trainable=True\n",
        "\n",
        "print(pretrained_model.summary())"
      ],
      "metadata": {
        "colab": {
          "base_uri": "https://localhost:8080/"
        },
        "id": "Dmg_PzhoOdk3",
        "outputId": "91487d37-e0f3-4699-de2a-c0fada902918"
      },
      "execution_count": null,
      "outputs": [
        {
          "output_type": "stream",
          "name": "stdout",
          "text": [
            "Model: \"model_4\"\n",
            "_________________________________________________________________\n",
            " Layer (type)                Output Shape              Param #   \n",
            "=================================================================\n",
            " input_7 (InputLayer)        [(None, 150, 150, 3)]     0         \n",
            "                                                                 \n",
            " random_flip_1 (RandomFlip)  (None, 150, 150, 3)       0         \n",
            "                                                                 \n",
            " random_rotation_1 (RandomRo  (None, 150, 150, 3)      0         \n",
            " tation)                                                         \n",
            "                                                                 \n",
            " random_zoom_1 (RandomZoom)  (None, 150, 150, 3)       0         \n",
            "                                                                 \n",
            " rescaling_4 (Rescaling)     (None, 150, 150, 3)       0         \n",
            "                                                                 \n",
            " densenet121 (Functional)    (None, 4, 4, 1024)        7037504   \n",
            "                                                                 \n",
            " global_average_pooling2d_4   (None, 1024)             0         \n",
            " (GlobalAveragePooling2D)                                        \n",
            "                                                                 \n",
            " dense_4 (Dense)             (None, 6)                 6150      \n",
            "                                                                 \n",
            "=================================================================\n",
            "Total params: 7,043,654\n",
            "Trainable params: 174,278\n",
            "Non-trainable params: 6,869,376\n",
            "_________________________________________________________________\n",
            "None\n"
          ]
        }
      ]
    },
    {
      "cell_type": "code",
      "source": [
        "#compiling the model\n",
        "\n",
        "opt = tf.keras.optimizers.Adam(learning_rate=lr_schedule)\n",
        "pretrained_model.compile(loss=tf.keras.losses.SparseCategoricalCrossentropy(from_logits=False), metrics=['accuracy'], optimizer=opt)\n",
        "\n",
        "\n",
        "history = pretrained_model.fit(\n",
        "            train_dataset,\n",
        "            validation_data = validation_dataset,\n",
        "            epochs = 50,\n",
        "            verbose = 1,\n",
        "            callbacks = early_stopping)\n"
      ],
      "metadata": {
        "colab": {
          "base_uri": "https://localhost:8080/"
        },
        "id": "G9V89061U1EK",
        "outputId": "0669aecb-76bb-48d7-a992-26b9aa0b8a66"
      },
      "execution_count": null,
      "outputs": [
        {
          "output_type": "stream",
          "name": "stdout",
          "text": [
            "Epoch 1/50\n",
            "351/351 [==============================] - 24s 49ms/step - loss: 0.0759 - accuracy: 0.9748 - val_loss: 0.4666 - val_accuracy: 0.8959\n",
            "Epoch 2/50\n",
            "351/351 [==============================] - 16s 44ms/step - loss: 0.0747 - accuracy: 0.9735 - val_loss: 0.4221 - val_accuracy: 0.9084\n",
            "Epoch 3/50\n",
            "351/351 [==============================] - 17s 48ms/step - loss: 0.0701 - accuracy: 0.9750 - val_loss: 0.3956 - val_accuracy: 0.9123\n",
            "Epoch 4/50\n",
            "351/351 [==============================] - 17s 47ms/step - loss: 0.0746 - accuracy: 0.9724 - val_loss: 0.4381 - val_accuracy: 0.8909\n",
            "Epoch 5/50\n",
            "351/351 [==============================] - 16s 47ms/step - loss: 0.0732 - accuracy: 0.9738 - val_loss: 0.4089 - val_accuracy: 0.9038\n",
            "Epoch 6/50\n",
            "351/351 [==============================] - 17s 47ms/step - loss: 0.0672 - accuracy: 0.9767 - val_loss: 0.3963 - val_accuracy: 0.9170\n",
            "Epoch 7/50\n",
            "351/351 [==============================] - 17s 47ms/step - loss: 0.0645 - accuracy: 0.9755 - val_loss: 0.3489 - val_accuracy: 0.9170\n",
            "Epoch 8/50\n",
            "351/351 [==============================] - 16s 47ms/step - loss: 0.0597 - accuracy: 0.9782 - val_loss: 0.4464 - val_accuracy: 0.9024\n",
            "Epoch 9/50\n",
            "351/351 [==============================] - 16s 46ms/step - loss: 0.0676 - accuracy: 0.9770 - val_loss: 0.3841 - val_accuracy: 0.9134\n",
            "Epoch 10/50\n",
            "351/351 [==============================] - 16s 46ms/step - loss: 0.0585 - accuracy: 0.9784 - val_loss: 0.3797 - val_accuracy: 0.9113\n",
            "Epoch 11/50\n",
            "351/351 [==============================] - 16s 47ms/step - loss: 0.0602 - accuracy: 0.9785 - val_loss: 0.3938 - val_accuracy: 0.9116\n",
            "Epoch 12/50\n",
            "351/351 [==============================] - 16s 46ms/step - loss: 0.0552 - accuracy: 0.9807 - val_loss: 0.3842 - val_accuracy: 0.9152\n",
            "Epoch 13/50\n",
            "351/351 [==============================] - 16s 46ms/step - loss: 0.0519 - accuracy: 0.9804 - val_loss: 0.3470 - val_accuracy: 0.9195\n",
            "Epoch 14/50\n",
            "351/351 [==============================] - 16s 47ms/step - loss: 0.0525 - accuracy: 0.9811 - val_loss: 0.3642 - val_accuracy: 0.9163\n",
            "Epoch 15/50\n",
            "351/351 [==============================] - 16s 45ms/step - loss: 0.0521 - accuracy: 0.9821 - val_loss: 0.3679 - val_accuracy: 0.9130\n",
            "Epoch 16/50\n",
            "351/351 [==============================] - 16s 47ms/step - loss: 0.0498 - accuracy: 0.9815 - val_loss: 0.3760 - val_accuracy: 0.9130\n",
            "Epoch 17/50\n",
            "351/351 [==============================] - 16s 45ms/step - loss: 0.0466 - accuracy: 0.9832 - val_loss: 0.4162 - val_accuracy: 0.9102\n",
            "Epoch 18/50\n",
            "351/351 [==============================] - 16s 46ms/step - loss: 0.0529 - accuracy: 0.9812 - val_loss: 0.3524 - val_accuracy: 0.9220\n",
            "Epoch 19/50\n",
            "351/351 [==============================] - 16s 46ms/step - loss: 0.0445 - accuracy: 0.9852 - val_loss: 0.3407 - val_accuracy: 0.9187\n",
            "Epoch 20/50\n",
            "351/351 [==============================] - 16s 46ms/step - loss: 0.0438 - accuracy: 0.9848 - val_loss: 0.3708 - val_accuracy: 0.9120\n",
            "Epoch 21/50\n",
            "351/351 [==============================] - 17s 48ms/step - loss: 0.0390 - accuracy: 0.9862 - val_loss: 0.3585 - val_accuracy: 0.9159\n",
            "Epoch 22/50\n",
            "351/351 [==============================] - 17s 48ms/step - loss: 0.0451 - accuracy: 0.9846 - val_loss: 0.3819 - val_accuracy: 0.9102\n",
            "Epoch 23/50\n",
            "351/351 [==============================] - 16s 46ms/step - loss: 0.0436 - accuracy: 0.9833 - val_loss: 0.3518 - val_accuracy: 0.9173\n",
            "Epoch 24/50\n",
            "351/351 [==============================] - 16s 46ms/step - loss: 0.0378 - accuracy: 0.9865 - val_loss: 0.3711 - val_accuracy: 0.9230\n",
            "Epoch 25/50\n",
            "351/351 [==============================] - 16s 46ms/step - loss: 0.0341 - accuracy: 0.9880 - val_loss: 0.3741 - val_accuracy: 0.9184\n",
            "Epoch 26/50\n",
            "351/351 [==============================] - 16s 46ms/step - loss: 0.0347 - accuracy: 0.9886 - val_loss: 0.3848 - val_accuracy: 0.9234\n",
            "Epoch 27/50\n",
            "351/351 [==============================] - 16s 46ms/step - loss: 0.0347 - accuracy: 0.9887 - val_loss: 0.3820 - val_accuracy: 0.9177\n",
            "Epoch 28/50\n",
            "351/351 [==============================] - 16s 46ms/step - loss: 0.0353 - accuracy: 0.9872 - val_loss: 0.3650 - val_accuracy: 0.9209\n",
            "Epoch 29/50\n",
            "351/351 [==============================] - 16s 46ms/step - loss: 0.0313 - accuracy: 0.9886 - val_loss: 0.3853 - val_accuracy: 0.9184\n"
          ]
        }
      ]
    },
    {
      "cell_type": "code",
      "source": [
        "#saving the model on disk\n",
        "pretrained_model.save(\"drive/MyDrive/cnn_assign3/intel-finetuned.h5\")"
      ],
      "metadata": {
        "id": "nP32uzpoU34t"
      },
      "execution_count": null,
      "outputs": []
    },
    {
      "cell_type": "code",
      "source": [
        "#getting train and validation accuracies\n",
        "train_acc_CNN = history.history['accuracy']\n",
        "val_acc_CNN = history.history['val_accuracy']\n",
        "\n",
        "#getting train and validation losses\n",
        "train_loss_CNN = history.history['loss']\n",
        "val_loss_CNN = history.history['val_loss']\n",
        "epochs = range(1, len(train_loss_CNN) + 1)\n",
        "\n",
        "#plotting the training and validation accurracies\n",
        "plt.plot(epochs, train_acc_CNN, 'b', label='Training acc')\n",
        "plt.plot(epochs, val_acc_CNN, 'r', label='Validation acc')\n",
        "plt.title('Training and validation accuracy for CNN')\n",
        "plt.legend()\n",
        "plt.figure()\n",
        "\n",
        "#plotting the train and validaiton losses\n",
        "plt.plot(epochs, train_loss_CNN, 'b', label='Training loss')\n",
        "plt.plot(epochs, val_loss_CNN, 'r', label='Validation loss')\n",
        "plt.title('Training and validation loss for CNN')\n",
        "plt.legend()\n",
        "\n",
        "plt.show()"
      ],
      "metadata": {
        "colab": {
          "base_uri": "https://localhost:8080/",
          "height": 545
        },
        "id": "PVcaPYfiMHZE",
        "outputId": "7038f9bd-53a7-4134-bdd1-290302395c80"
      },
      "execution_count": null,
      "outputs": [
        {
          "output_type": "display_data",
          "data": {
            "text/plain": [
              "<Figure size 432x288 with 1 Axes>"
            ],
            "image/png": "[encoded data removed]"
          },
          "metadata": {
            "needs_background": "light"
          }
        },
        {
          "output_type": "display_data",
          "data": {
            "text/plain": [
              "<Figure size 432x288 with 1 Axes>"
            ],
            "image/png": "[encoded data removed]"
          },
          "metadata": {
            "needs_background": "light"
          }
        }
      ]
    },
    {
      "cell_type": "markdown",
      "source": [
        "Transfer learning has increased the accuracy a few percentage points."
      ],
      "metadata": {
        "id": "G125yP9BU2iD"
      }
    },
    {
      "cell_type": "markdown",
      "source": [
        "# 6. Testing"
      ],
      "metadata": {
        "id": "5Df18FLoVAGZ"
      }
    },
    {
      "cell_type": "code",
      "source": [
        "test_dataset = image_dataset_from_directory(\n",
        "\"intel/seg_test\",\n",
        "image_size=(150, 150),\n",
        "batch_size=32,\n",
        "shuffle=False)"
      ],
      "metadata": {
        "colab": {
          "base_uri": "https://localhost:8080/"
        },
        "id": "RVG-fHNRU_W_",
        "outputId": "a6f75832-abae-400a-f6c7-afcd353a203d"
      },
      "execution_count": null,
      "outputs": [
        {
          "output_type": "stream",
          "name": "stdout",
          "text": [
            "Found 3000 files belonging to 6 classes.\n"
          ]
        }
      ]
    },
    {
      "cell_type": "code",
      "source": [
        "#compute the loss and accurracy on the test set using model.evaluate method\n",
        "test_loss, test_acc = pretrained_model.evaluate(test_dataset)\n",
        "print('test acc:', test_acc)"
      ],
      "metadata": {
        "colab": {
          "base_uri": "https://localhost:8080/"
        },
        "id": "ql9n5ZvXVs6p",
        "outputId": "7c76fd73-dcf4-4920-e264-fe9cf09e26ea"
      },
      "execution_count": null,
      "outputs": [
        {
          "output_type": "stream",
          "name": "stdout",
          "text": [
            "94/94 [==============================] - 3s 28ms/step - loss: 0.3961 - accuracy: 0.9090\n",
            "test acc: 0.9089999794960022\n"
          ]
        }
      ]
    },
    {
      "cell_type": "markdown",
      "source": [
        "Test accuracy was 90%"
      ],
      "metadata": {
        "id": "b9mUAMsVWPrV"
      }
    },
    {
      "cell_type": "code",
      "source": [
        "predicted_probs = pretrained_model.predict(test_dataset)\n",
        "pred_class = np.argmax(predicted_probs, axis=1)\n",
        "true_class_indices = np.concatenate([y for x, y in test_dataset], axis=0)\n"
      ],
      "metadata": {
        "colab": {
          "base_uri": "https://localhost:8080/"
        },
        "id": "_hITf3KzWSDV",
        "outputId": "371f738c-01af-472e-d3ca-217f00574ce3"
      },
      "execution_count": null,
      "outputs": [
        {
          "output_type": "stream",
          "name": "stdout",
          "text": [
            "94/94 [==============================] - 4s 23ms/step\n"
          ]
        }
      ]
    },
    {
      "cell_type": "code",
      "source": [
        "import matplotlib.pyplot as plt\n",
        "from sklearn.datasets import make_classification\n",
        "from sklearn.metrics import confusion_matrix, ConfusionMatrixDisplay\n",
        "\n",
        "cm = confusion_matrix(true_class_indices, pred_class, labels=[0,1,2,3,4,5])\n",
        "disp = ConfusionMatrixDisplay(confusion_matrix=cm, display_labels=[\"building\", \"forest\", \"glacier\", \"mountain\", \"sea\", \"street\"])\n",
        "disp.plot()\n",
        "plt.show()"
      ],
      "metadata": {
        "colab": {
          "base_uri": "https://localhost:8080/",
          "height": 279
        },
        "id": "o23sQRHMYjg9",
        "outputId": "c8b2a812-7d26-447d-a7ad-807da4761ec4"
      },
      "execution_count": null,
      "outputs": [
        {
          "output_type": "display_data",
          "data": {
            "text/plain": [
              "<Figure size 432x288 with 2 Axes>"
            ],
            "image/png": "[encoded data removed]"
          },
          "metadata": {
            "needs_background": "light"
          }
        }
      ]
    },
    {
      "cell_type": "markdown",
      "source": [
        "The model has trouble telling between glaciers and mountains; which is understandable. The model also has trouble differentiating streets from buildings, presumably because most buildings are on streets."
      ],
      "metadata": {
        "id": "Y-fu6ray0NtI"
      }
    },
    {
      "cell_type": "code",
      "source": [
        "\n",
        "#create a dictionary for label names.\n",
        "batch_size=32\n",
        "test_size=3000\n",
        "batch_index=0\n",
        "#Get each batch of images and labels in test dataset\n",
        "for image_batch,label_batch in test_dataset:\n",
        "    if batch_index>math.ceil(test_size/batch_size):\n",
        "        break;\n",
        "    # Get the predicted probabilities for the images in the batch. \n",
        "    y_pred = pretrained_model.predict(image_batch)\n",
        "    \n",
        "    \n",
        "    y_pred_label = np.argmax(y_pred, axis=1)\n",
        "    \n",
        "     #glacier/mtn and street/building errors\n",
        "    errors = np.where((y_pred_label == 0) & (label_batch ==5) | (y_pred_label == 2) & (label_batch ==3))[0]\n",
        "   \n",
        "  \n",
        "    #display the missclassified images together with their predicted probabilities\n",
        "    for i in errors:\n",
        "        print(f\"True label is: {label_batch[i]}, CNN predicted {y_pred_label[i]}\")\n",
        "        plt.imshow(image_batch[i].numpy().astype(\"uint8\"))\n",
        "        plt.show()\n",
        "        \n",
        "    #get the next batch\n",
        "    batch_index=batch_index+1"
      ],
      "metadata": {
        "id": "Y6DpIpej0sjm"
      },
      "execution_count": null,
      "outputs": []
    },
    {
      "cell_type": "markdown",
      "source": [
        "The visual is as expected with the street and building confusion as almost all of those misclassifications have both items in the image. The mtn vs glacier misclassification appears to have a lot to do with snow. If there is snow on the mountain or in the picture it almost always classified it as a glacier."
      ],
      "metadata": {
        "id": "HBS_lnAuNkKp"
      }
    }
  ]
}